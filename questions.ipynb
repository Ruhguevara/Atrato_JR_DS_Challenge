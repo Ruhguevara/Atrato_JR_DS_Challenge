{
 "cells": [
  {
   "cell_type": "markdown",
   "metadata": {},
   "source": []
  },
  {
   "cell_type": "markdown",
   "metadata": {},
   "source": [
    "It is important to have a basic understanding of Machine Learning algorithms and their applications. Please answer the following questions:"
   ]
  },
  {
   "cell_type": "markdown",
   "metadata": {},
   "source": [
    "**a. Describe briefly each of the following algorithms and its typical use cases:**\n",
    "\n",
    "- Logistic Regression.\n",
    "- Multiple Linear Regression.\n",
    "- Random Forest\n",
    "- XGBoost\n",
    "- Genetic Algorithms.\n",
    "- KMeans"
   ]
  },
  {
   "cell_type": "markdown",
   "metadata": {},
   "source": [
    "**b. What is the difference between supervised and unsupervised learning algorithms?**\n",
    "- Describe the types of supervised and unsupervised learning"
   ]
  },
  {
   "cell_type": "markdown",
   "metadata": {},
   "source": [
    "**c. Are you familiar with any techniques for algorithm evaluation and performance metrics?**"
   ]
  },
  {
   "cell_type": "markdown",
   "metadata": {},
   "source": [
    "**d. Observe the distribution plot of the followig variable:**\n",
    "\n",
    "- What can you infer about the data's asymmetry? Would you say the distribution is symmetric, skewed to the right (positively skewed), or skewed to the left (negatively skewed)? Please provide a brief explanation of your answer based on the shape of the plot.\n",
    "\n",
    "- In the distribution plot, what can you infer about the data's concentration? Does the distribution exhibit a pronounced peak or is it more flattened?"
   ]
  },
  {
   "cell_type": "markdown",
   "metadata": {},
   "source": [
    "**Extra points:**\n",
    "\n",
    "**a. Are you familiar with any technique to reduce bias in the distribution of a variable? If so, please mention the technique.**\n",
    "\n",
    "**b. How would you apply the technique to a DataFrame in Python?**"
   ]
  },
  {
   "cell_type": "code",
   "execution_count": null,
   "metadata": {
    "vscode": {
     "languageId": "plaintext"
    }
   },
   "outputs": [],
   "source": []
  },
  {
   "cell_type": "code",
   "execution_count": null,
   "metadata": {
    "vscode": {
     "languageId": "plaintext"
    }
   },
   "outputs": [],
   "source": []
  },
  {
   "cell_type": "code",
   "execution_count": null,
   "metadata": {
    "vscode": {
     "languageId": "plaintext"
    }
   },
   "outputs": [],
   "source": []
  },
  {
   "cell_type": "code",
   "execution_count": null,
   "metadata": {
    "vscode": {
     "languageId": "plaintext"
    }
   },
   "outputs": [],
   "source": []
  }
 ],
 "metadata": {
  "language_info": {
   "name": "python"
  }
 },
 "nbformat": 4,
 "nbformat_minor": 2
}
