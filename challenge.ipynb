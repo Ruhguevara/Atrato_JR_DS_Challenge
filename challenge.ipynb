{
 "cells": [
  {
   "cell_type": "markdown",
   "id": "a2176836-bc09-43be-8e31-9c122c669754",
   "metadata": {},
   "source": [
    "<hr style=\"border:0.02in solid gray\"> </hr>\n",
    "\n",
    "<center> <font color= #847ACC> <h1> Atrato JR Data Scientist Challenge <center></h1> </font>\n",
    "    \n",
    "<center> <font color= #847ACC> <font size = 4>  Rubén Hernández Guevara <center> </font> \n",
    "<br>\n",
    "<center> Repository: https://github.com/Ruhguevara/Atrato_JR_DS_Challenge\n",
    "<br>\n",
    "<br>\n",
    "<hr style=\"border:0.02in solid gray\"> </hr>\n"
   ]
  },
  {
   "cell_type": "markdown",
   "id": "d2323ea4-197f-4e3c-be54-7f473550d13b",
   "metadata": {},
   "source": [
    "<font color= #847ACC> <h1> Problem: </h1> </font>\n",
    "\n",
    "**Introduction:** \n",
    "\n",
    "In this challenge, you will tackle the task of predicting the probability that a student will pass a grade. As a data scientist, you must choose and apply the best algorithm to build a predictive model. \n",
    "\n",
    "**Context:** \n",
    "\n",
    "Imagine you are part of a data science team working for an educational institution. The team is tasked with developing a predictive model that can assist in identifying students who are likely to pass or fail the grade. Such a model can provide valuable insights into student performance and help in designing targeted interventions to support struggling students.\n",
    "\n",
    "**Tasks:**\n",
    "\n",
    "- Load and explore the dataset\n",
    "- Visualize the relationships:\n",
    "    - Bivariate analysis.\n",
    "    - Correlation matrix.\n",
    "    - Others\n",
    "- Normalize or standardize features if necessary.\n",
    "- Build a predictive model.\n",
    "- Train the model.\n",
    "- Assess the model's performance using metrics such as accuracy, confusion matrix, and classification report.\n",
    "- Interpret the results of the model.\n",
    "- Communicate conclusions regarding the founding relationships.\n",
    "- Provide actionable recommendations based on the\n",
    "\n",
    "**Dataset:** \n",
    "\n",
    "https://archive.ics.uci.edu/dataset/320/student+performance\n",
    "\n",
    "- Share a diagram that shows an en-to- end pipeline data science project from experimentation to a productive environment.\n",
    "- You can use https://www.drawio.com/\n",
    "\n",
    "**Extra Points:**\n",
    "- How to integrate DVC in the pipeline.\n",
    "- How to integrate MLFLOW in the pipeline.\n",
    "\n",
    "Can you explain and give eofes about the following concepts:\n",
    "- Encapsulation\n",
    "- Abstraction\n",
    "- Inheritance\n",
    "- Polymorphis\n",
    "\n",
    "___"
   ]
  },
  {
   "cell_type": "markdown",
   "id": "a99483e8-f138-411c-b6b8-89379899122a",
   "metadata": {},
   "source": [
    "<h1> <font color= #847ACC> Content </h1>\n",
    "<a id=\"IND\"></a>\n",
    "\n",
    "<b> I.  [Exploratory Data Analysis and Data Cleaning](#EDA) </b><br>\n",
    "- [] [Exploration](#EXP)\n",
    "- [] [Missing Values](#MISS)\n",
    "- [] [Duplicates](#DUPLI)\n",
    "- [] [Unique Value](#UNIQ)\n",
    "- [] [Correlation](#CORR)\n",
    "\n",
    "<b> II. [Statistics](#EST)</b><br>\n",
    "- [] [Measures of Central Tendency & Variability](#MTCV)\n",
    "- [] [Distributions](#DIST)\n",
    "- [] [Class Balance](#BAL)\n",
    "    \n",
    "<b> III. [Pre-processing](#PREP)</b><br>\n",
    "- [] [Scaling](#SCAL)\n",
    "- [] [Sampling](#SAMP)\n",
    "\n",
    "<b> IV. [Models](#MODELOS)</b><br>\n",
    "- [] [Logistic Regression](#RL)\n",
    "  - [] [Metrics](#MRL)\n",
    "  - [] [Decile Analysis](#ADE)\n",
    "- [] [XGBoost](#XGB)\n",
    "    \n",
    "<b> V. [Conclusions](#CONC)</b><br>\n",
    "\n",
    "___"
   ]
  },
  {
   "cell_type": "markdown",
   "id": "5235337b-2fa2-4c7b-bb11-5e4571782221",
   "metadata": {},
   "source": [
    "### How to run the notebook:\n",
    "\n",
    "First, it is suggested to create a virtual environment and activate it with the following command:\n",
    "\n",
    "`python -m venv venv` -> `source venv/Scripts/activate` \n",
    "\n",
    "After activating the virtual env, install the requirements:\n",
    "\n",
    "`pip install -r requirements.txt`\n",
    "\n",
    "Then, execute the following code to start the notebook:\n",
    "\n",
    "`jupyter notebook`\n",
    "\n",
    "___"
   ]
  },
  {
   "cell_type": "code",
   "execution_count": 1,
   "id": "ce07898f-4877-4c6f-85a8-1f252c7d9210",
   "metadata": {},
   "outputs": [],
   "source": [
    "# Data manipulation and analysis\n",
    "import pandas as pd\n",
    "import numpy as np\n",
    "\n",
    "# Visualization\n",
    "import matplotlib.pyplot as plt\n",
    "import seaborn as sns\n",
    "import matplotlib\n",
    "import plotly.express as px\n",
    "import plotly.graph_objects as go\n",
    "from IPython.display import display_html\n",
    "\n",
    "\n",
    "# Machine Learning\n",
    "from sklearn.preprocessing import RobustScaler\n",
    "from sklearn.linear_model import LogisticRegression\n",
    "from sklearn.model_selection import train_test_split, GridSearchCV, learning_curve\n",
    "from sklearn.metrics import precision_score, recall_score, f1_score, classification_report, roc_curve, confusion_matrix, make_scorer, roc_auc_score\n",
    "\n",
    "# Aditional Libraries\n",
    "from collections import Counter\n",
    "from EDA import DataExplorer as de # I made this script\n",
    "import time\n",
    "\n",
    "# Configurations\n",
    "import warnings\n",
    "warnings.filterwarnings(\"ignore\")\n",
    "pd.set_option('display.max_columns', None)\n",
    "matplotlib.style.use('seaborn')\n",
    "\n",
    "from imblearn.over_sampling import SMOTE\n",
    "from imblearn.under_sampling import RandomUnderSampler\n",
    "from imblearn.pipeline import Pipeline"
   ]
  },
  {
   "cell_type": "code",
   "execution_count": 2,
   "id": "41fd186b-0b34-44da-baf8-ee5c27880975",
   "metadata": {},
   "outputs": [],
   "source": [
    "start_time = time.time()"
   ]
  },
  {
   "cell_type": "markdown",
   "metadata": {},
   "source": [
    "847ACC"
   ]
  },
  {
   "cell_type": "markdown",
   "metadata": {},
   "source": [
    "<h1> <font color= #847ACC> Exploratory Data Analysis and Cleaning </h1>\n",
    "<a id=\"EDA\"></a>"
   ]
  },
  {
   "cell_type": "markdown",
   "metadata": {},
   "source": [
    "<div style=\"border-radius:14px; border:#847ACC solid; padding: 15px; background-color: #FFFFFF; font-size:100%; text-align:left\">\n",
    "<h3 align=\"left\"><font color='#847ACC'>💡 Parquet:</font></h3>\n",
    "    \n",
    "Parquet as a data storage reduces file size, processing time, and associated costs, which translates to saved money, time, and storage.\n",
    "    \n",
    "<center><img src=\"imgs/parquet.png\" width=\"650\" height=\"200\"></center>\n",
    "    \n",
    "Source: <br>\n",
    "<a href=\"https://parquet.apache.org/docs/\"> Apache Parquet Documentation </a> <br>\n",
    "<a href=\"https://www.databricks.com/glossary/what-is-parquet\"> General Description </a> <br>    "
   ]
  },
  {
   "cell_type": "markdown",
   "metadata": {},
   "source": [
    "<div style=\"border-radius:14px; border:#847ACC solid; padding: 15px; background-color: #FFFFFF; font-size:100%; text-align:left\">\n",
    "<h3 align=\"left\"><font color='#847ACC'>💡</font></h3>\n",
    "\n",
    "**``The 2.0 version of pandas introduces the Apache Arrow backend, which allows for a more efficient way of storing data in memory:``**\n",
    "\n",
    "For example:\n",
    "- int64 $\\rightarrow$ int64[pyarrow]\n",
    "- float64 $\\rightarrow$ double[pyarrow]\n",
    "- string $\\rightarrow$ string[pyarrow]\n",
    "    \n",
    "For the first part of the project, I will work with the pyarrow backend. Since it is the most recent version of pandas, there are some compatibility issues when modeling.\n",
    "\n",
    "Another alternative could be PySpark or the recent cuDF from NVDIA.\n",
    "\n",
    "**Example of data lecture improvement with `parquet` and `pyarrow`:**"
   ]
  },
  {
   "cell_type": "markdown",
   "metadata": {},
   "source": [
    "<div style=\"border-radius:14px; border:#847ACC solid; padding: 15px; background-color: #FFFFFF; font-size:100%; text-align:left\">\n",
    "<h3 align=\"left\"><font color='#847ACC'>💡</font></h3>\n",
    "\n",
    "a"
   ]
  },
  {
   "cell_type": "code",
   "execution_count": 3,
   "metadata": {},
   "outputs": [],
   "source": [
    "df = pd.read_csv('data/student-mat.csv', sep = ';')"
   ]
  },
  {
   "cell_type": "code",
   "execution_count": 4,
   "metadata": {},
   "outputs": [],
   "source": [
    "df[\"approved\"] = [1 if df[\"G3\"][i] > 12 else 0 for i in range(len(df))]"
   ]
  },
  {
   "cell_type": "markdown",
   "metadata": {},
   "source": [
    "[<div style=\"text-align:center\"><img src=\"imgs/arrow.png\" width=\"15\" height=\"10\"></div>](#IND)\n",
    "<h2> <font color= #847ACC> Exploration </h2>\n",
    "<a id=\"EXP\"></a>"
   ]
  },
  {
   "cell_type": "code",
   "execution_count": 5,
   "metadata": {},
   "outputs": [
    {
     "name": "stdout",
     "output_type": "stream",
     "text": [
      "<class 'pandas.core.frame.DataFrame'>\n",
      "RangeIndex: 395 entries, 0 to 394\n",
      "Data columns (total 34 columns):\n",
      " #   Column      Non-Null Count  Dtype \n",
      "---  ------      --------------  ----- \n",
      " 0   school      395 non-null    object\n",
      " 1   sex         395 non-null    object\n",
      " 2   age         395 non-null    int64 \n",
      " 3   address     395 non-null    object\n",
      " 4   famsize     395 non-null    object\n",
      " 5   Pstatus     395 non-null    object\n",
      " 6   Medu        395 non-null    int64 \n",
      " 7   Fedu        395 non-null    int64 \n",
      " 8   Mjob        395 non-null    object\n",
      " 9   Fjob        395 non-null    object\n",
      " 10  reason      395 non-null    object\n",
      " 11  guardian    395 non-null    object\n",
      " 12  traveltime  395 non-null    int64 \n",
      " 13  studytime   395 non-null    int64 \n",
      " 14  failures    395 non-null    int64 \n",
      " 15  schoolsup   395 non-null    object\n",
      " 16  famsup      395 non-null    object\n",
      " 17  paid        395 non-null    object\n",
      " 18  activities  395 non-null    object\n",
      " 19  nursery     395 non-null    object\n",
      " 20  higher      395 non-null    object\n",
      " 21  internet    395 non-null    object\n",
      " 22  romantic    395 non-null    object\n",
      " 23  famrel      395 non-null    int64 \n",
      " 24  freetime    395 non-null    int64 \n",
      " 25  goout       395 non-null    int64 \n",
      " 26  Dalc        395 non-null    int64 \n",
      " 27  Walc        395 non-null    int64 \n",
      " 28  health      395 non-null    int64 \n",
      " 29  absences    395 non-null    int64 \n",
      " 30  G1          395 non-null    int64 \n",
      " 31  G2          395 non-null    int64 \n",
      " 32  G3          395 non-null    int64 \n",
      " 33  approved    395 non-null    int64 \n",
      "dtypes: int64(17), object(17)\n",
      "memory usage: 105.0+ KB\n"
     ]
    }
   ],
   "source": [
    "df.info()"
   ]
  },
  {
   "cell_type": "code",
   "execution_count": 6,
   "metadata": {},
   "outputs": [
    {
     "data": {
      "text/html": [
       "<div>\n",
       "<style scoped>\n",
       "    .dataframe tbody tr th:only-of-type {\n",
       "        vertical-align: middle;\n",
       "    }\n",
       "\n",
       "    .dataframe tbody tr th {\n",
       "        vertical-align: top;\n",
       "    }\n",
       "\n",
       "    .dataframe thead th {\n",
       "        text-align: right;\n",
       "    }\n",
       "</style>\n",
       "<table border=\"1\" class=\"dataframe\">\n",
       "  <thead>\n",
       "    <tr style=\"text-align: right;\">\n",
       "      <th></th>\n",
       "      <th>school</th>\n",
       "      <th>sex</th>\n",
       "      <th>age</th>\n",
       "      <th>address</th>\n",
       "      <th>famsize</th>\n",
       "      <th>Pstatus</th>\n",
       "      <th>Medu</th>\n",
       "      <th>Fedu</th>\n",
       "      <th>Mjob</th>\n",
       "      <th>Fjob</th>\n",
       "      <th>reason</th>\n",
       "      <th>guardian</th>\n",
       "      <th>traveltime</th>\n",
       "      <th>studytime</th>\n",
       "      <th>failures</th>\n",
       "      <th>schoolsup</th>\n",
       "      <th>famsup</th>\n",
       "      <th>paid</th>\n",
       "      <th>activities</th>\n",
       "      <th>nursery</th>\n",
       "      <th>higher</th>\n",
       "      <th>internet</th>\n",
       "      <th>romantic</th>\n",
       "      <th>famrel</th>\n",
       "      <th>freetime</th>\n",
       "      <th>goout</th>\n",
       "      <th>Dalc</th>\n",
       "      <th>Walc</th>\n",
       "      <th>health</th>\n",
       "      <th>absences</th>\n",
       "      <th>G1</th>\n",
       "      <th>G2</th>\n",
       "      <th>G3</th>\n",
       "      <th>approved</th>\n",
       "    </tr>\n",
       "  </thead>\n",
       "  <tbody>\n",
       "    <tr>\n",
       "      <th>0</th>\n",
       "      <td>GP</td>\n",
       "      <td>F</td>\n",
       "      <td>18</td>\n",
       "      <td>U</td>\n",
       "      <td>GT3</td>\n",
       "      <td>A</td>\n",
       "      <td>4</td>\n",
       "      <td>4</td>\n",
       "      <td>at_home</td>\n",
       "      <td>teacher</td>\n",
       "      <td>course</td>\n",
       "      <td>mother</td>\n",
       "      <td>2</td>\n",
       "      <td>2</td>\n",
       "      <td>0</td>\n",
       "      <td>yes</td>\n",
       "      <td>no</td>\n",
       "      <td>no</td>\n",
       "      <td>no</td>\n",
       "      <td>yes</td>\n",
       "      <td>yes</td>\n",
       "      <td>no</td>\n",
       "      <td>no</td>\n",
       "      <td>4</td>\n",
       "      <td>3</td>\n",
       "      <td>4</td>\n",
       "      <td>1</td>\n",
       "      <td>1</td>\n",
       "      <td>3</td>\n",
       "      <td>6</td>\n",
       "      <td>5</td>\n",
       "      <td>6</td>\n",
       "      <td>6</td>\n",
       "      <td>0</td>\n",
       "    </tr>\n",
       "    <tr>\n",
       "      <th>1</th>\n",
       "      <td>GP</td>\n",
       "      <td>F</td>\n",
       "      <td>17</td>\n",
       "      <td>U</td>\n",
       "      <td>GT3</td>\n",
       "      <td>T</td>\n",
       "      <td>1</td>\n",
       "      <td>1</td>\n",
       "      <td>at_home</td>\n",
       "      <td>other</td>\n",
       "      <td>course</td>\n",
       "      <td>father</td>\n",
       "      <td>1</td>\n",
       "      <td>2</td>\n",
       "      <td>0</td>\n",
       "      <td>no</td>\n",
       "      <td>yes</td>\n",
       "      <td>no</td>\n",
       "      <td>no</td>\n",
       "      <td>no</td>\n",
       "      <td>yes</td>\n",
       "      <td>yes</td>\n",
       "      <td>no</td>\n",
       "      <td>5</td>\n",
       "      <td>3</td>\n",
       "      <td>3</td>\n",
       "      <td>1</td>\n",
       "      <td>1</td>\n",
       "      <td>3</td>\n",
       "      <td>4</td>\n",
       "      <td>5</td>\n",
       "      <td>5</td>\n",
       "      <td>6</td>\n",
       "      <td>0</td>\n",
       "    </tr>\n",
       "  </tbody>\n",
       "</table>\n",
       "</div>"
      ]
     },
     "metadata": {},
     "output_type": "display_data"
    },
    {
     "data": {
      "text/html": [
       "<div>\n",
       "<style scoped>\n",
       "    .dataframe tbody tr th:only-of-type {\n",
       "        vertical-align: middle;\n",
       "    }\n",
       "\n",
       "    .dataframe tbody tr th {\n",
       "        vertical-align: top;\n",
       "    }\n",
       "\n",
       "    .dataframe thead th {\n",
       "        text-align: right;\n",
       "    }\n",
       "</style>\n",
       "<table border=\"1\" class=\"dataframe\">\n",
       "  <thead>\n",
       "    <tr style=\"text-align: right;\">\n",
       "      <th></th>\n",
       "      <th>school</th>\n",
       "      <th>sex</th>\n",
       "      <th>age</th>\n",
       "      <th>address</th>\n",
       "      <th>famsize</th>\n",
       "      <th>Pstatus</th>\n",
       "      <th>Medu</th>\n",
       "      <th>Fedu</th>\n",
       "      <th>Mjob</th>\n",
       "      <th>Fjob</th>\n",
       "      <th>reason</th>\n",
       "      <th>guardian</th>\n",
       "      <th>traveltime</th>\n",
       "      <th>studytime</th>\n",
       "      <th>failures</th>\n",
       "      <th>schoolsup</th>\n",
       "      <th>famsup</th>\n",
       "      <th>paid</th>\n",
       "      <th>activities</th>\n",
       "      <th>nursery</th>\n",
       "      <th>higher</th>\n",
       "      <th>internet</th>\n",
       "      <th>romantic</th>\n",
       "      <th>famrel</th>\n",
       "      <th>freetime</th>\n",
       "      <th>goout</th>\n",
       "      <th>Dalc</th>\n",
       "      <th>Walc</th>\n",
       "      <th>health</th>\n",
       "      <th>absences</th>\n",
       "      <th>G1</th>\n",
       "      <th>G2</th>\n",
       "      <th>G3</th>\n",
       "      <th>approved</th>\n",
       "    </tr>\n",
       "  </thead>\n",
       "  <tbody>\n",
       "    <tr>\n",
       "      <th>378</th>\n",
       "      <td>MS</td>\n",
       "      <td>F</td>\n",
       "      <td>18</td>\n",
       "      <td>U</td>\n",
       "      <td>GT3</td>\n",
       "      <td>T</td>\n",
       "      <td>3</td>\n",
       "      <td>3</td>\n",
       "      <td>other</td>\n",
       "      <td>other</td>\n",
       "      <td>home</td>\n",
       "      <td>mother</td>\n",
       "      <td>1</td>\n",
       "      <td>2</td>\n",
       "      <td>0</td>\n",
       "      <td>no</td>\n",
       "      <td>no</td>\n",
       "      <td>yes</td>\n",
       "      <td>no</td>\n",
       "      <td>yes</td>\n",
       "      <td>yes</td>\n",
       "      <td>yes</td>\n",
       "      <td>yes</td>\n",
       "      <td>4</td>\n",
       "      <td>1</td>\n",
       "      <td>3</td>\n",
       "      <td>1</td>\n",
       "      <td>2</td>\n",
       "      <td>1</td>\n",
       "      <td>0</td>\n",
       "      <td>15</td>\n",
       "      <td>15</td>\n",
       "      <td>15</td>\n",
       "      <td>1</td>\n",
       "    </tr>\n",
       "    <tr>\n",
       "      <th>282</th>\n",
       "      <td>GP</td>\n",
       "      <td>F</td>\n",
       "      <td>18</td>\n",
       "      <td>R</td>\n",
       "      <td>LE3</td>\n",
       "      <td>T</td>\n",
       "      <td>1</td>\n",
       "      <td>1</td>\n",
       "      <td>at_home</td>\n",
       "      <td>other</td>\n",
       "      <td>reputation</td>\n",
       "      <td>mother</td>\n",
       "      <td>2</td>\n",
       "      <td>4</td>\n",
       "      <td>0</td>\n",
       "      <td>no</td>\n",
       "      <td>yes</td>\n",
       "      <td>yes</td>\n",
       "      <td>yes</td>\n",
       "      <td>yes</td>\n",
       "      <td>yes</td>\n",
       "      <td>no</td>\n",
       "      <td>no</td>\n",
       "      <td>5</td>\n",
       "      <td>2</td>\n",
       "      <td>2</td>\n",
       "      <td>1</td>\n",
       "      <td>1</td>\n",
       "      <td>3</td>\n",
       "      <td>1</td>\n",
       "      <td>12</td>\n",
       "      <td>12</td>\n",
       "      <td>12</td>\n",
       "      <td>0</td>\n",
       "    </tr>\n",
       "    <tr>\n",
       "      <th>129</th>\n",
       "      <td>GP</td>\n",
       "      <td>M</td>\n",
       "      <td>16</td>\n",
       "      <td>R</td>\n",
       "      <td>GT3</td>\n",
       "      <td>T</td>\n",
       "      <td>4</td>\n",
       "      <td>4</td>\n",
       "      <td>teacher</td>\n",
       "      <td>teacher</td>\n",
       "      <td>course</td>\n",
       "      <td>mother</td>\n",
       "      <td>1</td>\n",
       "      <td>1</td>\n",
       "      <td>0</td>\n",
       "      <td>no</td>\n",
       "      <td>no</td>\n",
       "      <td>yes</td>\n",
       "      <td>yes</td>\n",
       "      <td>yes</td>\n",
       "      <td>yes</td>\n",
       "      <td>yes</td>\n",
       "      <td>no</td>\n",
       "      <td>3</td>\n",
       "      <td>5</td>\n",
       "      <td>5</td>\n",
       "      <td>2</td>\n",
       "      <td>5</td>\n",
       "      <td>4</td>\n",
       "      <td>8</td>\n",
       "      <td>18</td>\n",
       "      <td>18</td>\n",
       "      <td>18</td>\n",
       "      <td>1</td>\n",
       "    </tr>\n",
       "    <tr>\n",
       "      <th>214</th>\n",
       "      <td>GP</td>\n",
       "      <td>F</td>\n",
       "      <td>17</td>\n",
       "      <td>R</td>\n",
       "      <td>LE3</td>\n",
       "      <td>T</td>\n",
       "      <td>4</td>\n",
       "      <td>4</td>\n",
       "      <td>services</td>\n",
       "      <td>other</td>\n",
       "      <td>other</td>\n",
       "      <td>mother</td>\n",
       "      <td>1</td>\n",
       "      <td>1</td>\n",
       "      <td>0</td>\n",
       "      <td>no</td>\n",
       "      <td>yes</td>\n",
       "      <td>yes</td>\n",
       "      <td>no</td>\n",
       "      <td>yes</td>\n",
       "      <td>yes</td>\n",
       "      <td>no</td>\n",
       "      <td>no</td>\n",
       "      <td>5</td>\n",
       "      <td>2</td>\n",
       "      <td>1</td>\n",
       "      <td>1</td>\n",
       "      <td>2</td>\n",
       "      <td>3</td>\n",
       "      <td>12</td>\n",
       "      <td>8</td>\n",
       "      <td>10</td>\n",
       "      <td>10</td>\n",
       "      <td>0</td>\n",
       "    </tr>\n",
       "    <tr>\n",
       "      <th>390</th>\n",
       "      <td>MS</td>\n",
       "      <td>M</td>\n",
       "      <td>20</td>\n",
       "      <td>U</td>\n",
       "      <td>LE3</td>\n",
       "      <td>A</td>\n",
       "      <td>2</td>\n",
       "      <td>2</td>\n",
       "      <td>services</td>\n",
       "      <td>services</td>\n",
       "      <td>course</td>\n",
       "      <td>other</td>\n",
       "      <td>1</td>\n",
       "      <td>2</td>\n",
       "      <td>2</td>\n",
       "      <td>no</td>\n",
       "      <td>yes</td>\n",
       "      <td>yes</td>\n",
       "      <td>no</td>\n",
       "      <td>yes</td>\n",
       "      <td>yes</td>\n",
       "      <td>no</td>\n",
       "      <td>no</td>\n",
       "      <td>5</td>\n",
       "      <td>5</td>\n",
       "      <td>4</td>\n",
       "      <td>4</td>\n",
       "      <td>5</td>\n",
       "      <td>4</td>\n",
       "      <td>11</td>\n",
       "      <td>9</td>\n",
       "      <td>9</td>\n",
       "      <td>9</td>\n",
       "      <td>0</td>\n",
       "    </tr>\n",
       "  </tbody>\n",
       "</table>\n",
       "</div>"
      ]
     },
     "metadata": {},
     "output_type": "display_data"
    },
    {
     "data": {
      "text/html": [
       "<div>\n",
       "<style scoped>\n",
       "    .dataframe tbody tr th:only-of-type {\n",
       "        vertical-align: middle;\n",
       "    }\n",
       "\n",
       "    .dataframe tbody tr th {\n",
       "        vertical-align: top;\n",
       "    }\n",
       "\n",
       "    .dataframe thead th {\n",
       "        text-align: right;\n",
       "    }\n",
       "</style>\n",
       "<table border=\"1\" class=\"dataframe\">\n",
       "  <thead>\n",
       "    <tr style=\"text-align: right;\">\n",
       "      <th></th>\n",
       "      <th>school</th>\n",
       "      <th>sex</th>\n",
       "      <th>age</th>\n",
       "      <th>address</th>\n",
       "      <th>famsize</th>\n",
       "      <th>Pstatus</th>\n",
       "      <th>Medu</th>\n",
       "      <th>Fedu</th>\n",
       "      <th>Mjob</th>\n",
       "      <th>Fjob</th>\n",
       "      <th>reason</th>\n",
       "      <th>guardian</th>\n",
       "      <th>traveltime</th>\n",
       "      <th>studytime</th>\n",
       "      <th>failures</th>\n",
       "      <th>schoolsup</th>\n",
       "      <th>famsup</th>\n",
       "      <th>paid</th>\n",
       "      <th>activities</th>\n",
       "      <th>nursery</th>\n",
       "      <th>higher</th>\n",
       "      <th>internet</th>\n",
       "      <th>romantic</th>\n",
       "      <th>famrel</th>\n",
       "      <th>freetime</th>\n",
       "      <th>goout</th>\n",
       "      <th>Dalc</th>\n",
       "      <th>Walc</th>\n",
       "      <th>health</th>\n",
       "      <th>absences</th>\n",
       "      <th>G1</th>\n",
       "      <th>G2</th>\n",
       "      <th>G3</th>\n",
       "      <th>approved</th>\n",
       "    </tr>\n",
       "  </thead>\n",
       "  <tbody>\n",
       "    <tr>\n",
       "      <th>393</th>\n",
       "      <td>MS</td>\n",
       "      <td>M</td>\n",
       "      <td>18</td>\n",
       "      <td>R</td>\n",
       "      <td>LE3</td>\n",
       "      <td>T</td>\n",
       "      <td>3</td>\n",
       "      <td>2</td>\n",
       "      <td>services</td>\n",
       "      <td>other</td>\n",
       "      <td>course</td>\n",
       "      <td>mother</td>\n",
       "      <td>3</td>\n",
       "      <td>1</td>\n",
       "      <td>0</td>\n",
       "      <td>no</td>\n",
       "      <td>no</td>\n",
       "      <td>no</td>\n",
       "      <td>no</td>\n",
       "      <td>no</td>\n",
       "      <td>yes</td>\n",
       "      <td>yes</td>\n",
       "      <td>no</td>\n",
       "      <td>4</td>\n",
       "      <td>4</td>\n",
       "      <td>1</td>\n",
       "      <td>3</td>\n",
       "      <td>4</td>\n",
       "      <td>5</td>\n",
       "      <td>0</td>\n",
       "      <td>11</td>\n",
       "      <td>12</td>\n",
       "      <td>10</td>\n",
       "      <td>0</td>\n",
       "    </tr>\n",
       "    <tr>\n",
       "      <th>394</th>\n",
       "      <td>MS</td>\n",
       "      <td>M</td>\n",
       "      <td>19</td>\n",
       "      <td>U</td>\n",
       "      <td>LE3</td>\n",
       "      <td>T</td>\n",
       "      <td>1</td>\n",
       "      <td>1</td>\n",
       "      <td>other</td>\n",
       "      <td>at_home</td>\n",
       "      <td>course</td>\n",
       "      <td>father</td>\n",
       "      <td>1</td>\n",
       "      <td>1</td>\n",
       "      <td>0</td>\n",
       "      <td>no</td>\n",
       "      <td>no</td>\n",
       "      <td>no</td>\n",
       "      <td>no</td>\n",
       "      <td>yes</td>\n",
       "      <td>yes</td>\n",
       "      <td>yes</td>\n",
       "      <td>no</td>\n",
       "      <td>3</td>\n",
       "      <td>2</td>\n",
       "      <td>3</td>\n",
       "      <td>3</td>\n",
       "      <td>3</td>\n",
       "      <td>5</td>\n",
       "      <td>5</td>\n",
       "      <td>8</td>\n",
       "      <td>9</td>\n",
       "      <td>9</td>\n",
       "      <td>0</td>\n",
       "    </tr>\n",
       "  </tbody>\n",
       "</table>\n",
       "</div>"
      ]
     },
     "metadata": {},
     "output_type": "display_data"
    }
   ],
   "source": [
    "display_html(df.head(2), df.sample(5), df.tail(2))"
   ]
  },
  {
   "cell_type": "code",
   "execution_count": 7,
   "metadata": {},
   "outputs": [
    {
     "data": {
      "text/plain": [
       "Counter({0: 264, 1: 131})"
      ]
     },
     "execution_count": 7,
     "metadata": {},
     "output_type": "execute_result"
    }
   ],
   "source": [
    "Counter(df[\"approved\"])"
   ]
  },
  {
   "cell_type": "code",
   "execution_count": 8,
   "metadata": {},
   "outputs": [
    {
     "name": "stdout",
     "output_type": "stream",
     "text": [
      "(395, 34)\n"
     ]
    }
   ],
   "source": [
    "df_shape_1 = df.shape\n",
    "print(df_shape_1)"
   ]
  },
  {
   "cell_type": "code",
   "execution_count": 9,
   "metadata": {},
   "outputs": [
    {
     "data": {
      "text/html": [
       "<div>\n",
       "<style scoped>\n",
       "    .dataframe tbody tr th:only-of-type {\n",
       "        vertical-align: middle;\n",
       "    }\n",
       "\n",
       "    .dataframe tbody tr th {\n",
       "        vertical-align: top;\n",
       "    }\n",
       "\n",
       "    .dataframe thead th {\n",
       "        text-align: right;\n",
       "    }\n",
       "</style>\n",
       "<table border=\"1\" class=\"dataframe\">\n",
       "  <thead>\n",
       "    <tr style=\"text-align: right;\">\n",
       "      <th></th>\n",
       "      <th>school</th>\n",
       "      <th>sex</th>\n",
       "      <th>age</th>\n",
       "      <th>address</th>\n",
       "      <th>famsize</th>\n",
       "      <th>Pstatus</th>\n",
       "      <th>Medu</th>\n",
       "      <th>Fedu</th>\n",
       "      <th>Mjob</th>\n",
       "      <th>Fjob</th>\n",
       "      <th>reason</th>\n",
       "      <th>guardian</th>\n",
       "      <th>traveltime</th>\n",
       "      <th>studytime</th>\n",
       "      <th>failures</th>\n",
       "      <th>schoolsup</th>\n",
       "      <th>famsup</th>\n",
       "      <th>paid</th>\n",
       "      <th>activities</th>\n",
       "      <th>nursery</th>\n",
       "      <th>higher</th>\n",
       "      <th>internet</th>\n",
       "      <th>romantic</th>\n",
       "      <th>famrel</th>\n",
       "      <th>freetime</th>\n",
       "      <th>goout</th>\n",
       "      <th>Dalc</th>\n",
       "      <th>Walc</th>\n",
       "      <th>health</th>\n",
       "      <th>absences</th>\n",
       "      <th>G1</th>\n",
       "      <th>G2</th>\n",
       "      <th>G3</th>\n",
       "      <th>approved</th>\n",
       "    </tr>\n",
       "  </thead>\n",
       "  <tbody>\n",
       "    <tr>\n",
       "      <th>130</th>\n",
       "      <td>GP</td>\n",
       "      <td>F</td>\n",
       "      <td>15</td>\n",
       "      <td>R</td>\n",
       "      <td>GT3</td>\n",
       "      <td>T</td>\n",
       "      <td>3</td>\n",
       "      <td>4</td>\n",
       "      <td>services</td>\n",
       "      <td>teacher</td>\n",
       "      <td>course</td>\n",
       "      <td>father</td>\n",
       "      <td>2</td>\n",
       "      <td>3</td>\n",
       "      <td>2</td>\n",
       "      <td>no</td>\n",
       "      <td>yes</td>\n",
       "      <td>no</td>\n",
       "      <td>no</td>\n",
       "      <td>yes</td>\n",
       "      <td>yes</td>\n",
       "      <td>yes</td>\n",
       "      <td>yes</td>\n",
       "      <td>4</td>\n",
       "      <td>2</td>\n",
       "      <td>2</td>\n",
       "      <td>2</td>\n",
       "      <td>2</td>\n",
       "      <td>5</td>\n",
       "      <td>0</td>\n",
       "      <td>12</td>\n",
       "      <td>0</td>\n",
       "      <td>0</td>\n",
       "      <td>0</td>\n",
       "    </tr>\n",
       "    <tr>\n",
       "      <th>131</th>\n",
       "      <td>GP</td>\n",
       "      <td>F</td>\n",
       "      <td>15</td>\n",
       "      <td>U</td>\n",
       "      <td>GT3</td>\n",
       "      <td>T</td>\n",
       "      <td>1</td>\n",
       "      <td>1</td>\n",
       "      <td>at_home</td>\n",
       "      <td>other</td>\n",
       "      <td>course</td>\n",
       "      <td>mother</td>\n",
       "      <td>3</td>\n",
       "      <td>1</td>\n",
       "      <td>0</td>\n",
       "      <td>no</td>\n",
       "      <td>yes</td>\n",
       "      <td>no</td>\n",
       "      <td>yes</td>\n",
       "      <td>no</td>\n",
       "      <td>yes</td>\n",
       "      <td>yes</td>\n",
       "      <td>yes</td>\n",
       "      <td>4</td>\n",
       "      <td>3</td>\n",
       "      <td>3</td>\n",
       "      <td>1</td>\n",
       "      <td>2</td>\n",
       "      <td>4</td>\n",
       "      <td>0</td>\n",
       "      <td>8</td>\n",
       "      <td>0</td>\n",
       "      <td>0</td>\n",
       "      <td>0</td>\n",
       "    </tr>\n",
       "    <tr>\n",
       "      <th>134</th>\n",
       "      <td>GP</td>\n",
       "      <td>M</td>\n",
       "      <td>15</td>\n",
       "      <td>R</td>\n",
       "      <td>GT3</td>\n",
       "      <td>T</td>\n",
       "      <td>3</td>\n",
       "      <td>4</td>\n",
       "      <td>at_home</td>\n",
       "      <td>teacher</td>\n",
       "      <td>course</td>\n",
       "      <td>mother</td>\n",
       "      <td>4</td>\n",
       "      <td>2</td>\n",
       "      <td>0</td>\n",
       "      <td>no</td>\n",
       "      <td>yes</td>\n",
       "      <td>no</td>\n",
       "      <td>no</td>\n",
       "      <td>yes</td>\n",
       "      <td>yes</td>\n",
       "      <td>no</td>\n",
       "      <td>yes</td>\n",
       "      <td>5</td>\n",
       "      <td>3</td>\n",
       "      <td>3</td>\n",
       "      <td>1</td>\n",
       "      <td>1</td>\n",
       "      <td>5</td>\n",
       "      <td>0</td>\n",
       "      <td>9</td>\n",
       "      <td>0</td>\n",
       "      <td>0</td>\n",
       "      <td>0</td>\n",
       "    </tr>\n",
       "    <tr>\n",
       "      <th>135</th>\n",
       "      <td>GP</td>\n",
       "      <td>F</td>\n",
       "      <td>15</td>\n",
       "      <td>U</td>\n",
       "      <td>GT3</td>\n",
       "      <td>T</td>\n",
       "      <td>4</td>\n",
       "      <td>4</td>\n",
       "      <td>services</td>\n",
       "      <td>at_home</td>\n",
       "      <td>course</td>\n",
       "      <td>mother</td>\n",
       "      <td>1</td>\n",
       "      <td>3</td>\n",
       "      <td>0</td>\n",
       "      <td>no</td>\n",
       "      <td>yes</td>\n",
       "      <td>no</td>\n",
       "      <td>yes</td>\n",
       "      <td>yes</td>\n",
       "      <td>yes</td>\n",
       "      <td>yes</td>\n",
       "      <td>yes</td>\n",
       "      <td>4</td>\n",
       "      <td>3</td>\n",
       "      <td>3</td>\n",
       "      <td>1</td>\n",
       "      <td>1</td>\n",
       "      <td>5</td>\n",
       "      <td>0</td>\n",
       "      <td>11</td>\n",
       "      <td>0</td>\n",
       "      <td>0</td>\n",
       "      <td>0</td>\n",
       "    </tr>\n",
       "    <tr>\n",
       "      <th>136</th>\n",
       "      <td>GP</td>\n",
       "      <td>M</td>\n",
       "      <td>17</td>\n",
       "      <td>R</td>\n",
       "      <td>GT3</td>\n",
       "      <td>T</td>\n",
       "      <td>3</td>\n",
       "      <td>4</td>\n",
       "      <td>at_home</td>\n",
       "      <td>other</td>\n",
       "      <td>course</td>\n",
       "      <td>mother</td>\n",
       "      <td>3</td>\n",
       "      <td>2</td>\n",
       "      <td>0</td>\n",
       "      <td>no</td>\n",
       "      <td>no</td>\n",
       "      <td>no</td>\n",
       "      <td>no</td>\n",
       "      <td>yes</td>\n",
       "      <td>yes</td>\n",
       "      <td>no</td>\n",
       "      <td>no</td>\n",
       "      <td>5</td>\n",
       "      <td>4</td>\n",
       "      <td>5</td>\n",
       "      <td>2</td>\n",
       "      <td>4</td>\n",
       "      <td>5</td>\n",
       "      <td>0</td>\n",
       "      <td>10</td>\n",
       "      <td>0</td>\n",
       "      <td>0</td>\n",
       "      <td>0</td>\n",
       "    </tr>\n",
       "    <tr>\n",
       "      <th>137</th>\n",
       "      <td>GP</td>\n",
       "      <td>F</td>\n",
       "      <td>16</td>\n",
       "      <td>U</td>\n",
       "      <td>GT3</td>\n",
       "      <td>A</td>\n",
       "      <td>3</td>\n",
       "      <td>3</td>\n",
       "      <td>other</td>\n",
       "      <td>other</td>\n",
       "      <td>course</td>\n",
       "      <td>other</td>\n",
       "      <td>2</td>\n",
       "      <td>1</td>\n",
       "      <td>2</td>\n",
       "      <td>no</td>\n",
       "      <td>yes</td>\n",
       "      <td>no</td>\n",
       "      <td>yes</td>\n",
       "      <td>no</td>\n",
       "      <td>yes</td>\n",
       "      <td>yes</td>\n",
       "      <td>yes</td>\n",
       "      <td>4</td>\n",
       "      <td>3</td>\n",
       "      <td>2</td>\n",
       "      <td>1</td>\n",
       "      <td>1</td>\n",
       "      <td>5</td>\n",
       "      <td>0</td>\n",
       "      <td>4</td>\n",
       "      <td>0</td>\n",
       "      <td>0</td>\n",
       "      <td>0</td>\n",
       "    </tr>\n",
       "    <tr>\n",
       "      <th>144</th>\n",
       "      <td>GP</td>\n",
       "      <td>M</td>\n",
       "      <td>17</td>\n",
       "      <td>U</td>\n",
       "      <td>GT3</td>\n",
       "      <td>T</td>\n",
       "      <td>2</td>\n",
       "      <td>1</td>\n",
       "      <td>other</td>\n",
       "      <td>other</td>\n",
       "      <td>home</td>\n",
       "      <td>mother</td>\n",
       "      <td>1</td>\n",
       "      <td>1</td>\n",
       "      <td>3</td>\n",
       "      <td>no</td>\n",
       "      <td>yes</td>\n",
       "      <td>no</td>\n",
       "      <td>no</td>\n",
       "      <td>yes</td>\n",
       "      <td>yes</td>\n",
       "      <td>yes</td>\n",
       "      <td>no</td>\n",
       "      <td>5</td>\n",
       "      <td>4</td>\n",
       "      <td>5</td>\n",
       "      <td>1</td>\n",
       "      <td>2</td>\n",
       "      <td>5</td>\n",
       "      <td>0</td>\n",
       "      <td>5</td>\n",
       "      <td>0</td>\n",
       "      <td>0</td>\n",
       "      <td>0</td>\n",
       "    </tr>\n",
       "    <tr>\n",
       "      <th>153</th>\n",
       "      <td>GP</td>\n",
       "      <td>M</td>\n",
       "      <td>19</td>\n",
       "      <td>U</td>\n",
       "      <td>GT3</td>\n",
       "      <td>T</td>\n",
       "      <td>3</td>\n",
       "      <td>2</td>\n",
       "      <td>services</td>\n",
       "      <td>at_home</td>\n",
       "      <td>home</td>\n",
       "      <td>mother</td>\n",
       "      <td>1</td>\n",
       "      <td>1</td>\n",
       "      <td>3</td>\n",
       "      <td>no</td>\n",
       "      <td>yes</td>\n",
       "      <td>no</td>\n",
       "      <td>no</td>\n",
       "      <td>yes</td>\n",
       "      <td>no</td>\n",
       "      <td>yes</td>\n",
       "      <td>yes</td>\n",
       "      <td>4</td>\n",
       "      <td>5</td>\n",
       "      <td>4</td>\n",
       "      <td>1</td>\n",
       "      <td>1</td>\n",
       "      <td>4</td>\n",
       "      <td>0</td>\n",
       "      <td>5</td>\n",
       "      <td>0</td>\n",
       "      <td>0</td>\n",
       "      <td>0</td>\n",
       "    </tr>\n",
       "    <tr>\n",
       "      <th>162</th>\n",
       "      <td>GP</td>\n",
       "      <td>M</td>\n",
       "      <td>16</td>\n",
       "      <td>U</td>\n",
       "      <td>LE3</td>\n",
       "      <td>T</td>\n",
       "      <td>1</td>\n",
       "      <td>2</td>\n",
       "      <td>other</td>\n",
       "      <td>other</td>\n",
       "      <td>course</td>\n",
       "      <td>mother</td>\n",
       "      <td>2</td>\n",
       "      <td>1</td>\n",
       "      <td>1</td>\n",
       "      <td>no</td>\n",
       "      <td>no</td>\n",
       "      <td>no</td>\n",
       "      <td>yes</td>\n",
       "      <td>yes</td>\n",
       "      <td>yes</td>\n",
       "      <td>no</td>\n",
       "      <td>no</td>\n",
       "      <td>4</td>\n",
       "      <td>4</td>\n",
       "      <td>4</td>\n",
       "      <td>2</td>\n",
       "      <td>4</td>\n",
       "      <td>5</td>\n",
       "      <td>0</td>\n",
       "      <td>7</td>\n",
       "      <td>0</td>\n",
       "      <td>0</td>\n",
       "      <td>0</td>\n",
       "    </tr>\n",
       "    <tr>\n",
       "      <th>242</th>\n",
       "      <td>GP</td>\n",
       "      <td>M</td>\n",
       "      <td>16</td>\n",
       "      <td>U</td>\n",
       "      <td>LE3</td>\n",
       "      <td>T</td>\n",
       "      <td>4</td>\n",
       "      <td>3</td>\n",
       "      <td>teacher</td>\n",
       "      <td>other</td>\n",
       "      <td>course</td>\n",
       "      <td>mother</td>\n",
       "      <td>1</td>\n",
       "      <td>1</td>\n",
       "      <td>0</td>\n",
       "      <td>no</td>\n",
       "      <td>no</td>\n",
       "      <td>no</td>\n",
       "      <td>yes</td>\n",
       "      <td>no</td>\n",
       "      <td>yes</td>\n",
       "      <td>yes</td>\n",
       "      <td>no</td>\n",
       "      <td>5</td>\n",
       "      <td>4</td>\n",
       "      <td>5</td>\n",
       "      <td>1</td>\n",
       "      <td>1</td>\n",
       "      <td>3</td>\n",
       "      <td>0</td>\n",
       "      <td>6</td>\n",
       "      <td>0</td>\n",
       "      <td>0</td>\n",
       "      <td>0</td>\n",
       "    </tr>\n",
       "    <tr>\n",
       "      <th>244</th>\n",
       "      <td>GP</td>\n",
       "      <td>F</td>\n",
       "      <td>18</td>\n",
       "      <td>U</td>\n",
       "      <td>GT3</td>\n",
       "      <td>T</td>\n",
       "      <td>2</td>\n",
       "      <td>1</td>\n",
       "      <td>other</td>\n",
       "      <td>other</td>\n",
       "      <td>course</td>\n",
       "      <td>other</td>\n",
       "      <td>2</td>\n",
       "      <td>3</td>\n",
       "      <td>0</td>\n",
       "      <td>no</td>\n",
       "      <td>yes</td>\n",
       "      <td>yes</td>\n",
       "      <td>no</td>\n",
       "      <td>no</td>\n",
       "      <td>yes</td>\n",
       "      <td>yes</td>\n",
       "      <td>yes</td>\n",
       "      <td>4</td>\n",
       "      <td>4</td>\n",
       "      <td>4</td>\n",
       "      <td>1</td>\n",
       "      <td>1</td>\n",
       "      <td>3</td>\n",
       "      <td>0</td>\n",
       "      <td>7</td>\n",
       "      <td>0</td>\n",
       "      <td>0</td>\n",
       "      <td>0</td>\n",
       "    </tr>\n",
       "    <tr>\n",
       "      <th>269</th>\n",
       "      <td>GP</td>\n",
       "      <td>F</td>\n",
       "      <td>18</td>\n",
       "      <td>R</td>\n",
       "      <td>GT3</td>\n",
       "      <td>T</td>\n",
       "      <td>2</td>\n",
       "      <td>1</td>\n",
       "      <td>other</td>\n",
       "      <td>other</td>\n",
       "      <td>reputation</td>\n",
       "      <td>mother</td>\n",
       "      <td>2</td>\n",
       "      <td>2</td>\n",
       "      <td>0</td>\n",
       "      <td>no</td>\n",
       "      <td>yes</td>\n",
       "      <td>no</td>\n",
       "      <td>no</td>\n",
       "      <td>yes</td>\n",
       "      <td>no</td>\n",
       "      <td>yes</td>\n",
       "      <td>yes</td>\n",
       "      <td>4</td>\n",
       "      <td>3</td>\n",
       "      <td>5</td>\n",
       "      <td>1</td>\n",
       "      <td>2</td>\n",
       "      <td>3</td>\n",
       "      <td>0</td>\n",
       "      <td>6</td>\n",
       "      <td>0</td>\n",
       "      <td>0</td>\n",
       "      <td>0</td>\n",
       "    </tr>\n",
       "    <tr>\n",
       "      <th>332</th>\n",
       "      <td>GP</td>\n",
       "      <td>F</td>\n",
       "      <td>18</td>\n",
       "      <td>U</td>\n",
       "      <td>GT3</td>\n",
       "      <td>T</td>\n",
       "      <td>3</td>\n",
       "      <td>3</td>\n",
       "      <td>services</td>\n",
       "      <td>services</td>\n",
       "      <td>home</td>\n",
       "      <td>mother</td>\n",
       "      <td>1</td>\n",
       "      <td>2</td>\n",
       "      <td>0</td>\n",
       "      <td>no</td>\n",
       "      <td>no</td>\n",
       "      <td>no</td>\n",
       "      <td>yes</td>\n",
       "      <td>yes</td>\n",
       "      <td>yes</td>\n",
       "      <td>yes</td>\n",
       "      <td>no</td>\n",
       "      <td>5</td>\n",
       "      <td>3</td>\n",
       "      <td>4</td>\n",
       "      <td>1</td>\n",
       "      <td>1</td>\n",
       "      <td>4</td>\n",
       "      <td>0</td>\n",
       "      <td>7</td>\n",
       "      <td>0</td>\n",
       "      <td>0</td>\n",
       "      <td>0</td>\n",
       "    </tr>\n",
       "  </tbody>\n",
       "</table>\n",
       "</div>"
      ],
      "text/plain": [
       "    school sex  age address famsize Pstatus  Medu  Fedu      Mjob      Fjob   \n",
       "130     GP   F   15       R     GT3       T     3     4  services   teacher  \\\n",
       "131     GP   F   15       U     GT3       T     1     1   at_home     other   \n",
       "134     GP   M   15       R     GT3       T     3     4   at_home   teacher   \n",
       "135     GP   F   15       U     GT3       T     4     4  services   at_home   \n",
       "136     GP   M   17       R     GT3       T     3     4   at_home     other   \n",
       "137     GP   F   16       U     GT3       A     3     3     other     other   \n",
       "144     GP   M   17       U     GT3       T     2     1     other     other   \n",
       "153     GP   M   19       U     GT3       T     3     2  services   at_home   \n",
       "162     GP   M   16       U     LE3       T     1     2     other     other   \n",
       "242     GP   M   16       U     LE3       T     4     3   teacher     other   \n",
       "244     GP   F   18       U     GT3       T     2     1     other     other   \n",
       "269     GP   F   18       R     GT3       T     2     1     other     other   \n",
       "332     GP   F   18       U     GT3       T     3     3  services  services   \n",
       "\n",
       "         reason guardian  traveltime  studytime  failures schoolsup famsup   \n",
       "130      course   father           2          3         2        no    yes  \\\n",
       "131      course   mother           3          1         0        no    yes   \n",
       "134      course   mother           4          2         0        no    yes   \n",
       "135      course   mother           1          3         0        no    yes   \n",
       "136      course   mother           3          2         0        no     no   \n",
       "137      course    other           2          1         2        no    yes   \n",
       "144        home   mother           1          1         3        no    yes   \n",
       "153        home   mother           1          1         3        no    yes   \n",
       "162      course   mother           2          1         1        no     no   \n",
       "242      course   mother           1          1         0        no     no   \n",
       "244      course    other           2          3         0        no    yes   \n",
       "269  reputation   mother           2          2         0        no    yes   \n",
       "332        home   mother           1          2         0        no     no   \n",
       "\n",
       "    paid activities nursery higher internet romantic  famrel  freetime  goout   \n",
       "130   no         no     yes    yes      yes      yes       4         2      2  \\\n",
       "131   no        yes      no    yes      yes      yes       4         3      3   \n",
       "134   no         no     yes    yes       no      yes       5         3      3   \n",
       "135   no        yes     yes    yes      yes      yes       4         3      3   \n",
       "136   no         no     yes    yes       no       no       5         4      5   \n",
       "137   no        yes      no    yes      yes      yes       4         3      2   \n",
       "144   no         no     yes    yes      yes       no       5         4      5   \n",
       "153   no         no     yes     no      yes      yes       4         5      4   \n",
       "162   no        yes     yes    yes       no       no       4         4      4   \n",
       "242   no        yes      no    yes      yes       no       5         4      5   \n",
       "244  yes         no      no    yes      yes      yes       4         4      4   \n",
       "269   no         no     yes     no      yes      yes       4         3      5   \n",
       "332   no        yes     yes    yes      yes       no       5         3      4   \n",
       "\n",
       "     Dalc  Walc  health  absences  G1  G2  G3  approved  \n",
       "130     2     2       5         0  12   0   0         0  \n",
       "131     1     2       4         0   8   0   0         0  \n",
       "134     1     1       5         0   9   0   0         0  \n",
       "135     1     1       5         0  11   0   0         0  \n",
       "136     2     4       5         0  10   0   0         0  \n",
       "137     1     1       5         0   4   0   0         0  \n",
       "144     1     2       5         0   5   0   0         0  \n",
       "153     1     1       4         0   5   0   0         0  \n",
       "162     2     4       5         0   7   0   0         0  \n",
       "242     1     1       3         0   6   0   0         0  \n",
       "244     1     1       3         0   7   0   0         0  \n",
       "269     1     2       3         0   6   0   0         0  \n",
       "332     1     1       4         0   7   0   0         0  "
      ]
     },
     "execution_count": 9,
     "metadata": {},
     "output_type": "execute_result"
    }
   ],
   "source": [
    "df[df[\"G2\"] == 0]"
   ]
  },
  {
   "cell_type": "markdown",
   "metadata": {},
   "source": [
    "[<div style=\"text-align:center\"><img src=\"imgs/arrow.png\" width=\"15\" height=\"10\"></div>](#IND)\n",
    "<h2> <font color= #847ACC> Missing Values </h2>\n",
    "<a id=\"MISS\"></a>"
   ]
  },
  {
   "cell_type": "code",
   "execution_count": 10,
   "metadata": {},
   "outputs": [
    {
     "data": {
      "text/html": [
       "<div>\n",
       "<style scoped>\n",
       "    .dataframe tbody tr th:only-of-type {\n",
       "        vertical-align: middle;\n",
       "    }\n",
       "\n",
       "    .dataframe tbody tr th {\n",
       "        vertical-align: top;\n",
       "    }\n",
       "\n",
       "    .dataframe thead th {\n",
       "        text-align: right;\n",
       "    }\n",
       "</style>\n",
       "<table border=\"1\" class=\"dataframe\">\n",
       "  <thead>\n",
       "    <tr style=\"text-align: right;\">\n",
       "      <th></th>\n",
       "      <th>school</th>\n",
       "      <th>goout</th>\n",
       "      <th>nursery</th>\n",
       "      <th>higher</th>\n",
       "      <th>internet</th>\n",
       "      <th>romantic</th>\n",
       "      <th>famrel</th>\n",
       "      <th>freetime</th>\n",
       "      <th>Dalc</th>\n",
       "      <th>sex</th>\n",
       "      <th>Walc</th>\n",
       "      <th>health</th>\n",
       "      <th>absences</th>\n",
       "      <th>G1</th>\n",
       "      <th>G2</th>\n",
       "      <th>G3</th>\n",
       "      <th>activities</th>\n",
       "      <th>paid</th>\n",
       "      <th>famsup</th>\n",
       "      <th>schoolsup</th>\n",
       "      <th>failures</th>\n",
       "      <th>studytime</th>\n",
       "      <th>traveltime</th>\n",
       "      <th>guardian</th>\n",
       "      <th>reason</th>\n",
       "      <th>Fjob</th>\n",
       "      <th>Mjob</th>\n",
       "      <th>Fedu</th>\n",
       "      <th>Medu</th>\n",
       "      <th>Pstatus</th>\n",
       "      <th>famsize</th>\n",
       "      <th>address</th>\n",
       "      <th>age</th>\n",
       "      <th>approved</th>\n",
       "    </tr>\n",
       "  </thead>\n",
       "  <tbody>\n",
       "    <tr>\n",
       "      <th>Total</th>\n",
       "      <td>0.0</td>\n",
       "      <td>0.0</td>\n",
       "      <td>0.0</td>\n",
       "      <td>0.0</td>\n",
       "      <td>0.0</td>\n",
       "      <td>0.0</td>\n",
       "      <td>0.0</td>\n",
       "      <td>0.0</td>\n",
       "      <td>0.0</td>\n",
       "      <td>0.0</td>\n",
       "      <td>0.0</td>\n",
       "      <td>0.0</td>\n",
       "      <td>0.0</td>\n",
       "      <td>0.0</td>\n",
       "      <td>0.0</td>\n",
       "      <td>0.0</td>\n",
       "      <td>0.0</td>\n",
       "      <td>0.0</td>\n",
       "      <td>0.0</td>\n",
       "      <td>0.0</td>\n",
       "      <td>0.0</td>\n",
       "      <td>0.0</td>\n",
       "      <td>0.0</td>\n",
       "      <td>0.0</td>\n",
       "      <td>0.0</td>\n",
       "      <td>0.0</td>\n",
       "      <td>0.0</td>\n",
       "      <td>0.0</td>\n",
       "      <td>0.0</td>\n",
       "      <td>0.0</td>\n",
       "      <td>0.0</td>\n",
       "      <td>0.0</td>\n",
       "      <td>0.0</td>\n",
       "      <td>0.0</td>\n",
       "    </tr>\n",
       "    <tr>\n",
       "      <th>%</th>\n",
       "      <td>0.0</td>\n",
       "      <td>0.0</td>\n",
       "      <td>0.0</td>\n",
       "      <td>0.0</td>\n",
       "      <td>0.0</td>\n",
       "      <td>0.0</td>\n",
       "      <td>0.0</td>\n",
       "      <td>0.0</td>\n",
       "      <td>0.0</td>\n",
       "      <td>0.0</td>\n",
       "      <td>0.0</td>\n",
       "      <td>0.0</td>\n",
       "      <td>0.0</td>\n",
       "      <td>0.0</td>\n",
       "      <td>0.0</td>\n",
       "      <td>0.0</td>\n",
       "      <td>0.0</td>\n",
       "      <td>0.0</td>\n",
       "      <td>0.0</td>\n",
       "      <td>0.0</td>\n",
       "      <td>0.0</td>\n",
       "      <td>0.0</td>\n",
       "      <td>0.0</td>\n",
       "      <td>0.0</td>\n",
       "      <td>0.0</td>\n",
       "      <td>0.0</td>\n",
       "      <td>0.0</td>\n",
       "      <td>0.0</td>\n",
       "      <td>0.0</td>\n",
       "      <td>0.0</td>\n",
       "      <td>0.0</td>\n",
       "      <td>0.0</td>\n",
       "      <td>0.0</td>\n",
       "      <td>0.0</td>\n",
       "    </tr>\n",
       "  </tbody>\n",
       "</table>\n",
       "</div>"
      ],
      "text/plain": [
       "       school  goout  nursery  higher  internet  romantic  famrel  freetime   \n",
       "Total     0.0    0.0      0.0     0.0       0.0       0.0     0.0       0.0  \\\n",
       "%         0.0    0.0      0.0     0.0       0.0       0.0     0.0       0.0   \n",
       "\n",
       "       Dalc  sex  Walc  health  absences   G1   G2   G3  activities  paid   \n",
       "Total   0.0  0.0   0.0     0.0       0.0  0.0  0.0  0.0         0.0   0.0  \\\n",
       "%       0.0  0.0   0.0     0.0       0.0  0.0  0.0  0.0         0.0   0.0   \n",
       "\n",
       "       famsup  schoolsup  failures  studytime  traveltime  guardian  reason   \n",
       "Total     0.0        0.0       0.0        0.0         0.0       0.0     0.0  \\\n",
       "%         0.0        0.0       0.0        0.0         0.0       0.0     0.0   \n",
       "\n",
       "       Fjob  Mjob  Fedu  Medu  Pstatus  famsize  address  age  approved  \n",
       "Total   0.0   0.0   0.0   0.0      0.0      0.0      0.0  0.0       0.0  \n",
       "%       0.0   0.0   0.0   0.0      0.0      0.0      0.0  0.0       0.0  "
      ]
     },
     "execution_count": 10,
     "metadata": {},
     "output_type": "execute_result"
    }
   ],
   "source": [
    "total = df.isnull().sum().sort_values(ascending = False)\n",
    "percent = (df.isnull().sum()/df.isnull().count()*100).sort_values(ascending = False)\n",
    "pd.concat([total, percent], axis=1, keys=['Total', '%']).transpose()"
   ]
  },
  {
   "cell_type": "markdown",
   "metadata": {},
   "source": [
    "<div style=\"border-radius:14px; border:#847ACC solid; padding: 15px; background-color: #FFFFFF; font-size:100%; text-align:left\">\n",
    "<h3 align=\"left\"><font color='#847ACC'>💡 Insights:</font></h3>\n",
    "    \n",
    "It doesn't seem like there are any missing values. If there are any, there are several techniques for data imputation:\n",
    "\n",
    "- Mean\n",
    "- Mode\n",
    "- Models\n",
    "- Distributions"
   ]
  },
  {
   "cell_type": "markdown",
   "metadata": {},
   "source": [
    "[<div style=\"text-align:center\"><img src=\"imgs/arrow.png\" width=\"10\" height=\"10\"></div>](#IND)\n",
    "<h2> <font color= #847ACC> Duplicates </h2>\n",
    "<a id=\"DUPLI\"></a>"
   ]
  },
  {
   "cell_type": "code",
   "execution_count": 11,
   "metadata": {},
   "outputs": [
    {
     "name": "stdout",
     "output_type": "stream",
     "text": [
      "Duplicates:  0\n"
     ]
    }
   ],
   "source": [
    "print(\"Duplicates: \", df.duplicated().sum())"
   ]
  },
  {
   "cell_type": "markdown",
   "metadata": {},
   "source": [
    "<div style=\"border-radius:14px; border:#847ACC solid; padding: 15px; background-color: #FFFFFF; font-size:100%; text-align:left\">\n",
    "<h3 align=\"left\"><font color='#847ACC'>💡 Insights:</font></h3>\n",
    "    \n",
    "There are not duplicate data."
   ]
  },
  {
   "cell_type": "markdown",
   "metadata": {},
   "source": [
    "[<div style=\"text-align:center\"><img src=\"imgs/arrow.png\" width=\"15\" height=\"10\"></div>](#IND)\n",
    "<h2> <font color= #847ACC> Unique Values </h2>\n",
    "<a id=\"UNIQ\"></a>"
   ]
  },
  {
   "cell_type": "code",
   "execution_count": 12,
   "metadata": {},
   "outputs": [
    {
     "name": "stdout",
     "output_type": "stream",
     "text": [
      "Unique value in school:\n",
      "['GP' 'MS'] \n",
      "\n",
      "Unique value in sex:\n",
      "['F' 'M'] \n",
      "\n",
      "Unique value in age:\n",
      "[18 17 15 16 19 22 20 21] \n",
      "\n",
      "Unique value in address:\n",
      "['U' 'R'] \n",
      "\n",
      "Unique value in famsize:\n",
      "['GT3' 'LE3'] \n",
      "\n",
      "Unique value in Pstatus:\n",
      "['A' 'T'] \n",
      "\n",
      "Unique value in Medu:\n",
      "[4 1 3 2 0] \n",
      "\n",
      "Unique value in Fedu:\n",
      "[4 1 2 3 0] \n",
      "\n",
      "Unique value in Mjob:\n",
      "['at_home' 'health' 'other' 'services' 'teacher'] \n",
      "\n",
      "Unique value in Fjob:\n",
      "['teacher' 'other' 'services' 'health' 'at_home'] \n",
      "\n",
      "Unique value in reason:\n",
      "['course' 'other' 'home' 'reputation'] \n",
      "\n",
      "Unique value in guardian:\n",
      "['mother' 'father' 'other'] \n",
      "\n",
      "Unique value in traveltime:\n",
      "[2 1 3 4] \n",
      "\n",
      "Unique value in studytime:\n",
      "[2 3 1 4] \n",
      "\n",
      "Unique value in failures:\n",
      "[0 3 2 1] \n",
      "\n",
      "Unique value in schoolsup:\n",
      "['yes' 'no'] \n",
      "\n",
      "Unique value in famsup:\n",
      "['no' 'yes'] \n",
      "\n",
      "Unique value in paid:\n",
      "['no' 'yes'] \n",
      "\n",
      "Unique value in activities:\n",
      "['no' 'yes'] \n",
      "\n",
      "Unique value in nursery:\n",
      "['yes' 'no'] \n",
      "\n",
      "Unique value in higher:\n",
      "['yes' 'no'] \n",
      "\n",
      "Unique value in internet:\n",
      "['no' 'yes'] \n",
      "\n",
      "Unique value in romantic:\n",
      "['no' 'yes'] \n",
      "\n",
      "Unique value in famrel:\n",
      "[4 5 3 1 2] \n",
      "\n",
      "Unique value in freetime:\n",
      "[3 2 4 1 5] \n",
      "\n",
      "Unique value in goout:\n",
      "[4 3 2 1 5] \n",
      "\n",
      "Unique value in Dalc:\n",
      "[1 2 5 3 4] \n",
      "\n",
      "Unique value in Walc:\n",
      "[1 3 2 4 5] \n",
      "\n",
      "Unique value in health:\n",
      "[3 5 1 2 4] \n",
      "\n",
      "Unique value in absences:\n",
      "[ 6  4 10  2  0 16 14  7  8 25 12 54 18 26 20 56 24 28  5 13 15 22  3 21\n",
      "  1 75 30 19  9 11 38 40 23 17] \n",
      "\n",
      "Unique value in G1:\n",
      "[ 5  7 15  6 12 16 14 10 13  8 11  9 17 19 18  4  3] \n",
      "\n",
      "Unique value in G2:\n",
      "[ 6  5  8 14 10 15 12 18 16 13  9 11  7 19 17  4  0] \n",
      "\n",
      "Unique value in G3:\n",
      "[ 6 10 15 11 19  9 12 14 16  5  8 17 18 13 20  7  0  4] \n",
      "\n",
      "Unique value in approved:\n",
      "[0 1] \n",
      "\n"
     ]
    }
   ],
   "source": [
    "for i in df.columns:\n",
    "    print(f\"Unique value in {i}:\")\n",
    "    print(df[i].unique(),'\\n')"
   ]
  },
  {
   "cell_type": "markdown",
   "metadata": {},
   "source": [
    "[<div style=\"text-align:center\"><img src=\"imgs/arrow.png\" width=\"15\" height=\"10\"></div>](#IND)\n",
    "<h2> <font color= #847ACC> Correlation </h2>\n",
    "<a id=\"CORR\"></a>"
   ]
  },
  {
   "cell_type": "code",
   "execution_count": 13,
   "metadata": {},
   "outputs": [],
   "source": [
    "categorical_columns = df.select_dtypes(include=['category', 'object']).columns\n",
    "numerical_columns = df.select_dtypes(include=['number']).columns"
   ]
  },
  {
   "cell_type": "code",
   "execution_count": 14,
   "metadata": {},
   "outputs": [
    {
     "data": {
      "text/html": [
       "<div>\n",
       "<style scoped>\n",
       "    .dataframe tbody tr th:only-of-type {\n",
       "        vertical-align: middle;\n",
       "    }\n",
       "\n",
       "    .dataframe tbody tr th {\n",
       "        vertical-align: top;\n",
       "    }\n",
       "\n",
       "    .dataframe thead th {\n",
       "        text-align: right;\n",
       "    }\n",
       "</style>\n",
       "<table border=\"1\" class=\"dataframe\">\n",
       "  <thead>\n",
       "    <tr style=\"text-align: right;\">\n",
       "      <th></th>\n",
       "      <th>school</th>\n",
       "      <th>sex</th>\n",
       "      <th>address</th>\n",
       "      <th>famsize</th>\n",
       "      <th>Pstatus</th>\n",
       "      <th>Mjob</th>\n",
       "      <th>Fjob</th>\n",
       "      <th>reason</th>\n",
       "      <th>guardian</th>\n",
       "      <th>schoolsup</th>\n",
       "      <th>famsup</th>\n",
       "      <th>paid</th>\n",
       "      <th>activities</th>\n",
       "      <th>nursery</th>\n",
       "      <th>higher</th>\n",
       "      <th>internet</th>\n",
       "      <th>romantic</th>\n",
       "    </tr>\n",
       "  </thead>\n",
       "  <tbody>\n",
       "    <tr>\n",
       "      <th>0</th>\n",
       "      <td>GP</td>\n",
       "      <td>F</td>\n",
       "      <td>U</td>\n",
       "      <td>GT3</td>\n",
       "      <td>A</td>\n",
       "      <td>at_home</td>\n",
       "      <td>teacher</td>\n",
       "      <td>course</td>\n",
       "      <td>mother</td>\n",
       "      <td>yes</td>\n",
       "      <td>no</td>\n",
       "      <td>no</td>\n",
       "      <td>no</td>\n",
       "      <td>yes</td>\n",
       "      <td>yes</td>\n",
       "      <td>no</td>\n",
       "      <td>no</td>\n",
       "    </tr>\n",
       "    <tr>\n",
       "      <th>1</th>\n",
       "      <td>GP</td>\n",
       "      <td>F</td>\n",
       "      <td>U</td>\n",
       "      <td>GT3</td>\n",
       "      <td>T</td>\n",
       "      <td>at_home</td>\n",
       "      <td>other</td>\n",
       "      <td>course</td>\n",
       "      <td>father</td>\n",
       "      <td>no</td>\n",
       "      <td>yes</td>\n",
       "      <td>no</td>\n",
       "      <td>no</td>\n",
       "      <td>no</td>\n",
       "      <td>yes</td>\n",
       "      <td>yes</td>\n",
       "      <td>no</td>\n",
       "    </tr>\n",
       "    <tr>\n",
       "      <th>2</th>\n",
       "      <td>GP</td>\n",
       "      <td>F</td>\n",
       "      <td>U</td>\n",
       "      <td>LE3</td>\n",
       "      <td>T</td>\n",
       "      <td>at_home</td>\n",
       "      <td>other</td>\n",
       "      <td>other</td>\n",
       "      <td>mother</td>\n",
       "      <td>yes</td>\n",
       "      <td>no</td>\n",
       "      <td>yes</td>\n",
       "      <td>no</td>\n",
       "      <td>yes</td>\n",
       "      <td>yes</td>\n",
       "      <td>yes</td>\n",
       "      <td>no</td>\n",
       "    </tr>\n",
       "    <tr>\n",
       "      <th>3</th>\n",
       "      <td>GP</td>\n",
       "      <td>F</td>\n",
       "      <td>U</td>\n",
       "      <td>GT3</td>\n",
       "      <td>T</td>\n",
       "      <td>health</td>\n",
       "      <td>services</td>\n",
       "      <td>home</td>\n",
       "      <td>mother</td>\n",
       "      <td>no</td>\n",
       "      <td>yes</td>\n",
       "      <td>yes</td>\n",
       "      <td>yes</td>\n",
       "      <td>yes</td>\n",
       "      <td>yes</td>\n",
       "      <td>yes</td>\n",
       "      <td>yes</td>\n",
       "    </tr>\n",
       "    <tr>\n",
       "      <th>4</th>\n",
       "      <td>GP</td>\n",
       "      <td>F</td>\n",
       "      <td>U</td>\n",
       "      <td>GT3</td>\n",
       "      <td>T</td>\n",
       "      <td>other</td>\n",
       "      <td>other</td>\n",
       "      <td>home</td>\n",
       "      <td>father</td>\n",
       "      <td>no</td>\n",
       "      <td>yes</td>\n",
       "      <td>yes</td>\n",
       "      <td>no</td>\n",
       "      <td>yes</td>\n",
       "      <td>yes</td>\n",
       "      <td>no</td>\n",
       "      <td>no</td>\n",
       "    </tr>\n",
       "    <tr>\n",
       "      <th>...</th>\n",
       "      <td>...</td>\n",
       "      <td>...</td>\n",
       "      <td>...</td>\n",
       "      <td>...</td>\n",
       "      <td>...</td>\n",
       "      <td>...</td>\n",
       "      <td>...</td>\n",
       "      <td>...</td>\n",
       "      <td>...</td>\n",
       "      <td>...</td>\n",
       "      <td>...</td>\n",
       "      <td>...</td>\n",
       "      <td>...</td>\n",
       "      <td>...</td>\n",
       "      <td>...</td>\n",
       "      <td>...</td>\n",
       "      <td>...</td>\n",
       "    </tr>\n",
       "    <tr>\n",
       "      <th>390</th>\n",
       "      <td>MS</td>\n",
       "      <td>M</td>\n",
       "      <td>U</td>\n",
       "      <td>LE3</td>\n",
       "      <td>A</td>\n",
       "      <td>services</td>\n",
       "      <td>services</td>\n",
       "      <td>course</td>\n",
       "      <td>other</td>\n",
       "      <td>no</td>\n",
       "      <td>yes</td>\n",
       "      <td>yes</td>\n",
       "      <td>no</td>\n",
       "      <td>yes</td>\n",
       "      <td>yes</td>\n",
       "      <td>no</td>\n",
       "      <td>no</td>\n",
       "    </tr>\n",
       "    <tr>\n",
       "      <th>391</th>\n",
       "      <td>MS</td>\n",
       "      <td>M</td>\n",
       "      <td>U</td>\n",
       "      <td>LE3</td>\n",
       "      <td>T</td>\n",
       "      <td>services</td>\n",
       "      <td>services</td>\n",
       "      <td>course</td>\n",
       "      <td>mother</td>\n",
       "      <td>no</td>\n",
       "      <td>no</td>\n",
       "      <td>no</td>\n",
       "      <td>no</td>\n",
       "      <td>no</td>\n",
       "      <td>yes</td>\n",
       "      <td>yes</td>\n",
       "      <td>no</td>\n",
       "    </tr>\n",
       "    <tr>\n",
       "      <th>392</th>\n",
       "      <td>MS</td>\n",
       "      <td>M</td>\n",
       "      <td>R</td>\n",
       "      <td>GT3</td>\n",
       "      <td>T</td>\n",
       "      <td>other</td>\n",
       "      <td>other</td>\n",
       "      <td>course</td>\n",
       "      <td>other</td>\n",
       "      <td>no</td>\n",
       "      <td>no</td>\n",
       "      <td>no</td>\n",
       "      <td>no</td>\n",
       "      <td>no</td>\n",
       "      <td>yes</td>\n",
       "      <td>no</td>\n",
       "      <td>no</td>\n",
       "    </tr>\n",
       "    <tr>\n",
       "      <th>393</th>\n",
       "      <td>MS</td>\n",
       "      <td>M</td>\n",
       "      <td>R</td>\n",
       "      <td>LE3</td>\n",
       "      <td>T</td>\n",
       "      <td>services</td>\n",
       "      <td>other</td>\n",
       "      <td>course</td>\n",
       "      <td>mother</td>\n",
       "      <td>no</td>\n",
       "      <td>no</td>\n",
       "      <td>no</td>\n",
       "      <td>no</td>\n",
       "      <td>no</td>\n",
       "      <td>yes</td>\n",
       "      <td>yes</td>\n",
       "      <td>no</td>\n",
       "    </tr>\n",
       "    <tr>\n",
       "      <th>394</th>\n",
       "      <td>MS</td>\n",
       "      <td>M</td>\n",
       "      <td>U</td>\n",
       "      <td>LE3</td>\n",
       "      <td>T</td>\n",
       "      <td>other</td>\n",
       "      <td>at_home</td>\n",
       "      <td>course</td>\n",
       "      <td>father</td>\n",
       "      <td>no</td>\n",
       "      <td>no</td>\n",
       "      <td>no</td>\n",
       "      <td>no</td>\n",
       "      <td>yes</td>\n",
       "      <td>yes</td>\n",
       "      <td>yes</td>\n",
       "      <td>no</td>\n",
       "    </tr>\n",
       "  </tbody>\n",
       "</table>\n",
       "<p>395 rows × 17 columns</p>\n",
       "</div>"
      ],
      "text/plain": [
       "    school sex address famsize Pstatus      Mjob      Fjob  reason guardian   \n",
       "0       GP   F       U     GT3       A   at_home   teacher  course   mother  \\\n",
       "1       GP   F       U     GT3       T   at_home     other  course   father   \n",
       "2       GP   F       U     LE3       T   at_home     other   other   mother   \n",
       "3       GP   F       U     GT3       T    health  services    home   mother   \n",
       "4       GP   F       U     GT3       T     other     other    home   father   \n",
       "..     ...  ..     ...     ...     ...       ...       ...     ...      ...   \n",
       "390     MS   M       U     LE3       A  services  services  course    other   \n",
       "391     MS   M       U     LE3       T  services  services  course   mother   \n",
       "392     MS   M       R     GT3       T     other     other  course    other   \n",
       "393     MS   M       R     LE3       T  services     other  course   mother   \n",
       "394     MS   M       U     LE3       T     other   at_home  course   father   \n",
       "\n",
       "    schoolsup famsup paid activities nursery higher internet romantic  \n",
       "0         yes     no   no         no     yes    yes       no       no  \n",
       "1          no    yes   no         no      no    yes      yes       no  \n",
       "2         yes     no  yes         no     yes    yes      yes       no  \n",
       "3          no    yes  yes        yes     yes    yes      yes      yes  \n",
       "4          no    yes  yes         no     yes    yes       no       no  \n",
       "..        ...    ...  ...        ...     ...    ...      ...      ...  \n",
       "390        no    yes  yes         no     yes    yes       no       no  \n",
       "391        no     no   no         no      no    yes      yes       no  \n",
       "392        no     no   no         no      no    yes       no       no  \n",
       "393        no     no   no         no      no    yes      yes       no  \n",
       "394        no     no   no         no     yes    yes      yes       no  \n",
       "\n",
       "[395 rows x 17 columns]"
      ]
     },
     "execution_count": 14,
     "metadata": {},
     "output_type": "execute_result"
    }
   ],
   "source": [
    "df[categorical_columns]"
   ]
  },
  {
   "cell_type": "code",
   "execution_count": 15,
   "metadata": {},
   "outputs": [
    {
     "data": {
      "text/html": [
       "<div>\n",
       "<style scoped>\n",
       "    .dataframe tbody tr th:only-of-type {\n",
       "        vertical-align: middle;\n",
       "    }\n",
       "\n",
       "    .dataframe tbody tr th {\n",
       "        vertical-align: top;\n",
       "    }\n",
       "\n",
       "    .dataframe thead th {\n",
       "        text-align: right;\n",
       "    }\n",
       "</style>\n",
       "<table border=\"1\" class=\"dataframe\">\n",
       "  <thead>\n",
       "    <tr style=\"text-align: right;\">\n",
       "      <th></th>\n",
       "      <th>age</th>\n",
       "      <th>Medu</th>\n",
       "      <th>Fedu</th>\n",
       "      <th>traveltime</th>\n",
       "      <th>studytime</th>\n",
       "      <th>failures</th>\n",
       "      <th>famrel</th>\n",
       "      <th>freetime</th>\n",
       "      <th>goout</th>\n",
       "      <th>Dalc</th>\n",
       "      <th>Walc</th>\n",
       "      <th>health</th>\n",
       "      <th>absences</th>\n",
       "      <th>G1</th>\n",
       "      <th>G2</th>\n",
       "      <th>G3</th>\n",
       "      <th>approved</th>\n",
       "    </tr>\n",
       "  </thead>\n",
       "  <tbody>\n",
       "    <tr>\n",
       "      <th>0</th>\n",
       "      <td>18</td>\n",
       "      <td>4</td>\n",
       "      <td>4</td>\n",
       "      <td>2</td>\n",
       "      <td>2</td>\n",
       "      <td>0</td>\n",
       "      <td>4</td>\n",
       "      <td>3</td>\n",
       "      <td>4</td>\n",
       "      <td>1</td>\n",
       "      <td>1</td>\n",
       "      <td>3</td>\n",
       "      <td>6</td>\n",
       "      <td>5</td>\n",
       "      <td>6</td>\n",
       "      <td>6</td>\n",
       "      <td>0</td>\n",
       "    </tr>\n",
       "    <tr>\n",
       "      <th>1</th>\n",
       "      <td>17</td>\n",
       "      <td>1</td>\n",
       "      <td>1</td>\n",
       "      <td>1</td>\n",
       "      <td>2</td>\n",
       "      <td>0</td>\n",
       "      <td>5</td>\n",
       "      <td>3</td>\n",
       "      <td>3</td>\n",
       "      <td>1</td>\n",
       "      <td>1</td>\n",
       "      <td>3</td>\n",
       "      <td>4</td>\n",
       "      <td>5</td>\n",
       "      <td>5</td>\n",
       "      <td>6</td>\n",
       "      <td>0</td>\n",
       "    </tr>\n",
       "    <tr>\n",
       "      <th>2</th>\n",
       "      <td>15</td>\n",
       "      <td>1</td>\n",
       "      <td>1</td>\n",
       "      <td>1</td>\n",
       "      <td>2</td>\n",
       "      <td>3</td>\n",
       "      <td>4</td>\n",
       "      <td>3</td>\n",
       "      <td>2</td>\n",
       "      <td>2</td>\n",
       "      <td>3</td>\n",
       "      <td>3</td>\n",
       "      <td>10</td>\n",
       "      <td>7</td>\n",
       "      <td>8</td>\n",
       "      <td>10</td>\n",
       "      <td>0</td>\n",
       "    </tr>\n",
       "    <tr>\n",
       "      <th>3</th>\n",
       "      <td>15</td>\n",
       "      <td>4</td>\n",
       "      <td>2</td>\n",
       "      <td>1</td>\n",
       "      <td>3</td>\n",
       "      <td>0</td>\n",
       "      <td>3</td>\n",
       "      <td>2</td>\n",
       "      <td>2</td>\n",
       "      <td>1</td>\n",
       "      <td>1</td>\n",
       "      <td>5</td>\n",
       "      <td>2</td>\n",
       "      <td>15</td>\n",
       "      <td>14</td>\n",
       "      <td>15</td>\n",
       "      <td>1</td>\n",
       "    </tr>\n",
       "    <tr>\n",
       "      <th>4</th>\n",
       "      <td>16</td>\n",
       "      <td>3</td>\n",
       "      <td>3</td>\n",
       "      <td>1</td>\n",
       "      <td>2</td>\n",
       "      <td>0</td>\n",
       "      <td>4</td>\n",
       "      <td>3</td>\n",
       "      <td>2</td>\n",
       "      <td>1</td>\n",
       "      <td>2</td>\n",
       "      <td>5</td>\n",
       "      <td>4</td>\n",
       "      <td>6</td>\n",
       "      <td>10</td>\n",
       "      <td>10</td>\n",
       "      <td>0</td>\n",
       "    </tr>\n",
       "    <tr>\n",
       "      <th>...</th>\n",
       "      <td>...</td>\n",
       "      <td>...</td>\n",
       "      <td>...</td>\n",
       "      <td>...</td>\n",
       "      <td>...</td>\n",
       "      <td>...</td>\n",
       "      <td>...</td>\n",
       "      <td>...</td>\n",
       "      <td>...</td>\n",
       "      <td>...</td>\n",
       "      <td>...</td>\n",
       "      <td>...</td>\n",
       "      <td>...</td>\n",
       "      <td>...</td>\n",
       "      <td>...</td>\n",
       "      <td>...</td>\n",
       "      <td>...</td>\n",
       "    </tr>\n",
       "    <tr>\n",
       "      <th>390</th>\n",
       "      <td>20</td>\n",
       "      <td>2</td>\n",
       "      <td>2</td>\n",
       "      <td>1</td>\n",
       "      <td>2</td>\n",
       "      <td>2</td>\n",
       "      <td>5</td>\n",
       "      <td>5</td>\n",
       "      <td>4</td>\n",
       "      <td>4</td>\n",
       "      <td>5</td>\n",
       "      <td>4</td>\n",
       "      <td>11</td>\n",
       "      <td>9</td>\n",
       "      <td>9</td>\n",
       "      <td>9</td>\n",
       "      <td>0</td>\n",
       "    </tr>\n",
       "    <tr>\n",
       "      <th>391</th>\n",
       "      <td>17</td>\n",
       "      <td>3</td>\n",
       "      <td>1</td>\n",
       "      <td>2</td>\n",
       "      <td>1</td>\n",
       "      <td>0</td>\n",
       "      <td>2</td>\n",
       "      <td>4</td>\n",
       "      <td>5</td>\n",
       "      <td>3</td>\n",
       "      <td>4</td>\n",
       "      <td>2</td>\n",
       "      <td>3</td>\n",
       "      <td>14</td>\n",
       "      <td>16</td>\n",
       "      <td>16</td>\n",
       "      <td>1</td>\n",
       "    </tr>\n",
       "    <tr>\n",
       "      <th>392</th>\n",
       "      <td>21</td>\n",
       "      <td>1</td>\n",
       "      <td>1</td>\n",
       "      <td>1</td>\n",
       "      <td>1</td>\n",
       "      <td>3</td>\n",
       "      <td>5</td>\n",
       "      <td>5</td>\n",
       "      <td>3</td>\n",
       "      <td>3</td>\n",
       "      <td>3</td>\n",
       "      <td>3</td>\n",
       "      <td>3</td>\n",
       "      <td>10</td>\n",
       "      <td>8</td>\n",
       "      <td>7</td>\n",
       "      <td>0</td>\n",
       "    </tr>\n",
       "    <tr>\n",
       "      <th>393</th>\n",
       "      <td>18</td>\n",
       "      <td>3</td>\n",
       "      <td>2</td>\n",
       "      <td>3</td>\n",
       "      <td>1</td>\n",
       "      <td>0</td>\n",
       "      <td>4</td>\n",
       "      <td>4</td>\n",
       "      <td>1</td>\n",
       "      <td>3</td>\n",
       "      <td>4</td>\n",
       "      <td>5</td>\n",
       "      <td>0</td>\n",
       "      <td>11</td>\n",
       "      <td>12</td>\n",
       "      <td>10</td>\n",
       "      <td>0</td>\n",
       "    </tr>\n",
       "    <tr>\n",
       "      <th>394</th>\n",
       "      <td>19</td>\n",
       "      <td>1</td>\n",
       "      <td>1</td>\n",
       "      <td>1</td>\n",
       "      <td>1</td>\n",
       "      <td>0</td>\n",
       "      <td>3</td>\n",
       "      <td>2</td>\n",
       "      <td>3</td>\n",
       "      <td>3</td>\n",
       "      <td>3</td>\n",
       "      <td>5</td>\n",
       "      <td>5</td>\n",
       "      <td>8</td>\n",
       "      <td>9</td>\n",
       "      <td>9</td>\n",
       "      <td>0</td>\n",
       "    </tr>\n",
       "  </tbody>\n",
       "</table>\n",
       "<p>395 rows × 17 columns</p>\n",
       "</div>"
      ],
      "text/plain": [
       "     age  Medu  Fedu  traveltime  studytime  failures  famrel  freetime   \n",
       "0     18     4     4           2          2         0       4         3  \\\n",
       "1     17     1     1           1          2         0       5         3   \n",
       "2     15     1     1           1          2         3       4         3   \n",
       "3     15     4     2           1          3         0       3         2   \n",
       "4     16     3     3           1          2         0       4         3   \n",
       "..   ...   ...   ...         ...        ...       ...     ...       ...   \n",
       "390   20     2     2           1          2         2       5         5   \n",
       "391   17     3     1           2          1         0       2         4   \n",
       "392   21     1     1           1          1         3       5         5   \n",
       "393   18     3     2           3          1         0       4         4   \n",
       "394   19     1     1           1          1         0       3         2   \n",
       "\n",
       "     goout  Dalc  Walc  health  absences  G1  G2  G3  approved  \n",
       "0        4     1     1       3         6   5   6   6         0  \n",
       "1        3     1     1       3         4   5   5   6         0  \n",
       "2        2     2     3       3        10   7   8  10         0  \n",
       "3        2     1     1       5         2  15  14  15         1  \n",
       "4        2     1     2       5         4   6  10  10         0  \n",
       "..     ...   ...   ...     ...       ...  ..  ..  ..       ...  \n",
       "390      4     4     5       4        11   9   9   9         0  \n",
       "391      5     3     4       2         3  14  16  16         1  \n",
       "392      3     3     3       3         3  10   8   7         0  \n",
       "393      1     3     4       5         0  11  12  10         0  \n",
       "394      3     3     3       5         5   8   9   9         0  \n",
       "\n",
       "[395 rows x 17 columns]"
      ]
     },
     "execution_count": 15,
     "metadata": {},
     "output_type": "execute_result"
    }
   ],
   "source": [
    "df[numerical_columns]"
   ]
  },
  {
   "cell_type": "code",
   "execution_count": 16,
   "metadata": {},
   "outputs": [
    {
     "data": {
      "text/html": [
       "<div>\n",
       "<style scoped>\n",
       "    .dataframe tbody tr th:only-of-type {\n",
       "        vertical-align: middle;\n",
       "    }\n",
       "\n",
       "    .dataframe tbody tr th {\n",
       "        vertical-align: top;\n",
       "    }\n",
       "\n",
       "    .dataframe thead th {\n",
       "        text-align: right;\n",
       "    }\n",
       "</style>\n",
       "<table border=\"1\" class=\"dataframe\">\n",
       "  <thead>\n",
       "    <tr style=\"text-align: right;\">\n",
       "      <th></th>\n",
       "      <th>age</th>\n",
       "      <th>Medu</th>\n",
       "      <th>Fedu</th>\n",
       "      <th>traveltime</th>\n",
       "      <th>studytime</th>\n",
       "      <th>failures</th>\n",
       "      <th>famrel</th>\n",
       "      <th>freetime</th>\n",
       "      <th>goout</th>\n",
       "      <th>Dalc</th>\n",
       "      <th>Walc</th>\n",
       "      <th>health</th>\n",
       "      <th>absences</th>\n",
       "      <th>G1</th>\n",
       "      <th>G2</th>\n",
       "      <th>G3</th>\n",
       "      <th>approved</th>\n",
       "    </tr>\n",
       "  </thead>\n",
       "  <tbody>\n",
       "    <tr>\n",
       "      <th>0</th>\n",
       "      <td>18</td>\n",
       "      <td>4</td>\n",
       "      <td>4</td>\n",
       "      <td>2</td>\n",
       "      <td>2</td>\n",
       "      <td>0</td>\n",
       "      <td>4</td>\n",
       "      <td>3</td>\n",
       "      <td>4</td>\n",
       "      <td>1</td>\n",
       "      <td>1</td>\n",
       "      <td>3</td>\n",
       "      <td>6</td>\n",
       "      <td>5</td>\n",
       "      <td>6</td>\n",
       "      <td>6</td>\n",
       "      <td>0</td>\n",
       "    </tr>\n",
       "    <tr>\n",
       "      <th>1</th>\n",
       "      <td>17</td>\n",
       "      <td>1</td>\n",
       "      <td>1</td>\n",
       "      <td>1</td>\n",
       "      <td>2</td>\n",
       "      <td>0</td>\n",
       "      <td>5</td>\n",
       "      <td>3</td>\n",
       "      <td>3</td>\n",
       "      <td>1</td>\n",
       "      <td>1</td>\n",
       "      <td>3</td>\n",
       "      <td>4</td>\n",
       "      <td>5</td>\n",
       "      <td>5</td>\n",
       "      <td>6</td>\n",
       "      <td>0</td>\n",
       "    </tr>\n",
       "    <tr>\n",
       "      <th>2</th>\n",
       "      <td>15</td>\n",
       "      <td>1</td>\n",
       "      <td>1</td>\n",
       "      <td>1</td>\n",
       "      <td>2</td>\n",
       "      <td>3</td>\n",
       "      <td>4</td>\n",
       "      <td>3</td>\n",
       "      <td>2</td>\n",
       "      <td>2</td>\n",
       "      <td>3</td>\n",
       "      <td>3</td>\n",
       "      <td>10</td>\n",
       "      <td>7</td>\n",
       "      <td>8</td>\n",
       "      <td>10</td>\n",
       "      <td>0</td>\n",
       "    </tr>\n",
       "    <tr>\n",
       "      <th>3</th>\n",
       "      <td>15</td>\n",
       "      <td>4</td>\n",
       "      <td>2</td>\n",
       "      <td>1</td>\n",
       "      <td>3</td>\n",
       "      <td>0</td>\n",
       "      <td>3</td>\n",
       "      <td>2</td>\n",
       "      <td>2</td>\n",
       "      <td>1</td>\n",
       "      <td>1</td>\n",
       "      <td>5</td>\n",
       "      <td>2</td>\n",
       "      <td>15</td>\n",
       "      <td>14</td>\n",
       "      <td>15</td>\n",
       "      <td>1</td>\n",
       "    </tr>\n",
       "    <tr>\n",
       "      <th>4</th>\n",
       "      <td>16</td>\n",
       "      <td>3</td>\n",
       "      <td>3</td>\n",
       "      <td>1</td>\n",
       "      <td>2</td>\n",
       "      <td>0</td>\n",
       "      <td>4</td>\n",
       "      <td>3</td>\n",
       "      <td>2</td>\n",
       "      <td>1</td>\n",
       "      <td>2</td>\n",
       "      <td>5</td>\n",
       "      <td>4</td>\n",
       "      <td>6</td>\n",
       "      <td>10</td>\n",
       "      <td>10</td>\n",
       "      <td>0</td>\n",
       "    </tr>\n",
       "    <tr>\n",
       "      <th>...</th>\n",
       "      <td>...</td>\n",
       "      <td>...</td>\n",
       "      <td>...</td>\n",
       "      <td>...</td>\n",
       "      <td>...</td>\n",
       "      <td>...</td>\n",
       "      <td>...</td>\n",
       "      <td>...</td>\n",
       "      <td>...</td>\n",
       "      <td>...</td>\n",
       "      <td>...</td>\n",
       "      <td>...</td>\n",
       "      <td>...</td>\n",
       "      <td>...</td>\n",
       "      <td>...</td>\n",
       "      <td>...</td>\n",
       "      <td>...</td>\n",
       "    </tr>\n",
       "    <tr>\n",
       "      <th>390</th>\n",
       "      <td>20</td>\n",
       "      <td>2</td>\n",
       "      <td>2</td>\n",
       "      <td>1</td>\n",
       "      <td>2</td>\n",
       "      <td>2</td>\n",
       "      <td>5</td>\n",
       "      <td>5</td>\n",
       "      <td>4</td>\n",
       "      <td>4</td>\n",
       "      <td>5</td>\n",
       "      <td>4</td>\n",
       "      <td>11</td>\n",
       "      <td>9</td>\n",
       "      <td>9</td>\n",
       "      <td>9</td>\n",
       "      <td>0</td>\n",
       "    </tr>\n",
       "    <tr>\n",
       "      <th>391</th>\n",
       "      <td>17</td>\n",
       "      <td>3</td>\n",
       "      <td>1</td>\n",
       "      <td>2</td>\n",
       "      <td>1</td>\n",
       "      <td>0</td>\n",
       "      <td>2</td>\n",
       "      <td>4</td>\n",
       "      <td>5</td>\n",
       "      <td>3</td>\n",
       "      <td>4</td>\n",
       "      <td>2</td>\n",
       "      <td>3</td>\n",
       "      <td>14</td>\n",
       "      <td>16</td>\n",
       "      <td>16</td>\n",
       "      <td>1</td>\n",
       "    </tr>\n",
       "    <tr>\n",
       "      <th>392</th>\n",
       "      <td>21</td>\n",
       "      <td>1</td>\n",
       "      <td>1</td>\n",
       "      <td>1</td>\n",
       "      <td>1</td>\n",
       "      <td>3</td>\n",
       "      <td>5</td>\n",
       "      <td>5</td>\n",
       "      <td>3</td>\n",
       "      <td>3</td>\n",
       "      <td>3</td>\n",
       "      <td>3</td>\n",
       "      <td>3</td>\n",
       "      <td>10</td>\n",
       "      <td>8</td>\n",
       "      <td>7</td>\n",
       "      <td>0</td>\n",
       "    </tr>\n",
       "    <tr>\n",
       "      <th>393</th>\n",
       "      <td>18</td>\n",
       "      <td>3</td>\n",
       "      <td>2</td>\n",
       "      <td>3</td>\n",
       "      <td>1</td>\n",
       "      <td>0</td>\n",
       "      <td>4</td>\n",
       "      <td>4</td>\n",
       "      <td>1</td>\n",
       "      <td>3</td>\n",
       "      <td>4</td>\n",
       "      <td>5</td>\n",
       "      <td>0</td>\n",
       "      <td>11</td>\n",
       "      <td>12</td>\n",
       "      <td>10</td>\n",
       "      <td>0</td>\n",
       "    </tr>\n",
       "    <tr>\n",
       "      <th>394</th>\n",
       "      <td>19</td>\n",
       "      <td>1</td>\n",
       "      <td>1</td>\n",
       "      <td>1</td>\n",
       "      <td>1</td>\n",
       "      <td>0</td>\n",
       "      <td>3</td>\n",
       "      <td>2</td>\n",
       "      <td>3</td>\n",
       "      <td>3</td>\n",
       "      <td>3</td>\n",
       "      <td>5</td>\n",
       "      <td>5</td>\n",
       "      <td>8</td>\n",
       "      <td>9</td>\n",
       "      <td>9</td>\n",
       "      <td>0</td>\n",
       "    </tr>\n",
       "  </tbody>\n",
       "</table>\n",
       "<p>395 rows × 17 columns</p>\n",
       "</div>"
      ],
      "text/plain": [
       "     age  Medu  Fedu  traveltime  studytime  failures  famrel  freetime   \n",
       "0     18     4     4           2          2         0       4         3  \\\n",
       "1     17     1     1           1          2         0       5         3   \n",
       "2     15     1     1           1          2         3       4         3   \n",
       "3     15     4     2           1          3         0       3         2   \n",
       "4     16     3     3           1          2         0       4         3   \n",
       "..   ...   ...   ...         ...        ...       ...     ...       ...   \n",
       "390   20     2     2           1          2         2       5         5   \n",
       "391   17     3     1           2          1         0       2         4   \n",
       "392   21     1     1           1          1         3       5         5   \n",
       "393   18     3     2           3          1         0       4         4   \n",
       "394   19     1     1           1          1         0       3         2   \n",
       "\n",
       "     goout  Dalc  Walc  health  absences  G1  G2  G3  approved  \n",
       "0        4     1     1       3         6   5   6   6         0  \n",
       "1        3     1     1       3         4   5   5   6         0  \n",
       "2        2     2     3       3        10   7   8  10         0  \n",
       "3        2     1     1       5         2  15  14  15         1  \n",
       "4        2     1     2       5         4   6  10  10         0  \n",
       "..     ...   ...   ...     ...       ...  ..  ..  ..       ...  \n",
       "390      4     4     5       4        11   9   9   9         0  \n",
       "391      5     3     4       2         3  14  16  16         1  \n",
       "392      3     3     3       3         3  10   8   7         0  \n",
       "393      1     3     4       5         0  11  12  10         0  \n",
       "394      3     3     3       5         5   8   9   9         0  \n",
       "\n",
       "[395 rows x 17 columns]"
      ]
     },
     "execution_count": 16,
     "metadata": {},
     "output_type": "execute_result"
    }
   ],
   "source": [
    "df.loc[:, ~df.columns.isin(categorical_columns)]"
   ]
  },
  {
   "cell_type": "code",
   "execution_count": 17,
   "metadata": {},
   "outputs": [
    {
     "data": {
      "application/vnd.plotly.v1+json": {
       "config": {
        "plotlyServerURL": "https://plot.ly"
       },
       "data": [
        {
         "coloraxis": "coloraxis",
         "hovertemplate": "x: %{x}<br>y: %{y}<br>color: %{z}<extra></extra>",
         "name": "0",
         "texttemplate": "%{z}",
         "type": "heatmap",
         "x": [
          "age",
          "Medu",
          "Fedu",
          "traveltime",
          "studytime",
          "failures",
          "famrel",
          "freetime",
          "goout",
          "Dalc",
          "Walc",
          "health",
          "absences",
          "G1",
          "G2",
          "G3",
          "approved"
         ],
         "xaxis": "x",
         "y": [
          "age",
          "Medu",
          "Fedu",
          "traveltime",
          "studytime",
          "failures",
          "famrel",
          "freetime",
          "goout",
          "Dalc",
          "Walc",
          "health",
          "absences",
          "G1",
          "G2",
          "G3",
          "approved"
         ],
         "yaxis": "y",
         "z": [
          [
           1,
           -0.2,
           -0.2,
           0.1,
           0,
           0.2,
           0.1,
           0,
           0.1,
           0.1,
           0.1,
           -0.1,
           0.2,
           -0.1,
           -0.1,
           -0.2,
           -0.1
          ],
          [
           -0.2,
           1,
           0.6,
           -0.2,
           0.1,
           -0.2,
           0,
           0,
           0.1,
           0,
           0,
           0,
           0.1,
           0.2,
           0.2,
           0.2,
           0.2
          ],
          [
           -0.2,
           0.6,
           1,
           -0.2,
           0,
           -0.3,
           0,
           0,
           0,
           0,
           0,
           0,
           0,
           0.2,
           0.2,
           0.2,
           0.2
          ],
          [
           0.1,
           -0.2,
           -0.2,
           1,
           -0.1,
           0.1,
           0,
           0,
           0,
           0.1,
           0.1,
           0,
           0,
           -0.1,
           -0.2,
           -0.1,
           -0.1
          ],
          [
           0,
           0.1,
           0,
           -0.1,
           1,
           -0.2,
           0,
           -0.1,
           -0.1,
           -0.2,
           -0.3,
           -0.1,
           -0.1,
           0.2,
           0.1,
           0.1,
           0.1
          ],
          [
           0.2,
           -0.2,
           -0.3,
           0.1,
           -0.2,
           1,
           0,
           0.1,
           0.1,
           0.1,
           0.1,
           0.1,
           0.1,
           -0.4,
           -0.4,
           -0.4,
           -0.2
          ],
          [
           0.1,
           0,
           0,
           0,
           0,
           0,
           1,
           0.2,
           0.1,
           -0.1,
           -0.1,
           0.1,
           0,
           0,
           0,
           0.1,
           0
          ],
          [
           0,
           0,
           0,
           0,
           -0.1,
           0.1,
           0.2,
           1,
           0.3,
           0.2,
           0.1,
           0.1,
           -0.1,
           0,
           0,
           0,
           0
          ],
          [
           0.1,
           0.1,
           0,
           0,
           -0.1,
           0.1,
           0.1,
           0.3,
           1,
           0.3,
           0.4,
           0,
           0,
           -0.1,
           -0.2,
           -0.1,
           -0.1
          ],
          [
           0.1,
           0,
           0,
           0.1,
           -0.2,
           0.1,
           -0.1,
           0.2,
           0.3,
           1,
           0.6,
           0.1,
           0.1,
           -0.1,
           -0.1,
           -0.1,
           -0.1
          ],
          [
           0.1,
           0,
           0,
           0.1,
           -0.3,
           0.1,
           -0.1,
           0.1,
           0.4,
           0.6,
           1,
           0.1,
           0.1,
           -0.1,
           -0.1,
           -0.1,
           -0.1
          ],
          [
           -0.1,
           0,
           0,
           0,
           -0.1,
           0.1,
           0.1,
           0.1,
           0,
           0.1,
           0.1,
           1,
           0,
           -0.1,
           -0.1,
           -0.1,
           -0.1
          ],
          [
           0.2,
           0.1,
           0,
           0,
           -0.1,
           0.1,
           0,
           -0.1,
           0,
           0.1,
           0.1,
           0,
           1,
           0,
           0,
           0,
           -0.1
          ],
          [
           -0.1,
           0.2,
           0.2,
           -0.1,
           0.2,
           -0.4,
           0,
           0,
           -0.1,
           -0.1,
           -0.1,
           -0.1,
           0,
           1,
           0.9,
           0.8,
           0.7
          ],
          [
           -0.1,
           0.2,
           0.2,
           -0.2,
           0.1,
           -0.4,
           0,
           0,
           -0.2,
           -0.1,
           -0.1,
           -0.1,
           0,
           0.9,
           1,
           0.9,
           0.7
          ],
          [
           -0.2,
           0.2,
           0.2,
           -0.1,
           0.1,
           -0.4,
           0.1,
           0,
           -0.1,
           -0.1,
           -0.1,
           -0.1,
           0,
           0.8,
           0.9,
           1,
           0.7
          ],
          [
           -0.1,
           0.2,
           0.2,
           -0.1,
           0.1,
           -0.2,
           0,
           0,
           -0.1,
           -0.1,
           -0.1,
           -0.1,
           -0.1,
           0.7,
           0.7,
           0.7,
           1
          ]
         ]
        }
       ],
       "layout": {
        "coloraxis": {
         "colorscale": [
          [
           0,
           "rgb(247,251,255)"
          ],
          [
           0.125,
           "rgb(222,235,247)"
          ],
          [
           0.25,
           "rgb(198,219,239)"
          ],
          [
           0.375,
           "rgb(158,202,225)"
          ],
          [
           0.5,
           "rgb(107,174,214)"
          ],
          [
           0.625,
           "rgb(66,146,198)"
          ],
          [
           0.75,
           "rgb(33,113,181)"
          ],
          [
           0.875,
           "rgb(8,81,156)"
          ],
          [
           1,
           "rgb(8,48,107)"
          ]
         ],
         "showscale": false
        },
        "height": 600,
        "margin": {
         "t": 60
        },
        "template": {
         "data": {
          "bar": [
           {
            "error_x": {
             "color": "#2a3f5f"
            },
            "error_y": {
             "color": "#2a3f5f"
            },
            "marker": {
             "line": {
              "color": "#E5ECF6",
              "width": 0.5
             },
             "pattern": {
              "fillmode": "overlay",
              "size": 10,
              "solidity": 0.2
             }
            },
            "type": "bar"
           }
          ],
          "barpolar": [
           {
            "marker": {
             "line": {
              "color": "#E5ECF6",
              "width": 0.5
             },
             "pattern": {
              "fillmode": "overlay",
              "size": 10,
              "solidity": 0.2
             }
            },
            "type": "barpolar"
           }
          ],
          "carpet": [
           {
            "aaxis": {
             "endlinecolor": "#2a3f5f",
             "gridcolor": "white",
             "linecolor": "white",
             "minorgridcolor": "white",
             "startlinecolor": "#2a3f5f"
            },
            "baxis": {
             "endlinecolor": "#2a3f5f",
             "gridcolor": "white",
             "linecolor": "white",
             "minorgridcolor": "white",
             "startlinecolor": "#2a3f5f"
            },
            "type": "carpet"
           }
          ],
          "choropleth": [
           {
            "colorbar": {
             "outlinewidth": 0,
             "ticks": ""
            },
            "type": "choropleth"
           }
          ],
          "contour": [
           {
            "colorbar": {
             "outlinewidth": 0,
             "ticks": ""
            },
            "colorscale": [
             [
              0,
              "#0d0887"
             ],
             [
              0.1111111111111111,
              "#46039f"
             ],
             [
              0.2222222222222222,
              "#7201a8"
             ],
             [
              0.3333333333333333,
              "#9c179e"
             ],
             [
              0.4444444444444444,
              "#bd3786"
             ],
             [
              0.5555555555555556,
              "#d8576b"
             ],
             [
              0.6666666666666666,
              "#ed7953"
             ],
             [
              0.7777777777777778,
              "#fb9f3a"
             ],
             [
              0.8888888888888888,
              "#fdca26"
             ],
             [
              1,
              "#f0f921"
             ]
            ],
            "type": "contour"
           }
          ],
          "contourcarpet": [
           {
            "colorbar": {
             "outlinewidth": 0,
             "ticks": ""
            },
            "type": "contourcarpet"
           }
          ],
          "heatmap": [
           {
            "colorbar": {
             "outlinewidth": 0,
             "ticks": ""
            },
            "colorscale": [
             [
              0,
              "#0d0887"
             ],
             [
              0.1111111111111111,
              "#46039f"
             ],
             [
              0.2222222222222222,
              "#7201a8"
             ],
             [
              0.3333333333333333,
              "#9c179e"
             ],
             [
              0.4444444444444444,
              "#bd3786"
             ],
             [
              0.5555555555555556,
              "#d8576b"
             ],
             [
              0.6666666666666666,
              "#ed7953"
             ],
             [
              0.7777777777777778,
              "#fb9f3a"
             ],
             [
              0.8888888888888888,
              "#fdca26"
             ],
             [
              1,
              "#f0f921"
             ]
            ],
            "type": "heatmap"
           }
          ],
          "heatmapgl": [
           {
            "colorbar": {
             "outlinewidth": 0,
             "ticks": ""
            },
            "colorscale": [
             [
              0,
              "#0d0887"
             ],
             [
              0.1111111111111111,
              "#46039f"
             ],
             [
              0.2222222222222222,
              "#7201a8"
             ],
             [
              0.3333333333333333,
              "#9c179e"
             ],
             [
              0.4444444444444444,
              "#bd3786"
             ],
             [
              0.5555555555555556,
              "#d8576b"
             ],
             [
              0.6666666666666666,
              "#ed7953"
             ],
             [
              0.7777777777777778,
              "#fb9f3a"
             ],
             [
              0.8888888888888888,
              "#fdca26"
             ],
             [
              1,
              "#f0f921"
             ]
            ],
            "type": "heatmapgl"
           }
          ],
          "histogram": [
           {
            "marker": {
             "pattern": {
              "fillmode": "overlay",
              "size": 10,
              "solidity": 0.2
             }
            },
            "type": "histogram"
           }
          ],
          "histogram2d": [
           {
            "colorbar": {
             "outlinewidth": 0,
             "ticks": ""
            },
            "colorscale": [
             [
              0,
              "#0d0887"
             ],
             [
              0.1111111111111111,
              "#46039f"
             ],
             [
              0.2222222222222222,
              "#7201a8"
             ],
             [
              0.3333333333333333,
              "#9c179e"
             ],
             [
              0.4444444444444444,
              "#bd3786"
             ],
             [
              0.5555555555555556,
              "#d8576b"
             ],
             [
              0.6666666666666666,
              "#ed7953"
             ],
             [
              0.7777777777777778,
              "#fb9f3a"
             ],
             [
              0.8888888888888888,
              "#fdca26"
             ],
             [
              1,
              "#f0f921"
             ]
            ],
            "type": "histogram2d"
           }
          ],
          "histogram2dcontour": [
           {
            "colorbar": {
             "outlinewidth": 0,
             "ticks": ""
            },
            "colorscale": [
             [
              0,
              "#0d0887"
             ],
             [
              0.1111111111111111,
              "#46039f"
             ],
             [
              0.2222222222222222,
              "#7201a8"
             ],
             [
              0.3333333333333333,
              "#9c179e"
             ],
             [
              0.4444444444444444,
              "#bd3786"
             ],
             [
              0.5555555555555556,
              "#d8576b"
             ],
             [
              0.6666666666666666,
              "#ed7953"
             ],
             [
              0.7777777777777778,
              "#fb9f3a"
             ],
             [
              0.8888888888888888,
              "#fdca26"
             ],
             [
              1,
              "#f0f921"
             ]
            ],
            "type": "histogram2dcontour"
           }
          ],
          "mesh3d": [
           {
            "colorbar": {
             "outlinewidth": 0,
             "ticks": ""
            },
            "type": "mesh3d"
           }
          ],
          "parcoords": [
           {
            "line": {
             "colorbar": {
              "outlinewidth": 0,
              "ticks": ""
             }
            },
            "type": "parcoords"
           }
          ],
          "pie": [
           {
            "automargin": true,
            "type": "pie"
           }
          ],
          "scatter": [
           {
            "fillpattern": {
             "fillmode": "overlay",
             "size": 10,
             "solidity": 0.2
            },
            "type": "scatter"
           }
          ],
          "scatter3d": [
           {
            "line": {
             "colorbar": {
              "outlinewidth": 0,
              "ticks": ""
             }
            },
            "marker": {
             "colorbar": {
              "outlinewidth": 0,
              "ticks": ""
             }
            },
            "type": "scatter3d"
           }
          ],
          "scattercarpet": [
           {
            "marker": {
             "colorbar": {
              "outlinewidth": 0,
              "ticks": ""
             }
            },
            "type": "scattercarpet"
           }
          ],
          "scattergeo": [
           {
            "marker": {
             "colorbar": {
              "outlinewidth": 0,
              "ticks": ""
             }
            },
            "type": "scattergeo"
           }
          ],
          "scattergl": [
           {
            "marker": {
             "colorbar": {
              "outlinewidth": 0,
              "ticks": ""
             }
            },
            "type": "scattergl"
           }
          ],
          "scattermapbox": [
           {
            "marker": {
             "colorbar": {
              "outlinewidth": 0,
              "ticks": ""
             }
            },
            "type": "scattermapbox"
           }
          ],
          "scatterpolar": [
           {
            "marker": {
             "colorbar": {
              "outlinewidth": 0,
              "ticks": ""
             }
            },
            "type": "scatterpolar"
           }
          ],
          "scatterpolargl": [
           {
            "marker": {
             "colorbar": {
              "outlinewidth": 0,
              "ticks": ""
             }
            },
            "type": "scatterpolargl"
           }
          ],
          "scatterternary": [
           {
            "marker": {
             "colorbar": {
              "outlinewidth": 0,
              "ticks": ""
             }
            },
            "type": "scatterternary"
           }
          ],
          "surface": [
           {
            "colorbar": {
             "outlinewidth": 0,
             "ticks": ""
            },
            "colorscale": [
             [
              0,
              "#0d0887"
             ],
             [
              0.1111111111111111,
              "#46039f"
             ],
             [
              0.2222222222222222,
              "#7201a8"
             ],
             [
              0.3333333333333333,
              "#9c179e"
             ],
             [
              0.4444444444444444,
              "#bd3786"
             ],
             [
              0.5555555555555556,
              "#d8576b"
             ],
             [
              0.6666666666666666,
              "#ed7953"
             ],
             [
              0.7777777777777778,
              "#fb9f3a"
             ],
             [
              0.8888888888888888,
              "#fdca26"
             ],
             [
              1,
              "#f0f921"
             ]
            ],
            "type": "surface"
           }
          ],
          "table": [
           {
            "cells": {
             "fill": {
              "color": "#EBF0F8"
             },
             "line": {
              "color": "white"
             }
            },
            "header": {
             "fill": {
              "color": "#C8D4E3"
             },
             "line": {
              "color": "white"
             }
            },
            "type": "table"
           }
          ]
         },
         "layout": {
          "annotationdefaults": {
           "arrowcolor": "#2a3f5f",
           "arrowhead": 0,
           "arrowwidth": 1
          },
          "autotypenumbers": "strict",
          "coloraxis": {
           "colorbar": {
            "outlinewidth": 0,
            "ticks": ""
           }
          },
          "colorscale": {
           "diverging": [
            [
             0,
             "#8e0152"
            ],
            [
             0.1,
             "#c51b7d"
            ],
            [
             0.2,
             "#de77ae"
            ],
            [
             0.3,
             "#f1b6da"
            ],
            [
             0.4,
             "#fde0ef"
            ],
            [
             0.5,
             "#f7f7f7"
            ],
            [
             0.6,
             "#e6f5d0"
            ],
            [
             0.7,
             "#b8e186"
            ],
            [
             0.8,
             "#7fbc41"
            ],
            [
             0.9,
             "#4d9221"
            ],
            [
             1,
             "#276419"
            ]
           ],
           "sequential": [
            [
             0,
             "#0d0887"
            ],
            [
             0.1111111111111111,
             "#46039f"
            ],
            [
             0.2222222222222222,
             "#7201a8"
            ],
            [
             0.3333333333333333,
             "#9c179e"
            ],
            [
             0.4444444444444444,
             "#bd3786"
            ],
            [
             0.5555555555555556,
             "#d8576b"
            ],
            [
             0.6666666666666666,
             "#ed7953"
            ],
            [
             0.7777777777777778,
             "#fb9f3a"
            ],
            [
             0.8888888888888888,
             "#fdca26"
            ],
            [
             1,
             "#f0f921"
            ]
           ],
           "sequentialminus": [
            [
             0,
             "#0d0887"
            ],
            [
             0.1111111111111111,
             "#46039f"
            ],
            [
             0.2222222222222222,
             "#7201a8"
            ],
            [
             0.3333333333333333,
             "#9c179e"
            ],
            [
             0.4444444444444444,
             "#bd3786"
            ],
            [
             0.5555555555555556,
             "#d8576b"
            ],
            [
             0.6666666666666666,
             "#ed7953"
            ],
            [
             0.7777777777777778,
             "#fb9f3a"
            ],
            [
             0.8888888888888888,
             "#fdca26"
            ],
            [
             1,
             "#f0f921"
            ]
           ]
          },
          "colorway": [
           "#636efa",
           "#EF553B",
           "#00cc96",
           "#ab63fa",
           "#FFA15A",
           "#19d3f3",
           "#FF6692",
           "#B6E880",
           "#FF97FF",
           "#FECB52"
          ],
          "font": {
           "color": "#2a3f5f"
          },
          "geo": {
           "bgcolor": "white",
           "lakecolor": "white",
           "landcolor": "#E5ECF6",
           "showlakes": true,
           "showland": true,
           "subunitcolor": "white"
          },
          "hoverlabel": {
           "align": "left"
          },
          "hovermode": "closest",
          "mapbox": {
           "style": "light"
          },
          "paper_bgcolor": "white",
          "plot_bgcolor": "#E5ECF6",
          "polar": {
           "angularaxis": {
            "gridcolor": "white",
            "linecolor": "white",
            "ticks": ""
           },
           "bgcolor": "#E5ECF6",
           "radialaxis": {
            "gridcolor": "white",
            "linecolor": "white",
            "ticks": ""
           }
          },
          "scene": {
           "xaxis": {
            "backgroundcolor": "#E5ECF6",
            "gridcolor": "white",
            "gridwidth": 2,
            "linecolor": "white",
            "showbackground": true,
            "ticks": "",
            "zerolinecolor": "white"
           },
           "yaxis": {
            "backgroundcolor": "#E5ECF6",
            "gridcolor": "white",
            "gridwidth": 2,
            "linecolor": "white",
            "showbackground": true,
            "ticks": "",
            "zerolinecolor": "white"
           },
           "zaxis": {
            "backgroundcolor": "#E5ECF6",
            "gridcolor": "white",
            "gridwidth": 2,
            "linecolor": "white",
            "showbackground": true,
            "ticks": "",
            "zerolinecolor": "white"
           }
          },
          "shapedefaults": {
           "line": {
            "color": "#2a3f5f"
           }
          },
          "ternary": {
           "aaxis": {
            "gridcolor": "white",
            "linecolor": "white",
            "ticks": ""
           },
           "baxis": {
            "gridcolor": "white",
            "linecolor": "white",
            "ticks": ""
           },
           "bgcolor": "#E5ECF6",
           "caxis": {
            "gridcolor": "white",
            "linecolor": "white",
            "ticks": ""
           }
          },
          "title": {
           "x": 0.05
          },
          "xaxis": {
           "automargin": true,
           "gridcolor": "white",
           "linecolor": "white",
           "ticks": "",
           "title": {
            "standoff": 15
           },
           "zerolinecolor": "white",
           "zerolinewidth": 2
          },
          "yaxis": {
           "automargin": true,
           "gridcolor": "white",
           "linecolor": "white",
           "ticks": "",
           "title": {
            "standoff": 15
           },
           "zerolinecolor": "white",
           "zerolinewidth": 2
          }
         }
        },
        "title": {
         "text": "Correlation Map"
        },
        "width": 1050,
        "xaxis": {
         "anchor": "y",
         "domain": [
          0,
          1
         ]
        },
        "yaxis": {
         "anchor": "x",
         "autorange": "reversed",
         "domain": [
          0,
          1
         ]
        }
       }
      }
     },
     "metadata": {},
     "output_type": "display_data"
    }
   ],
   "source": [
    "fig = px.imshow(df[numerical_columns].corr().round(1), text_auto=True, aspect=\"auto\", color_continuous_scale=px.colors.sequential.Blues)\n",
    "fig.layout.height = 600\n",
    "fig.layout.width = 1050\n",
    "fig.update_coloraxes(showscale=False)\n",
    "fig.update_layout(\n",
    "    title_text=\"Correlation Map\")\n",
    "fig.show()"
   ]
  },
  {
   "cell_type": "markdown",
   "metadata": {},
   "source": [
    "<h2> <font color= #847ACC> Statistics</h2>\n",
    "<a id=\"EST\"></a>\n",
    "    \n",
    "____"
   ]
  },
  {
   "cell_type": "markdown",
   "metadata": {},
   "source": [
    "[<div style=\"text-align:center\"><img src=\"imgs/arrow.png\" width=\"15\" height=\"10\"></div>](#IND)\n",
    "<h3> <font color= #847ACC> Measures of Central Tendency & Variability </h3>\n",
    "<a id=\"MTCV\"></a>"
   ]
  },
  {
   "cell_type": "code",
   "execution_count": 18,
   "metadata": {},
   "outputs": [
    {
     "name": "stdout",
     "output_type": "stream",
     "text": [
      "CPU times: total: 62.5 ms\n",
      "Wall time: 123 ms\n"
     ]
    },
    {
     "data": {
      "text/html": [
       "<style type=\"text/css\">\n",
       "#T_b1416_row0_col0, #T_b1416_row0_col3, #T_b1416_row0_col4, #T_b1416_row1_col0, #T_b1416_row2_col0, #T_b1416_row2_col3, #T_b1416_row3_col0, #T_b1416_row3_col3, #T_b1416_row4_col0, #T_b1416_row5_col0, #T_b1416_row6_col0, #T_b1416_row7_col0, #T_b1416_row8_col0, #T_b1416_row9_col0, #T_b1416_row10_col0, #T_b1416_row11_col0, #T_b1416_row11_col3, #T_b1416_row12_col0, #T_b1416_row13_col0, #T_b1416_row14_col0, #T_b1416_row14_col3, #T_b1416_row15_col0, #T_b1416_row15_col1, #T_b1416_row15_col3, #T_b1416_row15_col4, #T_b1416_row15_col5, #T_b1416_row15_col6, #T_b1416_row16_col0, #T_b1416_row16_col1, #T_b1416_row16_col2, #T_b1416_row16_col3, #T_b1416_row16_col4, #T_b1416_row16_col5 {\n",
       "  background-color: #f7fbff;\n",
       "  color: #000000;\n",
       "}\n",
       "#T_b1416_row0_col1 {\n",
       "  background-color: #add0e6;\n",
       "  color: #000000;\n",
       "}\n",
       "#T_b1416_row0_col2, #T_b1416_row1_col1, #T_b1416_row1_col3, #T_b1416_row1_col4, #T_b1416_row1_col5, #T_b1416_row1_col6 {\n",
       "  background-color: #08306b;\n",
       "  color: #f1f1f1;\n",
       "}\n",
       "#T_b1416_row0_col5, #T_b1416_row6_col5, #T_b1416_row10_col5 {\n",
       "  background-color: #c9ddf0;\n",
       "  color: #000000;\n",
       "}\n",
       "#T_b1416_row0_col6 {\n",
       "  background-color: #82bbdb;\n",
       "  color: #000000;\n",
       "}\n",
       "#T_b1416_row0_col7 {\n",
       "  background-color: #08306b;\n",
       "  color: #f1f1f1;\n",
       "  width: 10em;\n",
       "  background: linear-gradient(90deg, #BB0000 100.0%, transparent 100.0%);\n",
       "}\n",
       "#T_b1416_row0_col8, #T_b1416_row1_col8, #T_b1416_row2_col8, #T_b1416_row3_col8, #T_b1416_row4_col8, #T_b1416_row5_col8, #T_b1416_row6_col8, #T_b1416_row7_col8, #T_b1416_row8_col8, #T_b1416_row9_col8, #T_b1416_row10_col8, #T_b1416_row11_col8, #T_b1416_row12_col8, #T_b1416_row13_col8, #T_b1416_row14_col8, #T_b1416_row15_col8, #T_b1416_row16_col8 {\n",
       "  background-color: #f7fbff;\n",
       "  color: #000000;\n",
       "  width: 10em;\n",
       "}\n",
       "#T_b1416_row1_col2, #T_b1416_row7_col2 {\n",
       "  background-color: #e2edf8;\n",
       "  color: #000000;\n",
       "}\n",
       "#T_b1416_row1_col7 {\n",
       "  background-color: #bcd7eb;\n",
       "  color: #000000;\n",
       "  width: 10em;\n",
       "  background: linear-gradient(90deg, #BB0000 29.3%, transparent 29.3%);\n",
       "}\n",
       "#T_b1416_row2_col1 {\n",
       "  background-color: #4594c7;\n",
       "  color: #f1f1f1;\n",
       "}\n",
       "#T_b1416_row2_col2 {\n",
       "  background-color: #5ca4d0;\n",
       "  color: #f1f1f1;\n",
       "}\n",
       "#T_b1416_row2_col4, #T_b1416_row4_col4 {\n",
       "  background-color: #6aaed6;\n",
       "  color: #f1f1f1;\n",
       "}\n",
       "#T_b1416_row2_col5, #T_b1416_row3_col5, #T_b1416_row4_col1, #T_b1416_row4_col5 {\n",
       "  background-color: #3c8cc3;\n",
       "  color: #f1f1f1;\n",
       "}\n",
       "#T_b1416_row2_col6 {\n",
       "  background-color: #1b69af;\n",
       "  color: #f1f1f1;\n",
       "}\n",
       "#T_b1416_row2_col7 {\n",
       "  background-color: #c4daee;\n",
       "  color: #000000;\n",
       "  width: 10em;\n",
       "  background: linear-gradient(90deg, #BB0000 26.7%, transparent 26.7%);\n",
       "}\n",
       "#T_b1416_row3_col1 {\n",
       "  background-color: #3f8fc5;\n",
       "  color: #f1f1f1;\n",
       "}\n",
       "#T_b1416_row3_col2 {\n",
       "  background-color: #85bcdc;\n",
       "  color: #000000;\n",
       "}\n",
       "#T_b1416_row3_col4 {\n",
       "  background-color: #56a0ce;\n",
       "  color: #f1f1f1;\n",
       "}\n",
       "#T_b1416_row3_col6, #T_b1416_row4_col6 {\n",
       "  background-color: #2979b9;\n",
       "  color: #f1f1f1;\n",
       "}\n",
       "#T_b1416_row3_col7, #T_b1416_row4_col7 {\n",
       "  background-color: #c7dcef;\n",
       "  color: #000000;\n",
       "  width: 10em;\n",
       "  background: linear-gradient(90deg, #BB0000 25.3%, transparent 25.3%);\n",
       "}\n",
       "#T_b1416_row4_col2 {\n",
       "  background-color: #9dcae1;\n",
       "  color: #000000;\n",
       "}\n",
       "#T_b1416_row4_col3 {\n",
       "  background-color: #d0e1f2;\n",
       "  color: #000000;\n",
       "}\n",
       "#T_b1416_row5_col1, #T_b1416_row5_col3, #T_b1416_row6_col3, #T_b1416_row7_col3, #T_b1416_row8_col3, #T_b1416_row9_col2, #T_b1416_row9_col3, #T_b1416_row10_col3, #T_b1416_row12_col3, #T_b1416_row13_col1, #T_b1416_row13_col3 {\n",
       "  background-color: #eaf2fb;\n",
       "  color: #000000;\n",
       "}\n",
       "#T_b1416_row5_col2, #T_b1416_row10_col2, #T_b1416_row16_col6 {\n",
       "  background-color: #ecf4fb;\n",
       "  color: #000000;\n",
       "}\n",
       "#T_b1416_row5_col4, #T_b1416_row7_col4, #T_b1416_row12_col4, #T_b1416_row13_col4 {\n",
       "  background-color: #eaf3fb;\n",
       "  color: #000000;\n",
       "}\n",
       "#T_b1416_row5_col5, #T_b1416_row13_col5 {\n",
       "  background-color: #ebf3fb;\n",
       "  color: #000000;\n",
       "}\n",
       "#T_b1416_row5_col6, #T_b1416_row12_col6, #T_b1416_row13_col6 {\n",
       "  background-color: #e1edf8;\n",
       "  color: #000000;\n",
       "}\n",
       "#T_b1416_row5_col7, #T_b1416_row6_col7, #T_b1416_row7_col7, #T_b1416_row8_col7, #T_b1416_row9_col7, #T_b1416_row10_col7 {\n",
       "  background-color: #edf4fc;\n",
       "  color: #000000;\n",
       "  width: 10em;\n",
       "  background: linear-gradient(90deg, #BB0000 6.7%, transparent 6.7%);\n",
       "}\n",
       "#T_b1416_row6_col1 {\n",
       "  background-color: #d0e2f2;\n",
       "  color: #000000;\n",
       "}\n",
       "#T_b1416_row6_col2 {\n",
       "  background-color: #dfebf7;\n",
       "  color: #000000;\n",
       "}\n",
       "#T_b1416_row6_col4, #T_b1416_row9_col4 {\n",
       "  background-color: #d2e3f3;\n",
       "  color: #000000;\n",
       "}\n",
       "#T_b1416_row6_col6, #T_b1416_row10_col6 {\n",
       "  background-color: #bdd7ec;\n",
       "  color: #000000;\n",
       "}\n",
       "#T_b1416_row7_col1, #T_b1416_row7_col5, #T_b1416_row12_col5, #T_b1416_row14_col5 {\n",
       "  background-color: #dfecf7;\n",
       "  color: #000000;\n",
       "}\n",
       "#T_b1416_row7_col6, #T_b1416_row14_col6 {\n",
       "  background-color: #d6e6f4;\n",
       "  color: #000000;\n",
       "}\n",
       "#T_b1416_row8_col1 {\n",
       "  background-color: #d6e5f4;\n",
       "  color: #000000;\n",
       "}\n",
       "#T_b1416_row8_col2, #T_b1416_row11_col2 {\n",
       "  background-color: #e7f0fa;\n",
       "  color: #000000;\n",
       "}\n",
       "#T_b1416_row8_col4, #T_b1416_row11_col4, #T_b1416_row14_col4 {\n",
       "  background-color: #deebf7;\n",
       "  color: #000000;\n",
       "}\n",
       "#T_b1416_row8_col5, #T_b1416_row9_col1, #T_b1416_row9_col5, #T_b1416_row11_col5 {\n",
       "  background-color: #d4e4f4;\n",
       "  color: #000000;\n",
       "}\n",
       "#T_b1416_row8_col6, #T_b1416_row9_col6, #T_b1416_row10_col1, #T_b1416_row11_col6 {\n",
       "  background-color: #ccdff1;\n",
       "  color: #000000;\n",
       "}\n",
       "#T_b1416_row10_col4 {\n",
       "  background-color: #c6dbef;\n",
       "  color: #000000;\n",
       "}\n",
       "#T_b1416_row11_col1 {\n",
       "  background-color: #dae8f6;\n",
       "  color: #000000;\n",
       "}\n",
       "#T_b1416_row11_col7, #T_b1416_row12_col7, #T_b1416_row13_col7, #T_b1416_row14_col7 {\n",
       "  background-color: #eff6fc;\n",
       "  color: #000000;\n",
       "  width: 10em;\n",
       "  background: linear-gradient(90deg, #BB0000 5.3%, transparent 5.3%);\n",
       "}\n",
       "#T_b1416_row12_col1 {\n",
       "  background-color: #e3eef8;\n",
       "  color: #000000;\n",
       "}\n",
       "#T_b1416_row12_col2 {\n",
       "  background-color: #eef5fc;\n",
       "  color: #000000;\n",
       "}\n",
       "#T_b1416_row13_col2 {\n",
       "  background-color: #f2f7fd;\n",
       "  color: #000000;\n",
       "}\n",
       "#T_b1416_row14_col1 {\n",
       "  background-color: #dceaf6;\n",
       "  color: #000000;\n",
       "}\n",
       "#T_b1416_row14_col2 {\n",
       "  background-color: #e7f1fa;\n",
       "  color: #000000;\n",
       "}\n",
       "#T_b1416_row15_col2 {\n",
       "  background-color: #f0f6fd;\n",
       "  color: #000000;\n",
       "}\n",
       "#T_b1416_row15_col7 {\n",
       "  background-color: #f2f8fd;\n",
       "  color: #000000;\n",
       "  width: 10em;\n",
       "  background: linear-gradient(90deg, #BB0000 4.0%, transparent 4.0%);\n",
       "}\n",
       "#T_b1416_row16_col7 {\n",
       "  background-color: #f7fbff;\n",
       "  color: #000000;\n",
       "  width: 10em;\n",
       "  background: linear-gradient(90deg, #BB0000 1.3%, transparent 1.3%);\n",
       "}\n",
       "</style>\n",
       "<table id=\"T_b1416\">\n",
       "  <thead>\n",
       "    <tr>\n",
       "      <th class=\"blank level0\" >&nbsp;</th>\n",
       "      <th id=\"T_b1416_level0_col0\" class=\"col_heading level0 col0\" >count</th>\n",
       "      <th id=\"T_b1416_level0_col1\" class=\"col_heading level0 col1\" >mean</th>\n",
       "      <th id=\"T_b1416_level0_col2\" class=\"col_heading level0 col2\" >std</th>\n",
       "      <th id=\"T_b1416_level0_col3\" class=\"col_heading level0 col3\" >min</th>\n",
       "      <th id=\"T_b1416_level0_col4\" class=\"col_heading level0 col4\" >25%</th>\n",
       "      <th id=\"T_b1416_level0_col5\" class=\"col_heading level0 col5\" >50%</th>\n",
       "      <th id=\"T_b1416_level0_col6\" class=\"col_heading level0 col6\" >75%</th>\n",
       "      <th id=\"T_b1416_level0_col7\" class=\"col_heading level0 col7\" >max</th>\n",
       "      <th id=\"T_b1416_level0_col8\" class=\"col_heading level0 col8\" >missing</th>\n",
       "    </tr>\n",
       "  </thead>\n",
       "  <tbody>\n",
       "    <tr>\n",
       "      <th id=\"T_b1416_level0_row0\" class=\"row_heading level0 row0\" >absences</th>\n",
       "      <td id=\"T_b1416_row0_col0\" class=\"data row0 col0\" >395.0000</td>\n",
       "      <td id=\"T_b1416_row0_col1\" class=\"data row0 col1\" >5.7089</td>\n",
       "      <td id=\"T_b1416_row0_col2\" class=\"data row0 col2\" >8.0031</td>\n",
       "      <td id=\"T_b1416_row0_col3\" class=\"data row0 col3\" >0.0000</td>\n",
       "      <td id=\"T_b1416_row0_col4\" class=\"data row0 col4\" >0.0000</td>\n",
       "      <td id=\"T_b1416_row0_col5\" class=\"data row0 col5\" >4.0000</td>\n",
       "      <td id=\"T_b1416_row0_col6\" class=\"data row0 col6\" >8.0000</td>\n",
       "      <td id=\"T_b1416_row0_col7\" class=\"data row0 col7\" >75.0000</td>\n",
       "      <td id=\"T_b1416_row0_col8\" class=\"data row0 col8\" >0.0000</td>\n",
       "    </tr>\n",
       "    <tr>\n",
       "      <th id=\"T_b1416_level0_row1\" class=\"row_heading level0 row1\" >age</th>\n",
       "      <td id=\"T_b1416_row1_col0\" class=\"data row1 col0\" >395.0000</td>\n",
       "      <td id=\"T_b1416_row1_col1\" class=\"data row1 col1\" >16.6962</td>\n",
       "      <td id=\"T_b1416_row1_col2\" class=\"data row1 col2\" >1.2760</td>\n",
       "      <td id=\"T_b1416_row1_col3\" class=\"data row1 col3\" >15.0000</td>\n",
       "      <td id=\"T_b1416_row1_col4\" class=\"data row1 col4\" >16.0000</td>\n",
       "      <td id=\"T_b1416_row1_col5\" class=\"data row1 col5\" >17.0000</td>\n",
       "      <td id=\"T_b1416_row1_col6\" class=\"data row1 col6\" >18.0000</td>\n",
       "      <td id=\"T_b1416_row1_col7\" class=\"data row1 col7\" >22.0000</td>\n",
       "      <td id=\"T_b1416_row1_col8\" class=\"data row1 col8\" >0.0000</td>\n",
       "    </tr>\n",
       "    <tr>\n",
       "      <th id=\"T_b1416_level0_row2\" class=\"row_heading level0 row2\" >G3</th>\n",
       "      <td id=\"T_b1416_row2_col0\" class=\"data row2 col0\" >395.0000</td>\n",
       "      <td id=\"T_b1416_row2_col1\" class=\"data row2 col1\" >10.4152</td>\n",
       "      <td id=\"T_b1416_row2_col2\" class=\"data row2 col2\" >4.5814</td>\n",
       "      <td id=\"T_b1416_row2_col3\" class=\"data row2 col3\" >0.0000</td>\n",
       "      <td id=\"T_b1416_row2_col4\" class=\"data row2 col4\" >8.0000</td>\n",
       "      <td id=\"T_b1416_row2_col5\" class=\"data row2 col5\" >11.0000</td>\n",
       "      <td id=\"T_b1416_row2_col6\" class=\"data row2 col6\" >14.0000</td>\n",
       "      <td id=\"T_b1416_row2_col7\" class=\"data row2 col7\" >20.0000</td>\n",
       "      <td id=\"T_b1416_row2_col8\" class=\"data row2 col8\" >0.0000</td>\n",
       "    </tr>\n",
       "    <tr>\n",
       "      <th id=\"T_b1416_level0_row3\" class=\"row_heading level0 row3\" >G2</th>\n",
       "      <td id=\"T_b1416_row3_col0\" class=\"data row3 col0\" >395.0000</td>\n",
       "      <td id=\"T_b1416_row3_col1\" class=\"data row3 col1\" >10.7139</td>\n",
       "      <td id=\"T_b1416_row3_col2\" class=\"data row3 col2\" >3.7615</td>\n",
       "      <td id=\"T_b1416_row3_col3\" class=\"data row3 col3\" >0.0000</td>\n",
       "      <td id=\"T_b1416_row3_col4\" class=\"data row3 col4\" >9.0000</td>\n",
       "      <td id=\"T_b1416_row3_col5\" class=\"data row3 col5\" >11.0000</td>\n",
       "      <td id=\"T_b1416_row3_col6\" class=\"data row3 col6\" >13.0000</td>\n",
       "      <td id=\"T_b1416_row3_col7\" class=\"data row3 col7\" >19.0000</td>\n",
       "      <td id=\"T_b1416_row3_col8\" class=\"data row3 col8\" >0.0000</td>\n",
       "    </tr>\n",
       "    <tr>\n",
       "      <th id=\"T_b1416_level0_row4\" class=\"row_heading level0 row4\" >G1</th>\n",
       "      <td id=\"T_b1416_row4_col0\" class=\"data row4 col0\" >395.0000</td>\n",
       "      <td id=\"T_b1416_row4_col1\" class=\"data row4 col1\" >10.9089</td>\n",
       "      <td id=\"T_b1416_row4_col2\" class=\"data row4 col2\" >3.3192</td>\n",
       "      <td id=\"T_b1416_row4_col3\" class=\"data row4 col3\" >3.0000</td>\n",
       "      <td id=\"T_b1416_row4_col4\" class=\"data row4 col4\" >8.0000</td>\n",
       "      <td id=\"T_b1416_row4_col5\" class=\"data row4 col5\" >11.0000</td>\n",
       "      <td id=\"T_b1416_row4_col6\" class=\"data row4 col6\" >13.0000</td>\n",
       "      <td id=\"T_b1416_row4_col7\" class=\"data row4 col7\" >19.0000</td>\n",
       "      <td id=\"T_b1416_row4_col8\" class=\"data row4 col8\" >0.0000</td>\n",
       "    </tr>\n",
       "    <tr>\n",
       "      <th id=\"T_b1416_level0_row5\" class=\"row_heading level0 row5\" >Dalc</th>\n",
       "      <td id=\"T_b1416_row5_col0\" class=\"data row5 col0\" >395.0000</td>\n",
       "      <td id=\"T_b1416_row5_col1\" class=\"data row5 col1\" >1.4810</td>\n",
       "      <td id=\"T_b1416_row5_col2\" class=\"data row5 col2\" >0.8907</td>\n",
       "      <td id=\"T_b1416_row5_col3\" class=\"data row5 col3\" >1.0000</td>\n",
       "      <td id=\"T_b1416_row5_col4\" class=\"data row5 col4\" >1.0000</td>\n",
       "      <td id=\"T_b1416_row5_col5\" class=\"data row5 col5\" >1.0000</td>\n",
       "      <td id=\"T_b1416_row5_col6\" class=\"data row5 col6\" >2.0000</td>\n",
       "      <td id=\"T_b1416_row5_col7\" class=\"data row5 col7\" >5.0000</td>\n",
       "      <td id=\"T_b1416_row5_col8\" class=\"data row5 col8\" >0.0000</td>\n",
       "    </tr>\n",
       "    <tr>\n",
       "      <th id=\"T_b1416_level0_row6\" class=\"row_heading level0 row6\" >health</th>\n",
       "      <td id=\"T_b1416_row6_col0\" class=\"data row6 col0\" >395.0000</td>\n",
       "      <td id=\"T_b1416_row6_col1\" class=\"data row6 col1\" >3.5544</td>\n",
       "      <td id=\"T_b1416_row6_col2\" class=\"data row6 col2\" >1.3903</td>\n",
       "      <td id=\"T_b1416_row6_col3\" class=\"data row6 col3\" >1.0000</td>\n",
       "      <td id=\"T_b1416_row6_col4\" class=\"data row6 col4\" >3.0000</td>\n",
       "      <td id=\"T_b1416_row6_col5\" class=\"data row6 col5\" >4.0000</td>\n",
       "      <td id=\"T_b1416_row6_col6\" class=\"data row6 col6\" >5.0000</td>\n",
       "      <td id=\"T_b1416_row6_col7\" class=\"data row6 col7\" >5.0000</td>\n",
       "      <td id=\"T_b1416_row6_col8\" class=\"data row6 col8\" >0.0000</td>\n",
       "    </tr>\n",
       "    <tr>\n",
       "      <th id=\"T_b1416_level0_row7\" class=\"row_heading level0 row7\" >Walc</th>\n",
       "      <td id=\"T_b1416_row7_col0\" class=\"data row7 col0\" >395.0000</td>\n",
       "      <td id=\"T_b1416_row7_col1\" class=\"data row7 col1\" >2.2911</td>\n",
       "      <td id=\"T_b1416_row7_col2\" class=\"data row7 col2\" >1.2879</td>\n",
       "      <td id=\"T_b1416_row7_col3\" class=\"data row7 col3\" >1.0000</td>\n",
       "      <td id=\"T_b1416_row7_col4\" class=\"data row7 col4\" >1.0000</td>\n",
       "      <td id=\"T_b1416_row7_col5\" class=\"data row7 col5\" >2.0000</td>\n",
       "      <td id=\"T_b1416_row7_col6\" class=\"data row7 col6\" >3.0000</td>\n",
       "      <td id=\"T_b1416_row7_col7\" class=\"data row7 col7\" >5.0000</td>\n",
       "      <td id=\"T_b1416_row7_col8\" class=\"data row7 col8\" >0.0000</td>\n",
       "    </tr>\n",
       "    <tr>\n",
       "      <th id=\"T_b1416_level0_row8\" class=\"row_heading level0 row8\" >goout</th>\n",
       "      <td id=\"T_b1416_row8_col0\" class=\"data row8 col0\" >395.0000</td>\n",
       "      <td id=\"T_b1416_row8_col1\" class=\"data row8 col1\" >3.1089</td>\n",
       "      <td id=\"T_b1416_row8_col2\" class=\"data row8 col2\" >1.1133</td>\n",
       "      <td id=\"T_b1416_row8_col3\" class=\"data row8 col3\" >1.0000</td>\n",
       "      <td id=\"T_b1416_row8_col4\" class=\"data row8 col4\" >2.0000</td>\n",
       "      <td id=\"T_b1416_row8_col5\" class=\"data row8 col5\" >3.0000</td>\n",
       "      <td id=\"T_b1416_row8_col6\" class=\"data row8 col6\" >4.0000</td>\n",
       "      <td id=\"T_b1416_row8_col7\" class=\"data row8 col7\" >5.0000</td>\n",
       "      <td id=\"T_b1416_row8_col8\" class=\"data row8 col8\" >0.0000</td>\n",
       "    </tr>\n",
       "    <tr>\n",
       "      <th id=\"T_b1416_level0_row9\" class=\"row_heading level0 row9\" >freetime</th>\n",
       "      <td id=\"T_b1416_row9_col0\" class=\"data row9 col0\" >395.0000</td>\n",
       "      <td id=\"T_b1416_row9_col1\" class=\"data row9 col1\" >3.2354</td>\n",
       "      <td id=\"T_b1416_row9_col2\" class=\"data row9 col2\" >0.9989</td>\n",
       "      <td id=\"T_b1416_row9_col3\" class=\"data row9 col3\" >1.0000</td>\n",
       "      <td id=\"T_b1416_row9_col4\" class=\"data row9 col4\" >3.0000</td>\n",
       "      <td id=\"T_b1416_row9_col5\" class=\"data row9 col5\" >3.0000</td>\n",
       "      <td id=\"T_b1416_row9_col6\" class=\"data row9 col6\" >4.0000</td>\n",
       "      <td id=\"T_b1416_row9_col7\" class=\"data row9 col7\" >5.0000</td>\n",
       "      <td id=\"T_b1416_row9_col8\" class=\"data row9 col8\" >0.0000</td>\n",
       "    </tr>\n",
       "    <tr>\n",
       "      <th id=\"T_b1416_level0_row10\" class=\"row_heading level0 row10\" >famrel</th>\n",
       "      <td id=\"T_b1416_row10_col0\" class=\"data row10 col0\" >395.0000</td>\n",
       "      <td id=\"T_b1416_row10_col1\" class=\"data row10 col1\" >3.9443</td>\n",
       "      <td id=\"T_b1416_row10_col2\" class=\"data row10 col2\" >0.8967</td>\n",
       "      <td id=\"T_b1416_row10_col3\" class=\"data row10 col3\" >1.0000</td>\n",
       "      <td id=\"T_b1416_row10_col4\" class=\"data row10 col4\" >4.0000</td>\n",
       "      <td id=\"T_b1416_row10_col5\" class=\"data row10 col5\" >4.0000</td>\n",
       "      <td id=\"T_b1416_row10_col6\" class=\"data row10 col6\" >5.0000</td>\n",
       "      <td id=\"T_b1416_row10_col7\" class=\"data row10 col7\" >5.0000</td>\n",
       "      <td id=\"T_b1416_row10_col8\" class=\"data row10 col8\" >0.0000</td>\n",
       "    </tr>\n",
       "    <tr>\n",
       "      <th id=\"T_b1416_level0_row11\" class=\"row_heading level0 row11\" >Medu</th>\n",
       "      <td id=\"T_b1416_row11_col0\" class=\"data row11 col0\" >395.0000</td>\n",
       "      <td id=\"T_b1416_row11_col1\" class=\"data row11 col1\" >2.7494</td>\n",
       "      <td id=\"T_b1416_row11_col2\" class=\"data row11 col2\" >1.0947</td>\n",
       "      <td id=\"T_b1416_row11_col3\" class=\"data row11 col3\" >0.0000</td>\n",
       "      <td id=\"T_b1416_row11_col4\" class=\"data row11 col4\" >2.0000</td>\n",
       "      <td id=\"T_b1416_row11_col5\" class=\"data row11 col5\" >3.0000</td>\n",
       "      <td id=\"T_b1416_row11_col6\" class=\"data row11 col6\" >4.0000</td>\n",
       "      <td id=\"T_b1416_row11_col7\" class=\"data row11 col7\" >4.0000</td>\n",
       "      <td id=\"T_b1416_row11_col8\" class=\"data row11 col8\" >0.0000</td>\n",
       "    </tr>\n",
       "    <tr>\n",
       "      <th id=\"T_b1416_level0_row12\" class=\"row_heading level0 row12\" >studytime</th>\n",
       "      <td id=\"T_b1416_row12_col0\" class=\"data row12 col0\" >395.0000</td>\n",
       "      <td id=\"T_b1416_row12_col1\" class=\"data row12 col1\" >2.0354</td>\n",
       "      <td id=\"T_b1416_row12_col2\" class=\"data row12 col2\" >0.8392</td>\n",
       "      <td id=\"T_b1416_row12_col3\" class=\"data row12 col3\" >1.0000</td>\n",
       "      <td id=\"T_b1416_row12_col4\" class=\"data row12 col4\" >1.0000</td>\n",
       "      <td id=\"T_b1416_row12_col5\" class=\"data row12 col5\" >2.0000</td>\n",
       "      <td id=\"T_b1416_row12_col6\" class=\"data row12 col6\" >2.0000</td>\n",
       "      <td id=\"T_b1416_row12_col7\" class=\"data row12 col7\" >4.0000</td>\n",
       "      <td id=\"T_b1416_row12_col8\" class=\"data row12 col8\" >0.0000</td>\n",
       "    </tr>\n",
       "    <tr>\n",
       "      <th id=\"T_b1416_level0_row13\" class=\"row_heading level0 row13\" >traveltime</th>\n",
       "      <td id=\"T_b1416_row13_col0\" class=\"data row13 col0\" >395.0000</td>\n",
       "      <td id=\"T_b1416_row13_col1\" class=\"data row13 col1\" >1.4481</td>\n",
       "      <td id=\"T_b1416_row13_col2\" class=\"data row13 col2\" >0.6975</td>\n",
       "      <td id=\"T_b1416_row13_col3\" class=\"data row13 col3\" >1.0000</td>\n",
       "      <td id=\"T_b1416_row13_col4\" class=\"data row13 col4\" >1.0000</td>\n",
       "      <td id=\"T_b1416_row13_col5\" class=\"data row13 col5\" >1.0000</td>\n",
       "      <td id=\"T_b1416_row13_col6\" class=\"data row13 col6\" >2.0000</td>\n",
       "      <td id=\"T_b1416_row13_col7\" class=\"data row13 col7\" >4.0000</td>\n",
       "      <td id=\"T_b1416_row13_col8\" class=\"data row13 col8\" >0.0000</td>\n",
       "    </tr>\n",
       "    <tr>\n",
       "      <th id=\"T_b1416_level0_row14\" class=\"row_heading level0 row14\" >Fedu</th>\n",
       "      <td id=\"T_b1416_row14_col0\" class=\"data row14 col0\" >395.0000</td>\n",
       "      <td id=\"T_b1416_row14_col1\" class=\"data row14 col1\" >2.5215</td>\n",
       "      <td id=\"T_b1416_row14_col2\" class=\"data row14 col2\" >1.0882</td>\n",
       "      <td id=\"T_b1416_row14_col3\" class=\"data row14 col3\" >0.0000</td>\n",
       "      <td id=\"T_b1416_row14_col4\" class=\"data row14 col4\" >2.0000</td>\n",
       "      <td id=\"T_b1416_row14_col5\" class=\"data row14 col5\" >2.0000</td>\n",
       "      <td id=\"T_b1416_row14_col6\" class=\"data row14 col6\" >3.0000</td>\n",
       "      <td id=\"T_b1416_row14_col7\" class=\"data row14 col7\" >4.0000</td>\n",
       "      <td id=\"T_b1416_row14_col8\" class=\"data row14 col8\" >0.0000</td>\n",
       "    </tr>\n",
       "    <tr>\n",
       "      <th id=\"T_b1416_level0_row15\" class=\"row_heading level0 row15\" >failures</th>\n",
       "      <td id=\"T_b1416_row15_col0\" class=\"data row15 col0\" >395.0000</td>\n",
       "      <td id=\"T_b1416_row15_col1\" class=\"data row15 col1\" >0.3342</td>\n",
       "      <td id=\"T_b1416_row15_col2\" class=\"data row15 col2\" >0.7437</td>\n",
       "      <td id=\"T_b1416_row15_col3\" class=\"data row15 col3\" >0.0000</td>\n",
       "      <td id=\"T_b1416_row15_col4\" class=\"data row15 col4\" >0.0000</td>\n",
       "      <td id=\"T_b1416_row15_col5\" class=\"data row15 col5\" >0.0000</td>\n",
       "      <td id=\"T_b1416_row15_col6\" class=\"data row15 col6\" >0.0000</td>\n",
       "      <td id=\"T_b1416_row15_col7\" class=\"data row15 col7\" >3.0000</td>\n",
       "      <td id=\"T_b1416_row15_col8\" class=\"data row15 col8\" >0.0000</td>\n",
       "    </tr>\n",
       "    <tr>\n",
       "      <th id=\"T_b1416_level0_row16\" class=\"row_heading level0 row16\" >approved</th>\n",
       "      <td id=\"T_b1416_row16_col0\" class=\"data row16 col0\" >395.0000</td>\n",
       "      <td id=\"T_b1416_row16_col1\" class=\"data row16 col1\" >0.3316</td>\n",
       "      <td id=\"T_b1416_row16_col2\" class=\"data row16 col2\" >0.4714</td>\n",
       "      <td id=\"T_b1416_row16_col3\" class=\"data row16 col3\" >0.0000</td>\n",
       "      <td id=\"T_b1416_row16_col4\" class=\"data row16 col4\" >0.0000</td>\n",
       "      <td id=\"T_b1416_row16_col5\" class=\"data row16 col5\" >0.0000</td>\n",
       "      <td id=\"T_b1416_row16_col6\" class=\"data row16 col6\" >1.0000</td>\n",
       "      <td id=\"T_b1416_row16_col7\" class=\"data row16 col7\" >1.0000</td>\n",
       "      <td id=\"T_b1416_row16_col8\" class=\"data row16 col8\" >0.0000</td>\n",
       "    </tr>\n",
       "  </tbody>\n",
       "</table>\n"
      ],
      "text/plain": [
       "<pandas.io.formats.style.Styler at 0x22ca5c46200>"
      ]
     },
     "execution_count": 18,
     "metadata": {},
     "output_type": "execute_result"
    }
   ],
   "source": [
    "%%time\n",
    "de.generate_data_description_table(df[numerical_columns])"
   ]
  },
  {
   "cell_type": "markdown",
   "metadata": {},
   "source": [
    "[<div style=\"text-align:center\"><img src=\"imgs/arrow.png\" width=\"15\" height=\"10\"></div>](#IND)\n",
    "<h2> <font color= #847ACC> Distributions </h2>\n",
    "<a id=\"DIST\"></a>"
   ]
  },
  {
   "cell_type": "code",
   "execution_count": 19,
   "metadata": {},
   "outputs": [
    {
     "data": {
      "text/plain": [
       "<Axes: xlabel='age', ylabel='Density'>"
      ]
     },
     "execution_count": 19,
     "metadata": {},
     "output_type": "execute_result"
    },
    {
     "data": {
      "image/png": "[encoded data removed]",
      "text/plain": [
       "<Figure size 800x550 with 1 Axes>"
      ]
     },
     "metadata": {},
     "output_type": "display_data"
    }
   ],
   "source": [
    "sns.distplot(df[\"age\"], bins=8)"
   ]
  },
  {
   "cell_type": "code",
   "execution_count": 20,
   "metadata": {},
   "outputs": [],
   "source": [
    "# num_columns = len(df[numerical_columns].columns)\n",
    "# num_plots_per_row = 3\n",
    "# num_rows = (num_columns + num_plots_per_row - 1) // num_plots_per_row\n",
    "\n",
    "# fig, axes = plt.subplots(num_rows, num_plots_per_row, figsize=(15, 5*num_rows))\n",
    "\n",
    "# for i, col in enumerate(df[numerical_columns].columns):\n",
    "#     ax = axes[i // num_plots_per_row, i % num_plots_per_row]\n",
    "#     sns.distplot(df[numerical_columns][col], ax=ax)\n",
    "#     ax.set_title(col)\n",
    "\n",
    "# plt.tight_layout()\n",
    "# plt.savefig(\"imgs/distributions.png\")\n",
    "# plt.show()"
   ]
  },
  {
   "cell_type": "markdown",
   "metadata": {},
   "source": [
    "[<div style=\"text-align:center\"><img src=\"imgs/arrow.png\" width=\"10\" height=\"5\"></div>](#IND)\n",
    "<h2> <font color= #847ACC> Class Balance </h2>\n",
    "<a id=\"BAL\"></a>"
   ]
  },
  {
   "cell_type": "code",
   "execution_count": 21,
   "metadata": {},
   "outputs": [
    {
     "data": {
      "text/plain": [
       "approved\n",
       "0    264\n",
       "1    131\n",
       "Name: count, dtype: int64"
      ]
     },
     "execution_count": 21,
     "metadata": {},
     "output_type": "execute_result"
    }
   ],
   "source": [
    "class_count = pd.value_counts(df['approved'], sort = True).sort_index()\n",
    "class_count"
   ]
  },
  {
   "cell_type": "code",
   "execution_count": 22,
   "metadata": {},
   "outputs": [
    {
     "data": {
      "application/vnd.plotly.v1+json": {
       "config": {
        "plotlyServerURL": "https://plot.ly"
       },
       "data": [
        {
         "labels": [
          "Not approved",
          "approved"
         ],
         "opacity": 0.85,
         "pull": [
          0.05,
          0,
          0
         ],
         "type": "pie",
         "values": [
          264,
          131
         ]
        }
       ],
       "layout": {
        "template": {
         "data": {
          "bar": [
           {
            "error_x": {
             "color": "#2a3f5f"
            },
            "error_y": {
             "color": "#2a3f5f"
            },
            "marker": {
             "line": {
              "color": "#E5ECF6",
              "width": 0.5
             },
             "pattern": {
              "fillmode": "overlay",
              "size": 10,
              "solidity": 0.2
             }
            },
            "type": "bar"
           }
          ],
          "barpolar": [
           {
            "marker": {
             "line": {
              "color": "#E5ECF6",
              "width": 0.5
             },
             "pattern": {
              "fillmode": "overlay",
              "size": 10,
              "solidity": 0.2
             }
            },
            "type": "barpolar"
           }
          ],
          "carpet": [
           {
            "aaxis": {
             "endlinecolor": "#2a3f5f",
             "gridcolor": "white",
             "linecolor": "white",
             "minorgridcolor": "white",
             "startlinecolor": "#2a3f5f"
            },
            "baxis": {
             "endlinecolor": "#2a3f5f",
             "gridcolor": "white",
             "linecolor": "white",
             "minorgridcolor": "white",
             "startlinecolor": "#2a3f5f"
            },
            "type": "carpet"
           }
          ],
          "choropleth": [
           {
            "colorbar": {
             "outlinewidth": 0,
             "ticks": ""
            },
            "type": "choropleth"
           }
          ],
          "contour": [
           {
            "colorbar": {
             "outlinewidth": 0,
             "ticks": ""
            },
            "colorscale": [
             [
              0,
              "#0d0887"
             ],
             [
              0.1111111111111111,
              "#46039f"
             ],
             [
              0.2222222222222222,
              "#7201a8"
             ],
             [
              0.3333333333333333,
              "#9c179e"
             ],
             [
              0.4444444444444444,
              "#bd3786"
             ],
             [
              0.5555555555555556,
              "#d8576b"
             ],
             [
              0.6666666666666666,
              "#ed7953"
             ],
             [
              0.7777777777777778,
              "#fb9f3a"
             ],
             [
              0.8888888888888888,
              "#fdca26"
             ],
             [
              1,
              "#f0f921"
             ]
            ],
            "type": "contour"
           }
          ],
          "contourcarpet": [
           {
            "colorbar": {
             "outlinewidth": 0,
             "ticks": ""
            },
            "type": "contourcarpet"
           }
          ],
          "heatmap": [
           {
            "colorbar": {
             "outlinewidth": 0,
             "ticks": ""
            },
            "colorscale": [
             [
              0,
              "#0d0887"
             ],
             [
              0.1111111111111111,
              "#46039f"
             ],
             [
              0.2222222222222222,
              "#7201a8"
             ],
             [
              0.3333333333333333,
              "#9c179e"
             ],
             [
              0.4444444444444444,
              "#bd3786"
             ],
             [
              0.5555555555555556,
              "#d8576b"
             ],
             [
              0.6666666666666666,
              "#ed7953"
             ],
             [
              0.7777777777777778,
              "#fb9f3a"
             ],
             [
              0.8888888888888888,
              "#fdca26"
             ],
             [
              1,
              "#f0f921"
             ]
            ],
            "type": "heatmap"
           }
          ],
          "heatmapgl": [
           {
            "colorbar": {
             "outlinewidth": 0,
             "ticks": ""
            },
            "colorscale": [
             [
              0,
              "#0d0887"
             ],
             [
              0.1111111111111111,
              "#46039f"
             ],
             [
              0.2222222222222222,
              "#7201a8"
             ],
             [
              0.3333333333333333,
              "#9c179e"
             ],
             [
              0.4444444444444444,
              "#bd3786"
             ],
             [
              0.5555555555555556,
              "#d8576b"
             ],
             [
              0.6666666666666666,
              "#ed7953"
             ],
             [
              0.7777777777777778,
              "#fb9f3a"
             ],
             [
              0.8888888888888888,
              "#fdca26"
             ],
             [
              1,
              "#f0f921"
             ]
            ],
            "type": "heatmapgl"
           }
          ],
          "histogram": [
           {
            "marker": {
             "pattern": {
              "fillmode": "overlay",
              "size": 10,
              "solidity": 0.2
             }
            },
            "type": "histogram"
           }
          ],
          "histogram2d": [
           {
            "colorbar": {
             "outlinewidth": 0,
             "ticks": ""
            },
            "colorscale": [
             [
              0,
              "#0d0887"
             ],
             [
              0.1111111111111111,
              "#46039f"
             ],
             [
              0.2222222222222222,
              "#7201a8"
             ],
             [
              0.3333333333333333,
              "#9c179e"
             ],
             [
              0.4444444444444444,
              "#bd3786"
             ],
             [
              0.5555555555555556,
              "#d8576b"
             ],
             [
              0.6666666666666666,
              "#ed7953"
             ],
             [
              0.7777777777777778,
              "#fb9f3a"
             ],
             [
              0.8888888888888888,
              "#fdca26"
             ],
             [
              1,
              "#f0f921"
             ]
            ],
            "type": "histogram2d"
           }
          ],
          "histogram2dcontour": [
           {
            "colorbar": {
             "outlinewidth": 0,
             "ticks": ""
            },
            "colorscale": [
             [
              0,
              "#0d0887"
             ],
             [
              0.1111111111111111,
              "#46039f"
             ],
             [
              0.2222222222222222,
              "#7201a8"
             ],
             [
              0.3333333333333333,
              "#9c179e"
             ],
             [
              0.4444444444444444,
              "#bd3786"
             ],
             [
              0.5555555555555556,
              "#d8576b"
             ],
             [
              0.6666666666666666,
              "#ed7953"
             ],
             [
              0.7777777777777778,
              "#fb9f3a"
             ],
             [
              0.8888888888888888,
              "#fdca26"
             ],
             [
              1,
              "#f0f921"
             ]
            ],
            "type": "histogram2dcontour"
           }
          ],
          "mesh3d": [
           {
            "colorbar": {
             "outlinewidth": 0,
             "ticks": ""
            },
            "type": "mesh3d"
           }
          ],
          "parcoords": [
           {
            "line": {
             "colorbar": {
              "outlinewidth": 0,
              "ticks": ""
             }
            },
            "type": "parcoords"
           }
          ],
          "pie": [
           {
            "automargin": true,
            "type": "pie"
           }
          ],
          "scatter": [
           {
            "fillpattern": {
             "fillmode": "overlay",
             "size": 10,
             "solidity": 0.2
            },
            "type": "scatter"
           }
          ],
          "scatter3d": [
           {
            "line": {
             "colorbar": {
              "outlinewidth": 0,
              "ticks": ""
             }
            },
            "marker": {
             "colorbar": {
              "outlinewidth": 0,
              "ticks": ""
             }
            },
            "type": "scatter3d"
           }
          ],
          "scattercarpet": [
           {
            "marker": {
             "colorbar": {
              "outlinewidth": 0,
              "ticks": ""
             }
            },
            "type": "scattercarpet"
           }
          ],
          "scattergeo": [
           {
            "marker": {
             "colorbar": {
              "outlinewidth": 0,
              "ticks": ""
             }
            },
            "type": "scattergeo"
           }
          ],
          "scattergl": [
           {
            "marker": {
             "colorbar": {
              "outlinewidth": 0,
              "ticks": ""
             }
            },
            "type": "scattergl"
           }
          ],
          "scattermapbox": [
           {
            "marker": {
             "colorbar": {
              "outlinewidth": 0,
              "ticks": ""
             }
            },
            "type": "scattermapbox"
           }
          ],
          "scatterpolar": [
           {
            "marker": {
             "colorbar": {
              "outlinewidth": 0,
              "ticks": ""
             }
            },
            "type": "scatterpolar"
           }
          ],
          "scatterpolargl": [
           {
            "marker": {
             "colorbar": {
              "outlinewidth": 0,
              "ticks": ""
             }
            },
            "type": "scatterpolargl"
           }
          ],
          "scatterternary": [
           {
            "marker": {
             "colorbar": {
              "outlinewidth": 0,
              "ticks": ""
             }
            },
            "type": "scatterternary"
           }
          ],
          "surface": [
           {
            "colorbar": {
             "outlinewidth": 0,
             "ticks": ""
            },
            "colorscale": [
             [
              0,
              "#0d0887"
             ],
             [
              0.1111111111111111,
              "#46039f"
             ],
             [
              0.2222222222222222,
              "#7201a8"
             ],
             [
              0.3333333333333333,
              "#9c179e"
             ],
             [
              0.4444444444444444,
              "#bd3786"
             ],
             [
              0.5555555555555556,
              "#d8576b"
             ],
             [
              0.6666666666666666,
              "#ed7953"
             ],
             [
              0.7777777777777778,
              "#fb9f3a"
             ],
             [
              0.8888888888888888,
              "#fdca26"
             ],
             [
              1,
              "#f0f921"
             ]
            ],
            "type": "surface"
           }
          ],
          "table": [
           {
            "cells": {
             "fill": {
              "color": "#EBF0F8"
             },
             "line": {
              "color": "white"
             }
            },
            "header": {
             "fill": {
              "color": "#C8D4E3"
             },
             "line": {
              "color": "white"
             }
            },
            "type": "table"
           }
          ]
         },
         "layout": {
          "annotationdefaults": {
           "arrowcolor": "#2a3f5f",
           "arrowhead": 0,
           "arrowwidth": 1
          },
          "autotypenumbers": "strict",
          "coloraxis": {
           "colorbar": {
            "outlinewidth": 0,
            "ticks": ""
           }
          },
          "colorscale": {
           "diverging": [
            [
             0,
             "#8e0152"
            ],
            [
             0.1,
             "#c51b7d"
            ],
            [
             0.2,
             "#de77ae"
            ],
            [
             0.3,
             "#f1b6da"
            ],
            [
             0.4,
             "#fde0ef"
            ],
            [
             0.5,
             "#f7f7f7"
            ],
            [
             0.6,
             "#e6f5d0"
            ],
            [
             0.7,
             "#b8e186"
            ],
            [
             0.8,
             "#7fbc41"
            ],
            [
             0.9,
             "#4d9221"
            ],
            [
             1,
             "#276419"
            ]
           ],
           "sequential": [
            [
             0,
             "#0d0887"
            ],
            [
             0.1111111111111111,
             "#46039f"
            ],
            [
             0.2222222222222222,
             "#7201a8"
            ],
            [
             0.3333333333333333,
             "#9c179e"
            ],
            [
             0.4444444444444444,
             "#bd3786"
            ],
            [
             0.5555555555555556,
             "#d8576b"
            ],
            [
             0.6666666666666666,
             "#ed7953"
            ],
            [
             0.7777777777777778,
             "#fb9f3a"
            ],
            [
             0.8888888888888888,
             "#fdca26"
            ],
            [
             1,
             "#f0f921"
            ]
           ],
           "sequentialminus": [
            [
             0,
             "#0d0887"
            ],
            [
             0.1111111111111111,
             "#46039f"
            ],
            [
             0.2222222222222222,
             "#7201a8"
            ],
            [
             0.3333333333333333,
             "#9c179e"
            ],
            [
             0.4444444444444444,
             "#bd3786"
            ],
            [
             0.5555555555555556,
             "#d8576b"
            ],
            [
             0.6666666666666666,
             "#ed7953"
            ],
            [
             0.7777777777777778,
             "#fb9f3a"
            ],
            [
             0.8888888888888888,
             "#fdca26"
            ],
            [
             1,
             "#f0f921"
            ]
           ]
          },
          "colorway": [
           "#636efa",
           "#EF553B",
           "#00cc96",
           "#ab63fa",
           "#FFA15A",
           "#19d3f3",
           "#FF6692",
           "#B6E880",
           "#FF97FF",
           "#FECB52"
          ],
          "font": {
           "color": "#2a3f5f"
          },
          "geo": {
           "bgcolor": "white",
           "lakecolor": "white",
           "landcolor": "#E5ECF6",
           "showlakes": true,
           "showland": true,
           "subunitcolor": "white"
          },
          "hoverlabel": {
           "align": "left"
          },
          "hovermode": "closest",
          "mapbox": {
           "style": "light"
          },
          "paper_bgcolor": "white",
          "plot_bgcolor": "#E5ECF6",
          "polar": {
           "angularaxis": {
            "gridcolor": "white",
            "linecolor": "white",
            "ticks": ""
           },
           "bgcolor": "#E5ECF6",
           "radialaxis": {
            "gridcolor": "white",
            "linecolor": "white",
            "ticks": ""
           }
          },
          "scene": {
           "xaxis": {
            "backgroundcolor": "#E5ECF6",
            "gridcolor": "white",
            "gridwidth": 2,
            "linecolor": "white",
            "showbackground": true,
            "ticks": "",
            "zerolinecolor": "white"
           },
           "yaxis": {
            "backgroundcolor": "#E5ECF6",
            "gridcolor": "white",
            "gridwidth": 2,
            "linecolor": "white",
            "showbackground": true,
            "ticks": "",
            "zerolinecolor": "white"
           },
           "zaxis": {
            "backgroundcolor": "#E5ECF6",
            "gridcolor": "white",
            "gridwidth": 2,
            "linecolor": "white",
            "showbackground": true,
            "ticks": "",
            "zerolinecolor": "white"
           }
          },
          "shapedefaults": {
           "line": {
            "color": "#2a3f5f"
           }
          },
          "ternary": {
           "aaxis": {
            "gridcolor": "white",
            "linecolor": "white",
            "ticks": ""
           },
           "baxis": {
            "gridcolor": "white",
            "linecolor": "white",
            "ticks": ""
           },
           "bgcolor": "#E5ECF6",
           "caxis": {
            "gridcolor": "white",
            "linecolor": "white",
            "ticks": ""
           }
          },
          "title": {
           "x": 0.05
          },
          "xaxis": {
           "automargin": true,
           "gridcolor": "white",
           "linecolor": "white",
           "ticks": "",
           "title": {
            "standoff": 15
           },
           "zerolinecolor": "white",
           "zerolinewidth": 2
          },
          "yaxis": {
           "automargin": true,
           "gridcolor": "white",
           "linecolor": "white",
           "ticks": "",
           "title": {
            "standoff": 15
           },
           "zerolinecolor": "white",
           "zerolinewidth": 2
          }
         }
        },
        "title": {
         "text": "Class Composition"
        }
       }
      }
     },
     "metadata": {},
     "output_type": "display_data"
    },
    {
     "name": "stdout",
     "output_type": "stream",
     "text": [
      "CPU times: total: 0 ns\n",
      "Wall time: 15.8 ms\n"
     ]
    }
   ],
   "source": [
    "%%time\n",
    "# Class Composition - Pie Plot\n",
    "fig = go.Figure(data=[go.Pie(labels=['Not approved', 'approved'], \n",
    "                                    values=class_count, \n",
    "                                    pull=[0.05, 0, 0], \n",
    "                                    opacity=0.85)])\n",
    "fig.update_layout(\n",
    "    title_text=\"Class Composition\")\n",
    "fig.show()"
   ]
  },
  {
   "cell_type": "markdown",
   "metadata": {},
   "source": [
    "<div style=\"border-radius:14px; border:#847ACC solid; padding: 15px; background-color: #FFFFFF; font-size:100%; text-align:left\">\n",
    "<h3 align=\"left\"><font color='#847ACC'>💡 Insights:</font></h3>\n",
    "    \n",
    "a\n",
    "\n",
    "- Subsampling\n",
    "- Oversampling\n",
    "- Class Weights"
   ]
  },
  {
   "cell_type": "markdown",
   "metadata": {},
   "source": [
    "[<div style=\"text-align:center\"><img src=\"imgs/arrow.png\" width=\"10\" height=\"5\"></div>](#IND)\n",
    "<h1> <font color= #847ACC> Pre-processing </h1>\n",
    "<a id=\"PREP\"></a>\n",
    "<br> \n",
    "<div style=\"border-radius:14px; border:#847ACC solid; padding: 15px; background-color: #FFFFFF; font-size:100%; text-align:left\">\n",
    "<h3 align=\"left\"><font color='#ECB431'>❗️</font></h3>\n",
    "    \n",
    "From this point on, there begin to be conflicts with the data types `pyarrow`, so they will be converted to a more user-friendly format."
   ]
  },
  {
   "cell_type": "markdown",
   "metadata": {},
   "source": [
    "___"
   ]
  },
  {
   "cell_type": "markdown",
   "metadata": {},
   "source": [
    "<h1> <font color= #847ACC> Models </h1>\n",
    "<a id=\"MODELOS\"></a>\n",
    "\n",
    "_\"All models are wrong, but some are useful\"_ \\\n",
    "— George Box\n"
   ]
  },
  {
   "cell_type": "markdown",
   "metadata": {},
   "source": [
    "[<div style=\"text-align:center\"><img src=\"imgs/arrow.png\" width=\"10\" height=\"5\"></div>](#IND)\n",
    "<h2> <font color= #847ACC> Logistic Regression </h2>\n",
    "<a id=\"RL\"></a>"
   ]
  },
  {
   "cell_type": "markdown",
   "metadata": {},
   "source": [
    "<div style=\"border-radius:14px; border:#847ACC solid; padding: 15px; background-color: #FFFFFF; font-size:100%; text-align:left\">\n",
    "<h3 align=\"left\"><font color='#ECB431'>💡 Justification:</font></h3>\n",
    "    \n",
    "- Logistic Regression is a relatively simple algorithm; it transforms a linear input into a probability (in the range of 0-1) using the Sigmoid function:\n",
    "\n",
    "$$S(x) = \\frac{1}{1+e^{-X\\beta}}$$\n",
    " \n",
    "Where $X$ is the set of predictor features, and $\\beta$ is the corresponding weight vector. Computing $S(x)$ yields a probability indicating whether an observation should be classified as `1` or `0`.\n",
    "<br>\n",
    "\n",
    "- It is highly interpretable due to its output (probabilities), making it easier to explain to a non-technical audience compared to other models.\n",
    "\n",
    "- Computationally, it requires less computational power compared to more complex models such as Neural Networks or Decision Trees.\n",
    "    "
   ]
  },
  {
   "cell_type": "code",
   "execution_count": 23,
   "metadata": {},
   "outputs": [],
   "source": [
    "# Save as array the features and the classes\n",
    "X = df[numerical_columns].iloc[:, 0:-1].values\n",
    "y = df.iloc[:, -1].values"
   ]
  },
  {
   "cell_type": "code",
   "execution_count": 24,
   "metadata": {},
   "outputs": [],
   "source": [
    "# Split data after Oversampling and Undersampling\n",
    "x_train1, x_test1, y_train1, y_test1 = train_test_split(X, y, test_size = 0.35, random_state = 42)"
   ]
  },
  {
   "cell_type": "code",
   "execution_count": 25,
   "metadata": {},
   "outputs": [],
   "source": [
    "# Logistic Regression with Subsampling, Oversampling and Class Weights\n",
    "LR = LogisticRegression(random_state = 0, C=10, penalty= 'l2', class_weight = {0: 1, 1:2})"
   ]
  },
  {
   "cell_type": "code",
   "execution_count": 26,
   "metadata": {},
   "outputs": [
    {
     "data": {
      "text/html": [
       "<style>#sk-container-id-1 {color: black;background-color: white;}#sk-container-id-1 pre{padding: 0;}#sk-container-id-1 div.sk-toggleable {background-color: white;}#sk-container-id-1 label.sk-toggleable__label {cursor: pointer;display: block;width: 100%;margin-bottom: 0;padding: 0.3em;box-sizing: border-box;text-align: center;}#sk-container-id-1 label.sk-toggleable__label-arrow:before {content: \"▸\";float: left;margin-right: 0.25em;color: #696969;}#sk-container-id-1 label.sk-toggleable__label-arrow:hover:before {color: black;}#sk-container-id-1 div.sk-estimator:hover label.sk-toggleable__label-arrow:before {color: black;}#sk-container-id-1 div.sk-toggleable__content {max-height: 0;max-width: 0;overflow: hidden;text-align: left;background-color: #f0f8ff;}#sk-container-id-1 div.sk-toggleable__content pre {margin: 0.2em;color: black;border-radius: 0.25em;background-color: #f0f8ff;}#sk-container-id-1 input.sk-toggleable__control:checked~div.sk-toggleable__content {max-height: 200px;max-width: 100%;overflow: auto;}#sk-container-id-1 input.sk-toggleable__control:checked~label.sk-toggleable__label-arrow:before {content: \"▾\";}#sk-container-id-1 div.sk-estimator input.sk-toggleable__control:checked~label.sk-toggleable__label {background-color: #d4ebff;}#sk-container-id-1 div.sk-label input.sk-toggleable__control:checked~label.sk-toggleable__label {background-color: #d4ebff;}#sk-container-id-1 input.sk-hidden--visually {border: 0;clip: rect(1px 1px 1px 1px);clip: rect(1px, 1px, 1px, 1px);height: 1px;margin: -1px;overflow: hidden;padding: 0;position: absolute;width: 1px;}#sk-container-id-1 div.sk-estimator {font-family: monospace;background-color: #f0f8ff;border: 1px dotted black;border-radius: 0.25em;box-sizing: border-box;margin-bottom: 0.5em;}#sk-container-id-1 div.sk-estimator:hover {background-color: #d4ebff;}#sk-container-id-1 div.sk-parallel-item::after {content: \"\";width: 100%;border-bottom: 1px solid gray;flex-grow: 1;}#sk-container-id-1 div.sk-label:hover label.sk-toggleable__label {background-color: #d4ebff;}#sk-container-id-1 div.sk-serial::before {content: \"\";position: absolute;border-left: 1px solid gray;box-sizing: border-box;top: 0;bottom: 0;left: 50%;z-index: 0;}#sk-container-id-1 div.sk-serial {display: flex;flex-direction: column;align-items: center;background-color: white;padding-right: 0.2em;padding-left: 0.2em;position: relative;}#sk-container-id-1 div.sk-item {position: relative;z-index: 1;}#sk-container-id-1 div.sk-parallel {display: flex;align-items: stretch;justify-content: center;background-color: white;position: relative;}#sk-container-id-1 div.sk-item::before, #sk-container-id-1 div.sk-parallel-item::before {content: \"\";position: absolute;border-left: 1px solid gray;box-sizing: border-box;top: 0;bottom: 0;left: 50%;z-index: -1;}#sk-container-id-1 div.sk-parallel-item {display: flex;flex-direction: column;z-index: 1;position: relative;background-color: white;}#sk-container-id-1 div.sk-parallel-item:first-child::after {align-self: flex-end;width: 50%;}#sk-container-id-1 div.sk-parallel-item:last-child::after {align-self: flex-start;width: 50%;}#sk-container-id-1 div.sk-parallel-item:only-child::after {width: 0;}#sk-container-id-1 div.sk-dashed-wrapped {border: 1px dashed gray;margin: 0 0.4em 0.5em 0.4em;box-sizing: border-box;padding-bottom: 0.4em;background-color: white;}#sk-container-id-1 div.sk-label label {font-family: monospace;font-weight: bold;display: inline-block;line-height: 1.2em;}#sk-container-id-1 div.sk-label-container {text-align: center;}#sk-container-id-1 div.sk-container {/* jupyter's `normalize.less` sets `[hidden] { display: none; }` but bootstrap.min.css set `[hidden] { display: none !important; }` so we also need the `!important` here to be able to override the default hidden behavior on the sphinx rendered scikit-learn.org. See: https://github.com/scikit-learn/scikit-learn/issues/21755 */display: inline-block !important;position: relative;}#sk-container-id-1 div.sk-text-repr-fallback {display: none;}</style><div id=\"sk-container-id-1\" class=\"sk-top-container\"><div class=\"sk-text-repr-fallback\"><pre>LogisticRegression(C=10, class_weight={0: 1, 1: 2}, random_state=0)</pre><b>In a Jupyter environment, please rerun this cell to show the HTML representation or trust the notebook. <br />On GitHub, the HTML representation is unable to render, please try loading this page with nbviewer.org.</b></div><div class=\"sk-container\" hidden><div class=\"sk-item\"><div class=\"sk-estimator sk-toggleable\"><input class=\"sk-toggleable__control sk-hidden--visually\" id=\"sk-estimator-id-1\" type=\"checkbox\" checked><label for=\"sk-estimator-id-1\" class=\"sk-toggleable__label sk-toggleable__label-arrow\">LogisticRegression</label><div class=\"sk-toggleable__content\"><pre>LogisticRegression(C=10, class_weight={0: 1, 1: 2}, random_state=0)</pre></div></div></div></div></div>"
      ],
      "text/plain": [
       "LogisticRegression(C=10, class_weight={0: 1, 1: 2}, random_state=0)"
      ]
     },
     "execution_count": 26,
     "metadata": {},
     "output_type": "execute_result"
    }
   ],
   "source": [
    "LR.fit(x_train1, y_train1) #.predict(X).sum()"
   ]
  },
  {
   "cell_type": "code",
   "execution_count": 27,
   "metadata": {},
   "outputs": [
    {
     "data": {
      "text/html": [
       "<style>#sk-container-id-2 {color: black;background-color: white;}#sk-container-id-2 pre{padding: 0;}#sk-container-id-2 div.sk-toggleable {background-color: white;}#sk-container-id-2 label.sk-toggleable__label {cursor: pointer;display: block;width: 100%;margin-bottom: 0;padding: 0.3em;box-sizing: border-box;text-align: center;}#sk-container-id-2 label.sk-toggleable__label-arrow:before {content: \"▸\";float: left;margin-right: 0.25em;color: #696969;}#sk-container-id-2 label.sk-toggleable__label-arrow:hover:before {color: black;}#sk-container-id-2 div.sk-estimator:hover label.sk-toggleable__label-arrow:before {color: black;}#sk-container-id-2 div.sk-toggleable__content {max-height: 0;max-width: 0;overflow: hidden;text-align: left;background-color: #f0f8ff;}#sk-container-id-2 div.sk-toggleable__content pre {margin: 0.2em;color: black;border-radius: 0.25em;background-color: #f0f8ff;}#sk-container-id-2 input.sk-toggleable__control:checked~div.sk-toggleable__content {max-height: 200px;max-width: 100%;overflow: auto;}#sk-container-id-2 input.sk-toggleable__control:checked~label.sk-toggleable__label-arrow:before {content: \"▾\";}#sk-container-id-2 div.sk-estimator input.sk-toggleable__control:checked~label.sk-toggleable__label {background-color: #d4ebff;}#sk-container-id-2 div.sk-label input.sk-toggleable__control:checked~label.sk-toggleable__label {background-color: #d4ebff;}#sk-container-id-2 input.sk-hidden--visually {border: 0;clip: rect(1px 1px 1px 1px);clip: rect(1px, 1px, 1px, 1px);height: 1px;margin: -1px;overflow: hidden;padding: 0;position: absolute;width: 1px;}#sk-container-id-2 div.sk-estimator {font-family: monospace;background-color: #f0f8ff;border: 1px dotted black;border-radius: 0.25em;box-sizing: border-box;margin-bottom: 0.5em;}#sk-container-id-2 div.sk-estimator:hover {background-color: #d4ebff;}#sk-container-id-2 div.sk-parallel-item::after {content: \"\";width: 100%;border-bottom: 1px solid gray;flex-grow: 1;}#sk-container-id-2 div.sk-label:hover label.sk-toggleable__label {background-color: #d4ebff;}#sk-container-id-2 div.sk-serial::before {content: \"\";position: absolute;border-left: 1px solid gray;box-sizing: border-box;top: 0;bottom: 0;left: 50%;z-index: 0;}#sk-container-id-2 div.sk-serial {display: flex;flex-direction: column;align-items: center;background-color: white;padding-right: 0.2em;padding-left: 0.2em;position: relative;}#sk-container-id-2 div.sk-item {position: relative;z-index: 1;}#sk-container-id-2 div.sk-parallel {display: flex;align-items: stretch;justify-content: center;background-color: white;position: relative;}#sk-container-id-2 div.sk-item::before, #sk-container-id-2 div.sk-parallel-item::before {content: \"\";position: absolute;border-left: 1px solid gray;box-sizing: border-box;top: 0;bottom: 0;left: 50%;z-index: -1;}#sk-container-id-2 div.sk-parallel-item {display: flex;flex-direction: column;z-index: 1;position: relative;background-color: white;}#sk-container-id-2 div.sk-parallel-item:first-child::after {align-self: flex-end;width: 50%;}#sk-container-id-2 div.sk-parallel-item:last-child::after {align-self: flex-start;width: 50%;}#sk-container-id-2 div.sk-parallel-item:only-child::after {width: 0;}#sk-container-id-2 div.sk-dashed-wrapped {border: 1px dashed gray;margin: 0 0.4em 0.5em 0.4em;box-sizing: border-box;padding-bottom: 0.4em;background-color: white;}#sk-container-id-2 div.sk-label label {font-family: monospace;font-weight: bold;display: inline-block;line-height: 1.2em;}#sk-container-id-2 div.sk-label-container {text-align: center;}#sk-container-id-2 div.sk-container {/* jupyter's `normalize.less` sets `[hidden] { display: none; }` but bootstrap.min.css set `[hidden] { display: none !important; }` so we also need the `!important` here to be able to override the default hidden behavior on the sphinx rendered scikit-learn.org. See: https://github.com/scikit-learn/scikit-learn/issues/21755 */display: inline-block !important;position: relative;}#sk-container-id-2 div.sk-text-repr-fallback {display: none;}</style><div id=\"sk-container-id-2\" class=\"sk-top-container\"><div class=\"sk-text-repr-fallback\"><pre>LogisticRegression(C=10, class_weight={0: 1, 1: 2}, random_state=0)</pre><b>In a Jupyter environment, please rerun this cell to show the HTML representation or trust the notebook. <br />On GitHub, the HTML representation is unable to render, please try loading this page with nbviewer.org.</b></div><div class=\"sk-container\" hidden><div class=\"sk-item\"><div class=\"sk-estimator sk-toggleable\"><input class=\"sk-toggleable__control sk-hidden--visually\" id=\"sk-estimator-id-2\" type=\"checkbox\" checked><label for=\"sk-estimator-id-2\" class=\"sk-toggleable__label sk-toggleable__label-arrow\">LogisticRegression</label><div class=\"sk-toggleable__content\"><pre>LogisticRegression(C=10, class_weight={0: 1, 1: 2}, random_state=0)</pre></div></div></div></div></div>"
      ],
      "text/plain": [
       "LogisticRegression(C=10, class_weight={0: 1, 1: 2}, random_state=0)"
      ]
     },
     "execution_count": 27,
     "metadata": {},
     "output_type": "execute_result"
    }
   ],
   "source": [
    "LR.fit(x_train1, y_train1) #.predict(X).sum()"
   ]
  },
  {
   "cell_type": "code",
   "execution_count": 28,
   "metadata": {},
   "outputs": [],
   "source": [
    "# Refit is for GS to optimize for that metric.\n",
    "# Increasing the search space for the weights helps the model focus on fraud cases.\n",
    "\n",
    "def grids(search_space: np.ndarray, opt_metric: str, cv: int):\n",
    "    \n",
    "    grid_ = GridSearchCV(\n",
    "    estimator = LogisticRegression(max_iter = 500),\n",
    "    param_grid = {'class_weight': [{0: 1, 1:v} for v in search_space]},\n",
    "    scoring = {'precision': make_scorer(precision_score), 'recall': make_scorer(recall_score), 'f1': make_scorer(f1_score)},\n",
    "    refit = opt_metric, \n",
    "    return_train_score = True,\n",
    "    cv = cv,\n",
    "    n_jobs = -1\n",
    "    )\n",
    "    \n",
    "    return grid_"
   ]
  },
  {
   "cell_type": "code",
   "execution_count": 29,
   "metadata": {},
   "outputs": [],
   "source": [
    "grid_prec = grids(np.linspace(1, 20, 30), opt_metric = 'precision', cv = 10)"
   ]
  },
  {
   "cell_type": "code",
   "execution_count": 30,
   "metadata": {},
   "outputs": [],
   "source": [
    "grid_rec = grids(np.linspace(1, 20, 30), opt_metric = 'recall', cv = 10)"
   ]
  },
  {
   "cell_type": "code",
   "execution_count": 31,
   "metadata": {},
   "outputs": [],
   "source": [
    "grid_f1 = grids(np.linspace(1, 20, 30), opt_metric = 'f1', cv = 10)"
   ]
  },
  {
   "cell_type": "code",
   "execution_count": 32,
   "metadata": {},
   "outputs": [
    {
     "name": "stdout",
     "output_type": "stream",
     "text": [
      "CPU times: total: 469 ms\n",
      "Wall time: 5.24 s\n"
     ]
    },
    {
     "data": {
      "text/plain": [
       "{0: 1, 1: 2.9655172413793105}"
      ]
     },
     "execution_count": 32,
     "metadata": {},
     "output_type": "execute_result"
    }
   ],
   "source": [
    "%%time\n",
    "grid_prec.fit(x_train1, y_train1)\n",
    "grid_prec.best_params_['class_weight']"
   ]
  },
  {
   "cell_type": "code",
   "execution_count": 33,
   "metadata": {},
   "outputs": [
    {
     "name": "stdout",
     "output_type": "stream",
     "text": [
      "CPU times: total: 297 ms\n",
      "Wall time: 2.41 s\n"
     ]
    },
    {
     "data": {
      "text/plain": [
       "{0: 1, 1: 4.275862068965517}"
      ]
     },
     "execution_count": 33,
     "metadata": {},
     "output_type": "execute_result"
    }
   ],
   "source": [
    "%%time\n",
    "# ¡¡¡Notice how a model focused on detecting more frauds (recall) assigns a lot of weight to '1'.!!!\n",
    "grid_rec.fit(x_train1, y_train1)\n",
    "grid_rec.best_params_['class_weight']"
   ]
  },
  {
   "cell_type": "code",
   "execution_count": 34,
   "metadata": {},
   "outputs": [
    {
     "name": "stdout",
     "output_type": "stream",
     "text": [
      "CPU times: total: 422 ms\n",
      "Wall time: 2.56 s\n"
     ]
    },
    {
     "data": {
      "text/plain": [
       "{0: 1, 1: 4.275862068965517}"
      ]
     },
     "execution_count": 34,
     "metadata": {},
     "output_type": "execute_result"
    }
   ],
   "source": [
    "%%time\n",
    "grid_f1.fit(x_train1, y_train1)\n",
    "grid_f1.best_params_['class_weight']"
   ]
  },
  {
   "cell_type": "code",
   "execution_count": 35,
   "metadata": {},
   "outputs": [],
   "source": [
    "# These are the results of the GridSearch\n",
    "# Originally, it uses 'mean_test_score' for optimization, with the default score being Accuracy.\n",
    "# In a highly imbalanced case, it's not a good choice to use it as a reference metric.\n",
    "# It will be changed to precision, recall, or f1, as appropriate. They are added to the GridSearch.\n",
    "\n",
    "df = pd.DataFrame(grid_prec.cv_results_)"
   ]
  },
  {
   "cell_type": "code",
   "execution_count": 36,
   "metadata": {},
   "outputs": [
    {
     "data": {
      "text/html": [
       "<div>\n",
       "<style scoped>\n",
       "    .dataframe tbody tr th:only-of-type {\n",
       "        vertical-align: middle;\n",
       "    }\n",
       "\n",
       "    .dataframe tbody tr th {\n",
       "        vertical-align: top;\n",
       "    }\n",
       "\n",
       "    .dataframe thead th {\n",
       "        text-align: right;\n",
       "    }\n",
       "</style>\n",
       "<table border=\"1\" class=\"dataframe\">\n",
       "  <thead>\n",
       "    <tr style=\"text-align: right;\">\n",
       "      <th></th>\n",
       "      <th>param_class_weight</th>\n",
       "      <th>params</th>\n",
       "      <th>mean_test_precision</th>\n",
       "      <th>mean_train_precision</th>\n",
       "      <th>mean_test_recall</th>\n",
       "      <th>mean_train_recall</th>\n",
       "      <th>mean_test_f1</th>\n",
       "      <th>mean_train_f1</th>\n",
       "    </tr>\n",
       "  </thead>\n",
       "  <tbody>\n",
       "    <tr>\n",
       "      <th>0</th>\n",
       "      <td>{0: 1, 1: 1.0}</td>\n",
       "      <td>{'class_weight': {0: 1, 1: 1.0}}</td>\n",
       "      <td>0.988889</td>\n",
       "      <td>1.000000</td>\n",
       "      <td>0.976389</td>\n",
       "      <td>1.0</td>\n",
       "      <td>0.982222</td>\n",
       "      <td>1.000000</td>\n",
       "    </tr>\n",
       "    <tr>\n",
       "      <th>1</th>\n",
       "      <td>{0: 1, 1: 1.6551724137931034}</td>\n",
       "      <td>{'class_weight': {0: 1, 1: 1.6551724137931034}}</td>\n",
       "      <td>0.988889</td>\n",
       "      <td>1.000000</td>\n",
       "      <td>0.976389</td>\n",
       "      <td>1.0</td>\n",
       "      <td>0.982222</td>\n",
       "      <td>1.000000</td>\n",
       "    </tr>\n",
       "    <tr>\n",
       "      <th>2</th>\n",
       "      <td>{0: 1, 1: 2.310344827586207}</td>\n",
       "      <td>{'class_weight': {0: 1, 1: 2.310344827586207}}</td>\n",
       "      <td>0.988889</td>\n",
       "      <td>0.992174</td>\n",
       "      <td>0.976389</td>\n",
       "      <td>1.0</td>\n",
       "      <td>0.982222</td>\n",
       "      <td>0.996061</td>\n",
       "    </tr>\n",
       "    <tr>\n",
       "      <th>3</th>\n",
       "      <td>{0: 1, 1: 2.9655172413793105}</td>\n",
       "      <td>{'class_weight': {0: 1, 1: 2.9655172413793105}}</td>\n",
       "      <td>0.990000</td>\n",
       "      <td>0.990875</td>\n",
       "      <td>0.987500</td>\n",
       "      <td>1.0</td>\n",
       "      <td>0.988070</td>\n",
       "      <td>0.995408</td>\n",
       "    </tr>\n",
       "    <tr>\n",
       "      <th>4</th>\n",
       "      <td>{0: 1, 1: 3.6206896551724137}</td>\n",
       "      <td>{'class_weight': {0: 1, 1: 3.6206896551724137}}</td>\n",
       "      <td>0.977500</td>\n",
       "      <td>0.989559</td>\n",
       "      <td>0.987500</td>\n",
       "      <td>1.0</td>\n",
       "      <td>0.982237</td>\n",
       "      <td>0.994745</td>\n",
       "    </tr>\n",
       "    <tr>\n",
       "      <th>5</th>\n",
       "      <td>{0: 1, 1: 4.275862068965517}</td>\n",
       "      <td>{'class_weight': {0: 1, 1: 4.275862068965517}}</td>\n",
       "      <td>0.978889</td>\n",
       "      <td>0.989559</td>\n",
       "      <td>1.000000</td>\n",
       "      <td>1.0</td>\n",
       "      <td>0.988854</td>\n",
       "      <td>0.994745</td>\n",
       "    </tr>\n",
       "    <tr>\n",
       "      <th>6</th>\n",
       "      <td>{0: 1, 1: 4.931034482758621}</td>\n",
       "      <td>{'class_weight': {0: 1, 1: 4.931034482758621}}</td>\n",
       "      <td>0.978889</td>\n",
       "      <td>0.989559</td>\n",
       "      <td>1.000000</td>\n",
       "      <td>1.0</td>\n",
       "      <td>0.988854</td>\n",
       "      <td>0.994745</td>\n",
       "    </tr>\n",
       "    <tr>\n",
       "      <th>7</th>\n",
       "      <td>{0: 1, 1: 5.586206896551724}</td>\n",
       "      <td>{'class_weight': {0: 1, 1: 5.586206896551724}}</td>\n",
       "      <td>0.978889</td>\n",
       "      <td>0.989559</td>\n",
       "      <td>1.000000</td>\n",
       "      <td>1.0</td>\n",
       "      <td>0.988854</td>\n",
       "      <td>0.994745</td>\n",
       "    </tr>\n",
       "    <tr>\n",
       "      <th>8</th>\n",
       "      <td>{0: 1, 1: 6.241379310344827}</td>\n",
       "      <td>{'class_weight': {0: 1, 1: 6.241379310344827}}</td>\n",
       "      <td>0.978889</td>\n",
       "      <td>0.989559</td>\n",
       "      <td>1.000000</td>\n",
       "      <td>1.0</td>\n",
       "      <td>0.988854</td>\n",
       "      <td>0.994745</td>\n",
       "    </tr>\n",
       "    <tr>\n",
       "      <th>9</th>\n",
       "      <td>{0: 1, 1: 6.896551724137931}</td>\n",
       "      <td>{'class_weight': {0: 1, 1: 6.896551724137931}}</td>\n",
       "      <td>0.978889</td>\n",
       "      <td>0.989559</td>\n",
       "      <td>1.000000</td>\n",
       "      <td>1.0</td>\n",
       "      <td>0.988854</td>\n",
       "      <td>0.994745</td>\n",
       "    </tr>\n",
       "    <tr>\n",
       "      <th>10</th>\n",
       "      <td>{0: 1, 1: 7.551724137931034}</td>\n",
       "      <td>{'class_weight': {0: 1, 1: 7.551724137931034}}</td>\n",
       "      <td>0.970000</td>\n",
       "      <td>0.989559</td>\n",
       "      <td>1.000000</td>\n",
       "      <td>1.0</td>\n",
       "      <td>0.983626</td>\n",
       "      <td>0.994745</td>\n",
       "    </tr>\n",
       "    <tr>\n",
       "      <th>11</th>\n",
       "      <td>{0: 1, 1: 8.206896551724139}</td>\n",
       "      <td>{'class_weight': {0: 1, 1: 8.206896551724139}}</td>\n",
       "      <td>0.970000</td>\n",
       "      <td>0.989559</td>\n",
       "      <td>1.000000</td>\n",
       "      <td>1.0</td>\n",
       "      <td>0.983626</td>\n",
       "      <td>0.994745</td>\n",
       "    </tr>\n",
       "    <tr>\n",
       "      <th>12</th>\n",
       "      <td>{0: 1, 1: 8.862068965517242}</td>\n",
       "      <td>{'class_weight': {0: 1, 1: 8.862068965517242}}</td>\n",
       "      <td>0.970000</td>\n",
       "      <td>0.989559</td>\n",
       "      <td>1.000000</td>\n",
       "      <td>1.0</td>\n",
       "      <td>0.983626</td>\n",
       "      <td>0.994745</td>\n",
       "    </tr>\n",
       "    <tr>\n",
       "      <th>13</th>\n",
       "      <td>{0: 1, 1: 9.517241379310345}</td>\n",
       "      <td>{'class_weight': {0: 1, 1: 9.517241379310345}}</td>\n",
       "      <td>0.970000</td>\n",
       "      <td>0.989559</td>\n",
       "      <td>1.000000</td>\n",
       "      <td>1.0</td>\n",
       "      <td>0.983626</td>\n",
       "      <td>0.994745</td>\n",
       "    </tr>\n",
       "    <tr>\n",
       "      <th>14</th>\n",
       "      <td>{0: 1, 1: 10.172413793103448}</td>\n",
       "      <td>{'class_weight': {0: 1, 1: 10.172413793103448}}</td>\n",
       "      <td>0.970000</td>\n",
       "      <td>0.989559</td>\n",
       "      <td>1.000000</td>\n",
       "      <td>1.0</td>\n",
       "      <td>0.983626</td>\n",
       "      <td>0.994745</td>\n",
       "    </tr>\n",
       "    <tr>\n",
       "      <th>15</th>\n",
       "      <td>{0: 1, 1: 10.827586206896552}</td>\n",
       "      <td>{'class_weight': {0: 1, 1: 10.827586206896552}}</td>\n",
       "      <td>0.970000</td>\n",
       "      <td>0.988260</td>\n",
       "      <td>1.000000</td>\n",
       "      <td>1.0</td>\n",
       "      <td>0.983626</td>\n",
       "      <td>0.994092</td>\n",
       "    </tr>\n",
       "    <tr>\n",
       "      <th>16</th>\n",
       "      <td>{0: 1, 1: 11.482758620689655}</td>\n",
       "      <td>{'class_weight': {0: 1, 1: 11.482758620689655}}</td>\n",
       "      <td>0.970000</td>\n",
       "      <td>0.988260</td>\n",
       "      <td>1.000000</td>\n",
       "      <td>1.0</td>\n",
       "      <td>0.983626</td>\n",
       "      <td>0.994092</td>\n",
       "    </tr>\n",
       "    <tr>\n",
       "      <th>17</th>\n",
       "      <td>{0: 1, 1: 12.137931034482758}</td>\n",
       "      <td>{'class_weight': {0: 1, 1: 12.137931034482758}}</td>\n",
       "      <td>0.970000</td>\n",
       "      <td>0.988260</td>\n",
       "      <td>1.000000</td>\n",
       "      <td>1.0</td>\n",
       "      <td>0.983626</td>\n",
       "      <td>0.994092</td>\n",
       "    </tr>\n",
       "    <tr>\n",
       "      <th>18</th>\n",
       "      <td>{0: 1, 1: 12.793103448275861}</td>\n",
       "      <td>{'class_weight': {0: 1, 1: 12.793103448275861}}</td>\n",
       "      <td>0.970000</td>\n",
       "      <td>0.988260</td>\n",
       "      <td>1.000000</td>\n",
       "      <td>1.0</td>\n",
       "      <td>0.983626</td>\n",
       "      <td>0.994092</td>\n",
       "    </tr>\n",
       "    <tr>\n",
       "      <th>19</th>\n",
       "      <td>{0: 1, 1: 13.448275862068964}</td>\n",
       "      <td>{'class_weight': {0: 1, 1: 13.448275862068964}}</td>\n",
       "      <td>0.970000</td>\n",
       "      <td>0.988260</td>\n",
       "      <td>1.000000</td>\n",
       "      <td>1.0</td>\n",
       "      <td>0.983626</td>\n",
       "      <td>0.994092</td>\n",
       "    </tr>\n",
       "    <tr>\n",
       "      <th>20</th>\n",
       "      <td>{0: 1, 1: 14.103448275862068}</td>\n",
       "      <td>{'class_weight': {0: 1, 1: 14.103448275862068}}</td>\n",
       "      <td>0.970000</td>\n",
       "      <td>0.988260</td>\n",
       "      <td>1.000000</td>\n",
       "      <td>1.0</td>\n",
       "      <td>0.983626</td>\n",
       "      <td>0.994092</td>\n",
       "    </tr>\n",
       "    <tr>\n",
       "      <th>21</th>\n",
       "      <td>{0: 1, 1: 14.758620689655173}</td>\n",
       "      <td>{'class_weight': {0: 1, 1: 14.758620689655173}}</td>\n",
       "      <td>0.970000</td>\n",
       "      <td>0.988260</td>\n",
       "      <td>1.000000</td>\n",
       "      <td>1.0</td>\n",
       "      <td>0.983626</td>\n",
       "      <td>0.994092</td>\n",
       "    </tr>\n",
       "    <tr>\n",
       "      <th>22</th>\n",
       "      <td>{0: 1, 1: 15.413793103448276}</td>\n",
       "      <td>{'class_weight': {0: 1, 1: 15.413793103448276}}</td>\n",
       "      <td>0.970000</td>\n",
       "      <td>0.988260</td>\n",
       "      <td>1.000000</td>\n",
       "      <td>1.0</td>\n",
       "      <td>0.983626</td>\n",
       "      <td>0.994092</td>\n",
       "    </tr>\n",
       "    <tr>\n",
       "      <th>23</th>\n",
       "      <td>{0: 1, 1: 16.06896551724138}</td>\n",
       "      <td>{'class_weight': {0: 1, 1: 16.06896551724138}}</td>\n",
       "      <td>0.970000</td>\n",
       "      <td>0.988260</td>\n",
       "      <td>1.000000</td>\n",
       "      <td>1.0</td>\n",
       "      <td>0.983626</td>\n",
       "      <td>0.994092</td>\n",
       "    </tr>\n",
       "    <tr>\n",
       "      <th>24</th>\n",
       "      <td>{0: 1, 1: 16.724137931034484}</td>\n",
       "      <td>{'class_weight': {0: 1, 1: 16.724137931034484}}</td>\n",
       "      <td>0.970000</td>\n",
       "      <td>0.988260</td>\n",
       "      <td>1.000000</td>\n",
       "      <td>1.0</td>\n",
       "      <td>0.983626</td>\n",
       "      <td>0.994092</td>\n",
       "    </tr>\n",
       "    <tr>\n",
       "      <th>25</th>\n",
       "      <td>{0: 1, 1: 17.379310344827587}</td>\n",
       "      <td>{'class_weight': {0: 1, 1: 17.379310344827587}}</td>\n",
       "      <td>0.970000</td>\n",
       "      <td>0.988260</td>\n",
       "      <td>1.000000</td>\n",
       "      <td>1.0</td>\n",
       "      <td>0.983626</td>\n",
       "      <td>0.994092</td>\n",
       "    </tr>\n",
       "    <tr>\n",
       "      <th>26</th>\n",
       "      <td>{0: 1, 1: 18.03448275862069}</td>\n",
       "      <td>{'class_weight': {0: 1, 1: 18.03448275862069}}</td>\n",
       "      <td>0.970000</td>\n",
       "      <td>0.988260</td>\n",
       "      <td>1.000000</td>\n",
       "      <td>1.0</td>\n",
       "      <td>0.983626</td>\n",
       "      <td>0.994092</td>\n",
       "    </tr>\n",
       "    <tr>\n",
       "      <th>27</th>\n",
       "      <td>{0: 1, 1: 18.689655172413794}</td>\n",
       "      <td>{'class_weight': {0: 1, 1: 18.689655172413794}}</td>\n",
       "      <td>0.970000</td>\n",
       "      <td>0.988260</td>\n",
       "      <td>1.000000</td>\n",
       "      <td>1.0</td>\n",
       "      <td>0.983626</td>\n",
       "      <td>0.994092</td>\n",
       "    </tr>\n",
       "    <tr>\n",
       "      <th>28</th>\n",
       "      <td>{0: 1, 1: 19.344827586206897}</td>\n",
       "      <td>{'class_weight': {0: 1, 1: 19.344827586206897}}</td>\n",
       "      <td>0.970000</td>\n",
       "      <td>0.988260</td>\n",
       "      <td>1.000000</td>\n",
       "      <td>1.0</td>\n",
       "      <td>0.983626</td>\n",
       "      <td>0.994092</td>\n",
       "    </tr>\n",
       "    <tr>\n",
       "      <th>29</th>\n",
       "      <td>{0: 1, 1: 20.0}</td>\n",
       "      <td>{'class_weight': {0: 1, 1: 20.0}}</td>\n",
       "      <td>0.970000</td>\n",
       "      <td>0.988260</td>\n",
       "      <td>1.000000</td>\n",
       "      <td>1.0</td>\n",
       "      <td>0.983626</td>\n",
       "      <td>0.994092</td>\n",
       "    </tr>\n",
       "  </tbody>\n",
       "</table>\n",
       "</div>"
      ],
      "text/plain": [
       "               param_class_weight   \n",
       "0                  {0: 1, 1: 1.0}  \\\n",
       "1   {0: 1, 1: 1.6551724137931034}   \n",
       "2    {0: 1, 1: 2.310344827586207}   \n",
       "3   {0: 1, 1: 2.9655172413793105}   \n",
       "4   {0: 1, 1: 3.6206896551724137}   \n",
       "5    {0: 1, 1: 4.275862068965517}   \n",
       "6    {0: 1, 1: 4.931034482758621}   \n",
       "7    {0: 1, 1: 5.586206896551724}   \n",
       "8    {0: 1, 1: 6.241379310344827}   \n",
       "9    {0: 1, 1: 6.896551724137931}   \n",
       "10   {0: 1, 1: 7.551724137931034}   \n",
       "11   {0: 1, 1: 8.206896551724139}   \n",
       "12   {0: 1, 1: 8.862068965517242}   \n",
       "13   {0: 1, 1: 9.517241379310345}   \n",
       "14  {0: 1, 1: 10.172413793103448}   \n",
       "15  {0: 1, 1: 10.827586206896552}   \n",
       "16  {0: 1, 1: 11.482758620689655}   \n",
       "17  {0: 1, 1: 12.137931034482758}   \n",
       "18  {0: 1, 1: 12.793103448275861}   \n",
       "19  {0: 1, 1: 13.448275862068964}   \n",
       "20  {0: 1, 1: 14.103448275862068}   \n",
       "21  {0: 1, 1: 14.758620689655173}   \n",
       "22  {0: 1, 1: 15.413793103448276}   \n",
       "23   {0: 1, 1: 16.06896551724138}   \n",
       "24  {0: 1, 1: 16.724137931034484}   \n",
       "25  {0: 1, 1: 17.379310344827587}   \n",
       "26   {0: 1, 1: 18.03448275862069}   \n",
       "27  {0: 1, 1: 18.689655172413794}   \n",
       "28  {0: 1, 1: 19.344827586206897}   \n",
       "29                {0: 1, 1: 20.0}   \n",
       "\n",
       "                                             params  mean_test_precision   \n",
       "0                  {'class_weight': {0: 1, 1: 1.0}}             0.988889  \\\n",
       "1   {'class_weight': {0: 1, 1: 1.6551724137931034}}             0.988889   \n",
       "2    {'class_weight': {0: 1, 1: 2.310344827586207}}             0.988889   \n",
       "3   {'class_weight': {0: 1, 1: 2.9655172413793105}}             0.990000   \n",
       "4   {'class_weight': {0: 1, 1: 3.6206896551724137}}             0.977500   \n",
       "5    {'class_weight': {0: 1, 1: 4.275862068965517}}             0.978889   \n",
       "6    {'class_weight': {0: 1, 1: 4.931034482758621}}             0.978889   \n",
       "7    {'class_weight': {0: 1, 1: 5.586206896551724}}             0.978889   \n",
       "8    {'class_weight': {0: 1, 1: 6.241379310344827}}             0.978889   \n",
       "9    {'class_weight': {0: 1, 1: 6.896551724137931}}             0.978889   \n",
       "10   {'class_weight': {0: 1, 1: 7.551724137931034}}             0.970000   \n",
       "11   {'class_weight': {0: 1, 1: 8.206896551724139}}             0.970000   \n",
       "12   {'class_weight': {0: 1, 1: 8.862068965517242}}             0.970000   \n",
       "13   {'class_weight': {0: 1, 1: 9.517241379310345}}             0.970000   \n",
       "14  {'class_weight': {0: 1, 1: 10.172413793103448}}             0.970000   \n",
       "15  {'class_weight': {0: 1, 1: 10.827586206896552}}             0.970000   \n",
       "16  {'class_weight': {0: 1, 1: 11.482758620689655}}             0.970000   \n",
       "17  {'class_weight': {0: 1, 1: 12.137931034482758}}             0.970000   \n",
       "18  {'class_weight': {0: 1, 1: 12.793103448275861}}             0.970000   \n",
       "19  {'class_weight': {0: 1, 1: 13.448275862068964}}             0.970000   \n",
       "20  {'class_weight': {0: 1, 1: 14.103448275862068}}             0.970000   \n",
       "21  {'class_weight': {0: 1, 1: 14.758620689655173}}             0.970000   \n",
       "22  {'class_weight': {0: 1, 1: 15.413793103448276}}             0.970000   \n",
       "23   {'class_weight': {0: 1, 1: 16.06896551724138}}             0.970000   \n",
       "24  {'class_weight': {0: 1, 1: 16.724137931034484}}             0.970000   \n",
       "25  {'class_weight': {0: 1, 1: 17.379310344827587}}             0.970000   \n",
       "26   {'class_weight': {0: 1, 1: 18.03448275862069}}             0.970000   \n",
       "27  {'class_weight': {0: 1, 1: 18.689655172413794}}             0.970000   \n",
       "28  {'class_weight': {0: 1, 1: 19.344827586206897}}             0.970000   \n",
       "29                {'class_weight': {0: 1, 1: 20.0}}             0.970000   \n",
       "\n",
       "    mean_train_precision  mean_test_recall  mean_train_recall  mean_test_f1   \n",
       "0               1.000000          0.976389                1.0      0.982222  \\\n",
       "1               1.000000          0.976389                1.0      0.982222   \n",
       "2               0.992174          0.976389                1.0      0.982222   \n",
       "3               0.990875          0.987500                1.0      0.988070   \n",
       "4               0.989559          0.987500                1.0      0.982237   \n",
       "5               0.989559          1.000000                1.0      0.988854   \n",
       "6               0.989559          1.000000                1.0      0.988854   \n",
       "7               0.989559          1.000000                1.0      0.988854   \n",
       "8               0.989559          1.000000                1.0      0.988854   \n",
       "9               0.989559          1.000000                1.0      0.988854   \n",
       "10              0.989559          1.000000                1.0      0.983626   \n",
       "11              0.989559          1.000000                1.0      0.983626   \n",
       "12              0.989559          1.000000                1.0      0.983626   \n",
       "13              0.989559          1.000000                1.0      0.983626   \n",
       "14              0.989559          1.000000                1.0      0.983626   \n",
       "15              0.988260          1.000000                1.0      0.983626   \n",
       "16              0.988260          1.000000                1.0      0.983626   \n",
       "17              0.988260          1.000000                1.0      0.983626   \n",
       "18              0.988260          1.000000                1.0      0.983626   \n",
       "19              0.988260          1.000000                1.0      0.983626   \n",
       "20              0.988260          1.000000                1.0      0.983626   \n",
       "21              0.988260          1.000000                1.0      0.983626   \n",
       "22              0.988260          1.000000                1.0      0.983626   \n",
       "23              0.988260          1.000000                1.0      0.983626   \n",
       "24              0.988260          1.000000                1.0      0.983626   \n",
       "25              0.988260          1.000000                1.0      0.983626   \n",
       "26              0.988260          1.000000                1.0      0.983626   \n",
       "27              0.988260          1.000000                1.0      0.983626   \n",
       "28              0.988260          1.000000                1.0      0.983626   \n",
       "29              0.988260          1.000000                1.0      0.983626   \n",
       "\n",
       "    mean_train_f1  \n",
       "0        1.000000  \n",
       "1        1.000000  \n",
       "2        0.996061  \n",
       "3        0.995408  \n",
       "4        0.994745  \n",
       "5        0.994745  \n",
       "6        0.994745  \n",
       "7        0.994745  \n",
       "8        0.994745  \n",
       "9        0.994745  \n",
       "10       0.994745  \n",
       "11       0.994745  \n",
       "12       0.994745  \n",
       "13       0.994745  \n",
       "14       0.994745  \n",
       "15       0.994092  \n",
       "16       0.994092  \n",
       "17       0.994092  \n",
       "18       0.994092  \n",
       "19       0.994092  \n",
       "20       0.994092  \n",
       "21       0.994092  \n",
       "22       0.994092  \n",
       "23       0.994092  \n",
       "24       0.994092  \n",
       "25       0.994092  \n",
       "26       0.994092  \n",
       "27       0.994092  \n",
       "28       0.994092  \n",
       "29       0.994092  "
      ]
     },
     "execution_count": 36,
     "metadata": {},
     "output_type": "execute_result"
    }
   ],
   "source": [
    "df[['param_class_weight', 'params', \n",
    "    'mean_test_precision', 'mean_train_precision', \n",
    "    'mean_test_recall', 'mean_train_recall',\n",
    "    'mean_test_f1', 'mean_train_f1']]\n",
    "\n",
    "# These results are from the first fit, that is, with optimized precision, which is why weights 0:1 and 1:1 are chosen.\n",
    "# Notice how the precision is decreasing"
   ]
  },
  {
   "cell_type": "code",
   "execution_count": 37,
   "metadata": {},
   "outputs": [
    {
     "data": {
      "image/png": "[encoded data removed]",
      "text/plain": [
       "<Figure size 1200x400 with 1 Axes>"
      ]
     },
     "metadata": {},
     "output_type": "display_data"
    }
   ],
   "source": [
    "plt.figure(figsize = (12, 4))\n",
    "for score in ['mean_test_recall', 'mean_test_precision', 'mean_test_f1']:\n",
    "    plt.plot([_[1] for _ in df['param_class_weight']],\n",
    "             df[score],\n",
    "             label = score)\n",
    "plt.legend();"
   ]
  },
  {
   "cell_type": "markdown",
   "metadata": {},
   "source": [
    "- The class weights are on the 'x' axis, and the 3 scores are on the 'y' axis.\n",
    "- If you are looking for balance, the crossing point is the optimal weight (f1_score).\n",
    "- If you are looking to maximize one, its peak point is the goal.\n",
    "    - For 'precision', it's with a 1:1 weight ratio.\n",
    "    - For 'recall', it's a higher weight ratio, between 1:15 and 1:20.\n",
    "    - For 'f1', it's with a 1:1 weight ratio."
   ]
  },
  {
   "cell_type": "code",
   "execution_count": 38,
   "metadata": {},
   "outputs": [],
   "source": [
    "# Unlike .predict, .predict_proba returns the probabilities without the threshold criterion.\n",
    "probs = grid_f1.predict_proba(x_test1)"
   ]
  },
  {
   "cell_type": "code",
   "execution_count": 39,
   "metadata": {},
   "outputs": [
    {
     "name": "stdout",
     "output_type": "stream",
     "text": [
      "(139, 2)\n"
     ]
    }
   ],
   "source": [
    "# There is an array with the probabilities for class 0 and 1, where these are complementary.\n",
    "# We will work with the probabilities of class 1.\n",
    "print(probs.shape)\n",
    "probs_1 = probs[:, 1]"
   ]
  },
  {
   "cell_type": "code",
   "execution_count": 40,
   "metadata": {},
   "outputs": [],
   "source": [
    "fpr, tpr, thresholds = roc_curve(y_test1, probs_1)"
   ]
  },
  {
   "cell_type": "code",
   "execution_count": 41,
   "metadata": {},
   "outputs": [
    {
     "data": {
      "image/png": "[encoded data removed]",
      "text/plain": [
       "<Figure size 800x550 with 1 Axes>"
      ]
     },
     "metadata": {},
     "output_type": "display_data"
    }
   ],
   "source": [
    "# Plot the ROC curve\n",
    "plt.plot(fpr, tpr)\n",
    "plt.plot([0, 1], [0, 1], 'k--')  # Plot the random guess line\n",
    "plt.xlabel('False Positive Rate')\n",
    "plt.ylabel('True Positive Rate')\n",
    "plt.title('Receiver Operating Characteristic (ROC) Curve')\n",
    "plt.show()"
   ]
  },
  {
   "cell_type": "code",
   "execution_count": 42,
   "metadata": {},
   "outputs": [],
   "source": [
    "def print_score(label, prediction, train=True):\n",
    "    if train:\n",
    "        clf_report = pd.DataFrame(classification_report(label, prediction, output_dict=True))\n",
    "        print(\"Train Result:\\n==========================================================================\")\n",
    "        print(\"__________________________________________________________________________\")\n",
    "        print(f\"Classification Report:\\n{clf_report}\")\n",
    "        print(\"__________________________________________________________________________\")\n",
    "        print(f\"Confusion Matrix: \\n {confusion_matrix(label, prediction)}\\n\")\n",
    "        \n",
    "    elif train==False:\n",
    "        clf_report = pd.DataFrame(classification_report(label, prediction, output_dict=True))\n",
    "        print(\"Test Result:\\n==========================================================================\")        \n",
    "        print(\"__________________________________________________________________________\")\n",
    "        print(f\"Classification Report:\\n{clf_report}\")\n",
    "        print(\"__________________________________________________________________________\")\n",
    "        print(f\"Confusion Matrix: \\n {confusion_matrix(label, prediction)}\\n\")"
   ]
  },
  {
   "cell_type": "code",
   "execution_count": 43,
   "metadata": {},
   "outputs": [],
   "source": [
    "# Confussion Matrix Function\n",
    "def CM(y_test, y_pred):\n",
    "    \n",
    "    # Confussion Matrix\n",
    "    cm = confusion_matrix(y_test, y_pred)\n",
    "    \n",
    "    names = ['True Neg','False Pos','False Neg','True Pos']\n",
    "    counts = [value for value in cm.flatten()]\n",
    "    percentages = ['{0:.2%}'.format(value) for value in cm.flatten()/np.sum(cm)]\n",
    "    labels = [f'{v1}\\n{v2}\\n{v3}' for v1, v2, v3 in zip(names, counts, percentages)]\n",
    "    labels = np.asarray(labels).reshape(2, 2)\n",
    "    \n",
    "    sns.heatmap(cm, annot = labels, cmap = 'Blues', fmt ='')"
   ]
  },
  {
   "cell_type": "markdown",
   "metadata": {},
   "source": [
    "<h3> <font color= #847ACC> Case 1- Optimizing Precision </h3>"
   ]
  },
  {
   "cell_type": "code",
   "execution_count": 44,
   "metadata": {},
   "outputs": [],
   "source": [
    "prec_train_pred = grid_prec.predict(x_train1)\n",
    "prec_test_pred = grid_prec.predict(x_test1)"
   ]
  },
  {
   "cell_type": "code",
   "execution_count": 45,
   "metadata": {},
   "outputs": [
    {
     "name": "stdout",
     "output_type": "stream",
     "text": [
      "Train Result:\n",
      "==========================================================================\n",
      "__________________________________________________________________________\n",
      "Classification Report:\n",
      "                    0          1  accuracy   macro avg  weighted avg\n",
      "precision    1.000000   0.988235  0.996094    0.994118      0.996140\n",
      "recall       0.994186   1.000000  0.996094    0.997093      0.996094\n",
      "f1-score     0.997085   0.994083  0.996094    0.995584      0.996100\n",
      "support    172.000000  84.000000  0.996094  256.000000    256.000000\n",
      "__________________________________________________________________________\n",
      "Confusion Matrix: \n",
      " [[171   1]\n",
      " [  0  84]]\n",
      "\n",
      "Test Result:\n",
      "==========================================================================\n",
      "__________________________________________________________________________\n",
      "Classification Report:\n",
      "              0     1  accuracy  macro avg  weighted avg\n",
      "precision   1.0   1.0       1.0        1.0           1.0\n",
      "recall      1.0   1.0       1.0        1.0           1.0\n",
      "f1-score    1.0   1.0       1.0        1.0           1.0\n",
      "support    92.0  47.0       1.0      139.0         139.0\n",
      "__________________________________________________________________________\n",
      "Confusion Matrix: \n",
      " [[92  0]\n",
      " [ 0 47]]\n",
      "\n"
     ]
    }
   ],
   "source": [
    "print_score(y_train1, prec_train_pred, train=True)\n",
    "print_score(y_test1, prec_test_pred, train=False)"
   ]
  },
  {
   "cell_type": "code",
   "execution_count": 46,
   "metadata": {},
   "outputs": [
    {
     "data": {
      "image/png": "[encoded data removed]",
      "text/plain": [
       "<Figure size 800x550 with 2 Axes>"
      ]
     },
     "metadata": {},
     "output_type": "display_data"
    }
   ],
   "source": [
    "CM(y_test1, prec_test_pred)"
   ]
  },
  {
   "cell_type": "code",
   "execution_count": null,
   "metadata": {},
   "outputs": [],
   "source": []
  },
  {
   "cell_type": "code",
   "execution_count": null,
   "metadata": {},
   "outputs": [],
   "source": []
  },
  {
   "cell_type": "code",
   "execution_count": null,
   "metadata": {},
   "outputs": [],
   "source": []
  },
  {
   "cell_type": "code",
   "execution_count": null,
   "metadata": {},
   "outputs": [],
   "source": []
  },
  {
   "cell_type": "code",
   "execution_count": null,
   "metadata": {},
   "outputs": [],
   "source": []
  },
  {
   "cell_type": "code",
   "execution_count": null,
   "metadata": {},
   "outputs": [],
   "source": []
  },
  {
   "cell_type": "code",
   "execution_count": null,
   "metadata": {},
   "outputs": [],
   "source": []
  },
  {
   "cell_type": "code",
   "execution_count": null,
   "metadata": {},
   "outputs": [],
   "source": []
  },
  {
   "cell_type": "code",
   "execution_count": null,
   "metadata": {},
   "outputs": [],
   "source": []
  },
  {
   "cell_type": "code",
   "execution_count": null,
   "metadata": {},
   "outputs": [],
   "source": []
  },
  {
   "cell_type": "code",
   "execution_count": null,
   "metadata": {},
   "outputs": [],
   "source": []
  },
  {
   "cell_type": "code",
   "execution_count": null,
   "metadata": {},
   "outputs": [],
   "source": []
  },
  {
   "cell_type": "code",
   "execution_count": null,
   "metadata": {},
   "outputs": [],
   "source": []
  },
  {
   "cell_type": "code",
   "execution_count": null,
   "metadata": {},
   "outputs": [],
   "source": []
  },
  {
   "cell_type": "code",
   "execution_count": null,
   "metadata": {},
   "outputs": [],
   "source": []
  },
  {
   "cell_type": "code",
   "execution_count": null,
   "metadata": {},
   "outputs": [],
   "source": []
  },
  {
   "cell_type": "code",
   "execution_count": null,
   "metadata": {},
   "outputs": [],
   "source": []
  },
  {
   "cell_type": "code",
   "execution_count": null,
   "metadata": {},
   "outputs": [],
   "source": []
  },
  {
   "cell_type": "code",
   "execution_count": null,
   "metadata": {},
   "outputs": [],
   "source": []
  },
  {
   "cell_type": "code",
   "execution_count": 47,
   "metadata": {},
   "outputs": [
    {
     "name": "stdout",
     "output_type": "stream",
     "text": [
      "Total runtime: 13.82 seconds\n"
     ]
    }
   ],
   "source": [
    "end_time = time.time()\n",
    "total_time = end_time - start_time\n",
    "print(f\"Total runtime: {total_time:.2f} seconds\")"
   ]
  }
 ],
 "metadata": {
  "kernelspec": {
   "display_name": "Python 3 (ipykernel)",
   "language": "python",
   "name": "python3"
  },
  "language_info": {
   "codemirror_mode": {
    "name": "ipython",
    "version": 3
   },
   "file_extension": ".py",
   "mimetype": "text/x-python",
   "name": "python",
   "nbconvert_exporter": "python",
   "pygments_lexer": "ipython3",
   "version": "3.10.11"
  }
 },
 "nbformat": 4,
 "nbformat_minor": 5
}
